{
 "cells": [
  {
   "cell_type": "markdown",
   "metadata": {},
   "source": [
    "####  Loading Libraries"
   ]
  },
  {
   "cell_type": "code",
   "execution_count": null,
   "metadata": {},
   "outputs": [],
   "source": [
    "library(Boruta)\n",
    "library(caret)\n",
    "library(randomForest)\n",
    "library(e1071)"
   ]
  },
  {
   "cell_type": "code",
   "execution_count": 30,
   "metadata": {},
   "outputs": [
    {
     "name": "stderr",
     "output_type": "stream",
     "text": [
      "Warning message:\n",
      "\"package 'Boruta' was built under R version 3.4.4\"Loading required package: ranger\n",
      "Warning message:\n",
      "\"package 'ranger' was built under R version 3.4.4\"\n",
      "Attaching package: 'ranger'\n",
      "\n",
      "The following object is masked from 'package:randomForest':\n",
      "\n",
      "    importance\n",
      "\n"
     ]
    }
   ],
   "source": [
    "library(Boruta)"
   ]
  },
  {
   "cell_type": "markdown",
   "metadata": {},
   "source": [
    "#### Importing the Data"
   ]
  },
  {
   "cell_type": "code",
   "execution_count": 1,
   "metadata": {},
   "outputs": [],
   "source": [
    "data<-read.csv('data2.csv')\n"
   ]
  },
  {
   "cell_type": "code",
   "execution_count": 46,
   "metadata": {
    "scrolled": true
   },
   "outputs": [],
   "source": [
    "#Viewing The data\n",
    "#head(data,20)"
   ]
  },
  {
   "cell_type": "code",
   "execution_count": 11,
   "metadata": {},
   "outputs": [],
   "source": [
    "#Viewing The Variables\n",
    "str(data)"
   ]
  },
  {
   "cell_type": "markdown",
   "metadata": {},
   "source": [
    "#### Finding Factor Variables"
   ]
  },
  {
   "cell_type": "code",
   "execution_count": 12,
   "metadata": {},
   "outputs": [],
   "source": [
    "lapply(data,function(x)unique(x))"
   ]
  },
  {
   "cell_type": "code",
   "execution_count": 13,
   "metadata": {},
   "outputs": [],
   "source": [
    "lapply(data,function(x)length(unique(x)))"
   ]
  },
  {
   "cell_type": "code",
   "execution_count": 1,
   "metadata": {},
   "outputs": [],
   "source": [
    "#summary(data)"
   ]
  },
  {
   "cell_type": "markdown",
   "metadata": {},
   "source": [
    "From the summary above,it is observed that age has a minimum of 0 which gives an evidence that there are errors in the source of the data.We also have encoded factors. The next step is to transform the classes of some of the variables into factors."
   ]
  },
  {
   "cell_type": "markdown",
   "metadata": {},
   "source": [
    "#### Changing Variables To Factors"
   ]
  },
  {
   "cell_type": "code",
   "execution_count": null,
   "metadata": {},
   "outputs": [],
   "source": [
    "f <- c('def','inc_brac4','inc_brac3','inc_brac2','inc_brac1','income_missing','kin_missing','credit_score_m')\n",
    "factrs <-as.data.frame(lapply(data[,f],as.factor))"
   ]
  },
  {
   "cell_type": "code",
   "execution_count": 15,
   "metadata": {},
   "outputs": [
    {
     "data": {
      "text/html": [
       "'factor'"
      ],
      "text/latex": [
       "'factor'"
      ],
      "text/markdown": [
       "'factor'"
      ],
      "text/plain": [
       "[1] \"factor\""
      ]
     },
     "metadata": {},
     "output_type": "display_data"
    }
   ],
   "source": [
    "class(factrs$inc_brac4)"
   ]
  },
  {
   "cell_type": "markdown",
   "metadata": {},
   "source": [
    "##### Checking the converted factors"
   ]
  },
  {
   "cell_type": "code",
   "execution_count": 2,
   "metadata": {},
   "outputs": [],
   "source": [
    "#head(factrs)"
   ]
  },
  {
   "cell_type": "markdown",
   "metadata": {},
   "source": [
    "#### Selecting numeric variables"
   ]
  },
  {
   "cell_type": "code",
   "execution_count": 8,
   "metadata": {},
   "outputs": [],
   "source": [
    "df <-subset(data,select=-c(def,inc_brac4,inc_brac3,inc_brac2,\n",
    "                           inc_brac1,income_missing,\n",
    "                           kin_missing,credit_score_m))"
   ]
  },
  {
   "cell_type": "markdown",
   "metadata": {},
   "source": [
    "#### Combinig Factor Variables with numeric variables and removing the row with an empty set"
   ]
  },
  {
   "cell_type": "code",
   "execution_count": 9,
   "metadata": {},
   "outputs": [],
   "source": [
    "combined_data <- na.omit(cbind.data.frame\n",
    "                         (factrs,df))"
   ]
  },
  {
   "cell_type": "code",
   "execution_count": 21,
   "metadata": {},
   "outputs": [
    {
     "data": {
      "text/html": [
       "<table>\n",
       "<thead><tr><th></th><th scope=col>def</th><th scope=col>inc_brac4</th><th scope=col>inc_brac3</th><th scope=col>inc_brac2</th><th scope=col>inc_brac1</th><th scope=col>income_missing</th><th scope=col>kin_missing</th><th scope=col>credit_score_m</th><th scope=col>age</th><th scope=col>credit_score_avg</th><th scope=col>...</th><th scope=col>exp.inc</th><th scope=col>rec_exp_r</th><th scope=col>d_exp_r</th><th scope=col>inc_exp_r</th><th scope=col>t_exp_r</th><th scope=col>w_exp_r</th><th scope=col>s_exp_r</th><th scope=col>p_exp_r</th><th scope=col>a_exp_r</th><th scope=col>total_sent</th></tr></thead>\n",
       "<tbody>\n",
       "\t<tr><th scope=row>2</th><td>1         </td><td>0         </td><td>0         </td><td>0         </td><td>1         </td><td>0         </td><td>0         </td><td>1         </td><td>26        </td><td> 0.00     </td><td>...       </td><td>2340.286  </td><td>0.4201884 </td><td>0.1351681 </td><td>0.5553565 </td><td>0.4306924 </td><td>0.2545938 </td><td>0.27595473</td><td>0.0271422 </td><td>0.01161686</td><td>41757.321 </td></tr>\n",
       "\t<tr><th scope=row>3</th><td>0         </td><td>0         </td><td>0         </td><td>0         </td><td>0         </td><td>1         </td><td>1         </td><td>0         </td><td>29        </td><td>16.06     </td><td>...       </td><td>   0.000  </td><td>0.0000000 </td><td>0.0000000 </td><td>0.0000000 </td><td>0.0000000 </td><td>0.0000000 </td><td>0.00000000</td><td>0.0000000 </td><td>0.00000000</td><td>    0.000 </td></tr>\n",
       "\t<tr><th scope=row>4</th><td>1         </td><td>0         </td><td>0         </td><td>0         </td><td>0         </td><td>1         </td><td>1         </td><td>0         </td><td>46        </td><td> 0.00     </td><td>...       </td><td>   0.000  </td><td>0.0000000 </td><td>0.0000000 </td><td>0.0000000 </td><td>0.0000000 </td><td>0.0000000 </td><td>0.00000000</td><td>0.0000000 </td><td>0.00000000</td><td>    0.000 </td></tr>\n",
       "\t<tr><th scope=row>5</th><td>0         </td><td>0         </td><td>0         </td><td>0         </td><td>1         </td><td>0         </td><td>0         </td><td>1         </td><td>47        </td><td> 0.00     </td><td>...       </td><td>   0.000  </td><td>0.0000000 </td><td>0.0000000 </td><td>0.0000000 </td><td>0.0000000 </td><td>0.0000000 </td><td>0.00000000</td><td>0.0000000 </td><td>0.00000000</td><td>    0.000 </td></tr>\n",
       "\t<tr><th scope=row>6</th><td>0         </td><td>0         </td><td>0         </td><td>0         </td><td>0         </td><td>0         </td><td>0         </td><td>1         </td><td>29        </td><td> 0.00     </td><td>...       </td><td>1467.143  </td><td>0.6893527 </td><td>0.0000000 </td><td>0.6893527 </td><td>0.0000000 </td><td>0.9376891 </td><td>0.06231095</td><td>0.0000000 </td><td>0.00000000</td><td> 8460.714 </td></tr>\n",
       "\t<tr><th scope=row>7</th><td>1         </td><td>0         </td><td>0         </td><td>0         </td><td>0         </td><td>1         </td><td>1         </td><td>0         </td><td>23        </td><td>14.32     </td><td>...       </td><td>   0.000  </td><td>0.0000000 </td><td>0.0000000 </td><td>0.0000000 </td><td>0.0000000 </td><td>0.0000000 </td><td>0.00000000</td><td>0.0000000 </td><td>0.00000000</td><td>    0.000 </td></tr>\n",
       "</tbody>\n",
       "</table>\n"
      ],
      "text/latex": [
       "\\begin{tabular}{r|lllllllllllllllllllllllllllllllllllllllllllllllllllllllllll}\n",
       "  & def & inc\\_brac4 & inc\\_brac3 & inc\\_brac2 & inc\\_brac1 & income\\_missing & kin\\_missing & credit\\_score\\_m & age & credit\\_score\\_avg & ... & exp.inc & rec\\_exp\\_r & d\\_exp\\_r & inc\\_exp\\_r & t\\_exp\\_r & w\\_exp\\_r & s\\_exp\\_r & p\\_exp\\_r & a\\_exp\\_r & total\\_sent\\\\\n",
       "\\hline\n",
       "\t2 & 1          & 0          & 0          & 0          & 1          & 0          & 0          & 1          & 26         &  0.00      & ...        & 2340.286   & 0.4201884  & 0.1351681  & 0.5553565  & 0.4306924  & 0.2545938  & 0.27595473 & 0.0271422  & 0.01161686 & 41757.321 \\\\\n",
       "\t3 & 0          & 0          & 0          & 0          & 0          & 1          & 1          & 0          & 29         & 16.06      & ...        &    0.000   & 0.0000000  & 0.0000000  & 0.0000000  & 0.0000000  & 0.0000000  & 0.00000000 & 0.0000000  & 0.00000000 &     0.000 \\\\\n",
       "\t4 & 1          & 0          & 0          & 0          & 0          & 1          & 1          & 0          & 46         &  0.00      & ...        &    0.000   & 0.0000000  & 0.0000000  & 0.0000000  & 0.0000000  & 0.0000000  & 0.00000000 & 0.0000000  & 0.00000000 &     0.000 \\\\\n",
       "\t5 & 0          & 0          & 0          & 0          & 1          & 0          & 0          & 1          & 47         &  0.00      & ...        &    0.000   & 0.0000000  & 0.0000000  & 0.0000000  & 0.0000000  & 0.0000000  & 0.00000000 & 0.0000000  & 0.00000000 &     0.000 \\\\\n",
       "\t6 & 0          & 0          & 0          & 0          & 0          & 0          & 0          & 1          & 29         &  0.00      & ...        & 1467.143   & 0.6893527  & 0.0000000  & 0.6893527  & 0.0000000  & 0.9376891  & 0.06231095 & 0.0000000  & 0.00000000 &  8460.714 \\\\\n",
       "\t7 & 1          & 0          & 0          & 0          & 0          & 1          & 1          & 0          & 23         & 14.32      & ...        &    0.000   & 0.0000000  & 0.0000000  & 0.0000000  & 0.0000000  & 0.0000000  & 0.00000000 & 0.0000000  & 0.00000000 &     0.000 \\\\\n",
       "\\end{tabular}\n"
      ],
      "text/markdown": [
       "\n",
       "| <!--/--> | def | inc_brac4 | inc_brac3 | inc_brac2 | inc_brac1 | income_missing | kin_missing | credit_score_m | age | credit_score_avg | ... | exp.inc | rec_exp_r | d_exp_r | inc_exp_r | t_exp_r | w_exp_r | s_exp_r | p_exp_r | a_exp_r | total_sent | \n",
       "|---|---|---|---|---|---|\n",
       "| 2 | 1          | 0          | 0          | 0          | 1          | 0          | 0          | 1          | 26         |  0.00      | ...        | 2340.286   | 0.4201884  | 0.1351681  | 0.5553565  | 0.4306924  | 0.2545938  | 0.27595473 | 0.0271422  | 0.01161686 | 41757.321  | \n",
       "| 3 | 0          | 0          | 0          | 0          | 0          | 1          | 1          | 0          | 29         | 16.06      | ...        |    0.000   | 0.0000000  | 0.0000000  | 0.0000000  | 0.0000000  | 0.0000000  | 0.00000000 | 0.0000000  | 0.00000000 |     0.000  | \n",
       "| 4 | 1          | 0          | 0          | 0          | 0          | 1          | 1          | 0          | 46         |  0.00      | ...        |    0.000   | 0.0000000  | 0.0000000  | 0.0000000  | 0.0000000  | 0.0000000  | 0.00000000 | 0.0000000  | 0.00000000 |     0.000  | \n",
       "| 5 | 0          | 0          | 0          | 0          | 1          | 0          | 0          | 1          | 47         |  0.00      | ...        |    0.000   | 0.0000000  | 0.0000000  | 0.0000000  | 0.0000000  | 0.0000000  | 0.00000000 | 0.0000000  | 0.00000000 |     0.000  | \n",
       "| 6 | 0          | 0          | 0          | 0          | 0          | 0          | 0          | 1          | 29         |  0.00      | ...        | 1467.143   | 0.6893527  | 0.0000000  | 0.6893527  | 0.0000000  | 0.9376891  | 0.06231095 | 0.0000000  | 0.00000000 |  8460.714  | \n",
       "| 7 | 1          | 0          | 0          | 0          | 0          | 1          | 1          | 0          | 23         | 14.32      | ...        |    0.000   | 0.0000000  | 0.0000000  | 0.0000000  | 0.0000000  | 0.0000000  | 0.00000000 | 0.0000000  | 0.00000000 |     0.000  | \n",
       "\n",
       "\n"
      ],
      "text/plain": [
       "  def inc_brac4 inc_brac3 inc_brac2 inc_brac1 income_missing kin_missing\n",
       "2 1   0         0         0         1         0              0          \n",
       "3 0   0         0         0         0         1              1          \n",
       "4 1   0         0         0         0         1              1          \n",
       "5 0   0         0         0         1         0              0          \n",
       "6 0   0         0         0         0         0              0          \n",
       "7 1   0         0         0         0         1              1          \n",
       "  credit_score_m age credit_score_avg ... exp.inc  rec_exp_r d_exp_r  \n",
       "2 1              26   0.00            ... 2340.286 0.4201884 0.1351681\n",
       "3 0              29  16.06            ...    0.000 0.0000000 0.0000000\n",
       "4 0              46   0.00            ...    0.000 0.0000000 0.0000000\n",
       "5 1              47   0.00            ...    0.000 0.0000000 0.0000000\n",
       "6 1              29   0.00            ... 1467.143 0.6893527 0.0000000\n",
       "7 0              23  14.32            ...    0.000 0.0000000 0.0000000\n",
       "  inc_exp_r t_exp_r   w_exp_r   s_exp_r    p_exp_r   a_exp_r    total_sent\n",
       "2 0.5553565 0.4306924 0.2545938 0.27595473 0.0271422 0.01161686 41757.321 \n",
       "3 0.0000000 0.0000000 0.0000000 0.00000000 0.0000000 0.00000000     0.000 \n",
       "4 0.0000000 0.0000000 0.0000000 0.00000000 0.0000000 0.00000000     0.000 \n",
       "5 0.0000000 0.0000000 0.0000000 0.00000000 0.0000000 0.00000000     0.000 \n",
       "6 0.6893527 0.0000000 0.9376891 0.06231095 0.0000000 0.00000000  8460.714 \n",
       "7 0.0000000 0.0000000 0.0000000 0.00000000 0.0000000 0.00000000     0.000 "
      ]
     },
     "metadata": {},
     "output_type": "display_data"
    }
   ],
   "source": [
    "#Printing The new data\n",
    "head(combined_data)"
   ]
  },
  {
   "cell_type": "markdown",
   "metadata": {},
   "source": [
    "#### Getting Correlation of Numerical Variables"
   ]
  },
  {
   "cell_type": "code",
   "execution_count": 21,
   "metadata": {},
   "outputs": [
    {
     "data": {
      "text/html": [
       "<table>\n",
       "<thead><tr><th></th><th scope=col>age</th><th scope=col>credit_score_avg</th><th scope=col>credit_score</th><th scope=col>deposit_min_avg</th><th scope=col>deposit_max_avg</th><th scope=col>total_deposit</th><th scope=col>monthly_deposit_avg</th><th scope=col>min_rec_avg</th><th scope=col>max_rec_avg</th><th scope=col>total_rec</th><th scope=col>...</th><th scope=col>exp.inc</th><th scope=col>rec_exp_r</th><th scope=col>d_exp_r</th><th scope=col>inc_exp_r</th><th scope=col>t_exp_r</th><th scope=col>w_exp_r</th><th scope=col>s_exp_r</th><th scope=col>p_exp_r</th><th scope=col>a_exp_r</th><th scope=col>total_sent</th></tr></thead>\n",
       "<tbody>\n",
       "\t<tr><th scope=row>age</th><td> TRUE</td><td>FALSE</td><td>FALSE</td><td>FALSE</td><td>FALSE</td><td>FALSE</td><td>FALSE</td><td>FALSE</td><td>FALSE</td><td>FALSE</td><td>...  </td><td>FALSE</td><td>FALSE</td><td>FALSE</td><td>FALSE</td><td>FALSE</td><td>FALSE</td><td>FALSE</td><td>FALSE</td><td>FALSE</td><td>FALSE</td></tr>\n",
       "\t<tr><th scope=row>credit_score_avg</th><td>FALSE</td><td> TRUE</td><td> TRUE</td><td>FALSE</td><td>FALSE</td><td>FALSE</td><td>FALSE</td><td>FALSE</td><td>FALSE</td><td>FALSE</td><td>...  </td><td>FALSE</td><td>FALSE</td><td>FALSE</td><td>FALSE</td><td>FALSE</td><td>FALSE</td><td>FALSE</td><td>FALSE</td><td>FALSE</td><td>FALSE</td></tr>\n",
       "\t<tr><th scope=row>credit_score</th><td>FALSE</td><td> TRUE</td><td> TRUE</td><td>FALSE</td><td>FALSE</td><td>FALSE</td><td>FALSE</td><td>FALSE</td><td>FALSE</td><td>FALSE</td><td>...  </td><td>FALSE</td><td>FALSE</td><td>FALSE</td><td>FALSE</td><td>FALSE</td><td>FALSE</td><td>FALSE</td><td>FALSE</td><td>FALSE</td><td>FALSE</td></tr>\n",
       "\t<tr><th scope=row>deposit_min_avg</th><td>FALSE</td><td>FALSE</td><td>FALSE</td><td> TRUE</td><td>FALSE</td><td>FALSE</td><td>FALSE</td><td>FALSE</td><td>FALSE</td><td>FALSE</td><td>...  </td><td>FALSE</td><td>FALSE</td><td>FALSE</td><td>FALSE</td><td>FALSE</td><td>FALSE</td><td>FALSE</td><td>FALSE</td><td>FALSE</td><td>FALSE</td></tr>\n",
       "\t<tr><th scope=row>deposit_max_avg</th><td>FALSE</td><td>FALSE</td><td>FALSE</td><td>FALSE</td><td> TRUE</td><td> TRUE</td><td> TRUE</td><td>FALSE</td><td>FALSE</td><td>FALSE</td><td>...  </td><td>FALSE</td><td>FALSE</td><td>FALSE</td><td>FALSE</td><td>FALSE</td><td>FALSE</td><td>FALSE</td><td>FALSE</td><td>FALSE</td><td>FALSE</td></tr>\n",
       "\t<tr><th scope=row>total_deposit</th><td>FALSE</td><td>FALSE</td><td>FALSE</td><td>FALSE</td><td> TRUE</td><td> TRUE</td><td> TRUE</td><td>FALSE</td><td>FALSE</td><td>FALSE</td><td>...  </td><td>FALSE</td><td>FALSE</td><td>FALSE</td><td>FALSE</td><td>FALSE</td><td>FALSE</td><td>FALSE</td><td>FALSE</td><td>FALSE</td><td>FALSE</td></tr>\n",
       "\t<tr><th scope=row>monthly_deposit_avg</th><td>FALSE</td><td>FALSE</td><td>FALSE</td><td>FALSE</td><td> TRUE</td><td> TRUE</td><td> TRUE</td><td>FALSE</td><td>FALSE</td><td>FALSE</td><td>...  </td><td>FALSE</td><td>FALSE</td><td>FALSE</td><td>FALSE</td><td>FALSE</td><td>FALSE</td><td>FALSE</td><td>FALSE</td><td>FALSE</td><td>FALSE</td></tr>\n",
       "\t<tr><th scope=row>min_rec_avg</th><td>FALSE</td><td>FALSE</td><td>FALSE</td><td>FALSE</td><td>FALSE</td><td>FALSE</td><td>FALSE</td><td> TRUE</td><td>FALSE</td><td>FALSE</td><td>...  </td><td>FALSE</td><td>FALSE</td><td>FALSE</td><td>FALSE</td><td>FALSE</td><td>FALSE</td><td>FALSE</td><td>FALSE</td><td>FALSE</td><td>FALSE</td></tr>\n",
       "\t<tr><th scope=row>max_rec_avg</th><td>FALSE</td><td>FALSE</td><td>FALSE</td><td>FALSE</td><td>FALSE</td><td>FALSE</td><td>FALSE</td><td>FALSE</td><td> TRUE</td><td> TRUE</td><td>...  </td><td>FALSE</td><td>FALSE</td><td>FALSE</td><td>FALSE</td><td>FALSE</td><td>FALSE</td><td>FALSE</td><td>FALSE</td><td>FALSE</td><td>FALSE</td></tr>\n",
       "\t<tr><th scope=row>total_rec</th><td>FALSE</td><td>FALSE</td><td>FALSE</td><td>FALSE</td><td>FALSE</td><td>FALSE</td><td>FALSE</td><td>FALSE</td><td> TRUE</td><td> TRUE</td><td>...  </td><td>FALSE</td><td>FALSE</td><td>FALSE</td><td>FALSE</td><td>FALSE</td><td>FALSE</td><td>FALSE</td><td>FALSE</td><td>FALSE</td><td> TRUE</td></tr>\n",
       "\t<tr><th scope=row>monthly_rec_avg</th><td>FALSE</td><td>FALSE</td><td>FALSE</td><td>FALSE</td><td>FALSE</td><td>FALSE</td><td>FALSE</td><td>FALSE</td><td> TRUE</td><td> TRUE</td><td>...  </td><td>FALSE</td><td>FALSE</td><td>FALSE</td><td>FALSE</td><td>FALSE</td><td>FALSE</td><td>FALSE</td><td>FALSE</td><td>FALSE</td><td> TRUE</td></tr>\n",
       "\t<tr><th scope=row>avg_monthly_inc</th><td>FALSE</td><td>FALSE</td><td>FALSE</td><td>FALSE</td><td>FALSE</td><td>FALSE</td><td>FALSE</td><td>FALSE</td><td> TRUE</td><td> TRUE</td><td>...  </td><td>FALSE</td><td>FALSE</td><td>FALSE</td><td>FALSE</td><td>FALSE</td><td>FALSE</td><td>FALSE</td><td>FALSE</td><td>FALSE</td><td> TRUE</td></tr>\n",
       "\t<tr><th scope=row>rec_inc_r</th><td>FALSE</td><td>FALSE</td><td>FALSE</td><td>FALSE</td><td>FALSE</td><td>FALSE</td><td>FALSE</td><td>FALSE</td><td>FALSE</td><td>FALSE</td><td>...  </td><td>FALSE</td><td>FALSE</td><td>FALSE</td><td>FALSE</td><td>FALSE</td><td>FALSE</td><td>FALSE</td><td>FALSE</td><td>FALSE</td><td>FALSE</td></tr>\n",
       "\t<tr><th scope=row>d_inc_r</th><td>FALSE</td><td>FALSE</td><td>FALSE</td><td>FALSE</td><td>FALSE</td><td>FALSE</td><td>FALSE</td><td>FALSE</td><td>FALSE</td><td>FALSE</td><td>...  </td><td>FALSE</td><td>FALSE</td><td>FALSE</td><td>FALSE</td><td>FALSE</td><td>FALSE</td><td>FALSE</td><td>FALSE</td><td>FALSE</td><td>FALSE</td></tr>\n",
       "\t<tr><th scope=row>airtime_min_avg</th><td>FALSE</td><td>FALSE</td><td>FALSE</td><td>FALSE</td><td>FALSE</td><td>FALSE</td><td>FALSE</td><td>FALSE</td><td>FALSE</td><td>FALSE</td><td>...  </td><td>FALSE</td><td>FALSE</td><td>FALSE</td><td>FALSE</td><td>FALSE</td><td>FALSE</td><td>FALSE</td><td>FALSE</td><td>FALSE</td><td>FALSE</td></tr>\n",
       "\t<tr><th scope=row>airtime_max_avg</th><td>FALSE</td><td>FALSE</td><td>FALSE</td><td>FALSE</td><td>FALSE</td><td>FALSE</td><td>FALSE</td><td>FALSE</td><td>FALSE</td><td>FALSE</td><td>...  </td><td>FALSE</td><td>FALSE</td><td>FALSE</td><td>FALSE</td><td>FALSE</td><td>FALSE</td><td>FALSE</td><td>FALSE</td><td>FALSE</td><td>FALSE</td></tr>\n",
       "\t<tr><th scope=row>total_airtime</th><td>FALSE</td><td>FALSE</td><td>FALSE</td><td>FALSE</td><td>FALSE</td><td>FALSE</td><td>FALSE</td><td>FALSE</td><td>FALSE</td><td>FALSE</td><td>...  </td><td>FALSE</td><td>FALSE</td><td>FALSE</td><td>FALSE</td><td>FALSE</td><td>FALSE</td><td>FALSE</td><td>FALSE</td><td>FALSE</td><td>FALSE</td></tr>\n",
       "\t<tr><th scope=row>monthly_airtime_avg</th><td>FALSE</td><td>FALSE</td><td>FALSE</td><td>FALSE</td><td>FALSE</td><td>FALSE</td><td>FALSE</td><td>FALSE</td><td>FALSE</td><td>FALSE</td><td>...  </td><td>FALSE</td><td>FALSE</td><td>FALSE</td><td>FALSE</td><td>FALSE</td><td>FALSE</td><td>FALSE</td><td>FALSE</td><td>FALSE</td><td>FALSE</td></tr>\n",
       "\t<tr><th scope=row>a_inc_r</th><td>FALSE</td><td>FALSE</td><td>FALSE</td><td>FALSE</td><td>FALSE</td><td>FALSE</td><td>FALSE</td><td>FALSE</td><td>FALSE</td><td>FALSE</td><td>...  </td><td>FALSE</td><td>FALSE</td><td>FALSE</td><td>FALSE</td><td>FALSE</td><td>FALSE</td><td>FALSE</td><td>FALSE</td><td>FALSE</td><td>FALSE</td></tr>\n",
       "\t<tr><th scope=row>avg_min_paybill</th><td>FALSE</td><td>FALSE</td><td>FALSE</td><td>FALSE</td><td>FALSE</td><td>FALSE</td><td>FALSE</td><td>FALSE</td><td>FALSE</td><td>FALSE</td><td>...  </td><td>FALSE</td><td>FALSE</td><td>FALSE</td><td>FALSE</td><td>FALSE</td><td>FALSE</td><td>FALSE</td><td>FALSE</td><td>FALSE</td><td>FALSE</td></tr>\n",
       "\t<tr><th scope=row>avg_max_paybill</th><td>FALSE</td><td>FALSE</td><td>FALSE</td><td>FALSE</td><td>FALSE</td><td>FALSE</td><td>FALSE</td><td>FALSE</td><td>FALSE</td><td>FALSE</td><td>...  </td><td>FALSE</td><td>FALSE</td><td>FALSE</td><td>FALSE</td><td>FALSE</td><td>FALSE</td><td>FALSE</td><td>FALSE</td><td>FALSE</td><td>FALSE</td></tr>\n",
       "\t<tr><th scope=row>total_paybill</th><td>FALSE</td><td>FALSE</td><td>FALSE</td><td>FALSE</td><td>FALSE</td><td>FALSE</td><td>FALSE</td><td>FALSE</td><td>FALSE</td><td>FALSE</td><td>...  </td><td>FALSE</td><td>FALSE</td><td>FALSE</td><td>FALSE</td><td>FALSE</td><td>FALSE</td><td>FALSE</td><td>FALSE</td><td>FALSE</td><td>FALSE</td></tr>\n",
       "\t<tr><th scope=row>monthly_paybill_avg</th><td>FALSE</td><td>FALSE</td><td>FALSE</td><td>FALSE</td><td>FALSE</td><td>FALSE</td><td>FALSE</td><td>FALSE</td><td>FALSE</td><td>FALSE</td><td>...  </td><td>FALSE</td><td>FALSE</td><td>FALSE</td><td>FALSE</td><td>FALSE</td><td>FALSE</td><td>FALSE</td><td>FALSE</td><td>FALSE</td><td>FALSE</td></tr>\n",
       "\t<tr><th scope=row>p_inc_r</th><td>FALSE</td><td>FALSE</td><td>FALSE</td><td>FALSE</td><td>FALSE</td><td>FALSE</td><td>FALSE</td><td>FALSE</td><td>FALSE</td><td>FALSE</td><td>...  </td><td>FALSE</td><td>FALSE</td><td>FALSE</td><td>FALSE</td><td>FALSE</td><td>FALSE</td><td>FALSE</td><td>FALSE</td><td>FALSE</td><td>FALSE</td></tr>\n",
       "\t<tr><th scope=row>avg_min_transfered</th><td>FALSE</td><td>FALSE</td><td>FALSE</td><td>FALSE</td><td>FALSE</td><td>FALSE</td><td>FALSE</td><td>FALSE</td><td>FALSE</td><td>FALSE</td><td>...  </td><td>FALSE</td><td>FALSE</td><td>FALSE</td><td>FALSE</td><td>FALSE</td><td>FALSE</td><td>FALSE</td><td>FALSE</td><td>FALSE</td><td>FALSE</td></tr>\n",
       "\t<tr><th scope=row>avg_max_transfered</th><td>FALSE</td><td>FALSE</td><td>FALSE</td><td>FALSE</td><td>FALSE</td><td>FALSE</td><td>FALSE</td><td>FALSE</td><td>FALSE</td><td>FALSE</td><td>...  </td><td> TRUE</td><td>FALSE</td><td>FALSE</td><td>FALSE</td><td>FALSE</td><td>FALSE</td><td>FALSE</td><td>FALSE</td><td>FALSE</td><td>FALSE</td></tr>\n",
       "\t<tr><th scope=row>total_transfered</th><td>FALSE</td><td>FALSE</td><td>FALSE</td><td>FALSE</td><td>FALSE</td><td>FALSE</td><td>FALSE</td><td>FALSE</td><td>FALSE</td><td>FALSE</td><td>...  </td><td> TRUE</td><td>FALSE</td><td>FALSE</td><td>FALSE</td><td>FALSE</td><td>FALSE</td><td>FALSE</td><td>FALSE</td><td>FALSE</td><td>FALSE</td></tr>\n",
       "\t<tr><th scope=row>avg_monthly_transferred</th><td>FALSE</td><td>FALSE</td><td>FALSE</td><td>FALSE</td><td>FALSE</td><td>FALSE</td><td>FALSE</td><td>FALSE</td><td>FALSE</td><td>FALSE</td><td>...  </td><td> TRUE</td><td>FALSE</td><td>FALSE</td><td>FALSE</td><td>FALSE</td><td>FALSE</td><td>FALSE</td><td>FALSE</td><td>FALSE</td><td>FALSE</td></tr>\n",
       "\t<tr><th scope=row>t_inc_r</th><td>FALSE</td><td>FALSE</td><td>FALSE</td><td>FALSE</td><td>FALSE</td><td>FALSE</td><td>FALSE</td><td>FALSE</td><td>FALSE</td><td>FALSE</td><td>...  </td><td>FALSE</td><td>FALSE</td><td>FALSE</td><td>FALSE</td><td>FALSE</td><td>FALSE</td><td>FALSE</td><td>FALSE</td><td>FALSE</td><td>FALSE</td></tr>\n",
       "\t<tr><th scope=row>avg_min_withdrawals</th><td>FALSE</td><td>FALSE</td><td>FALSE</td><td>FALSE</td><td>FALSE</td><td>FALSE</td><td>FALSE</td><td>FALSE</td><td>FALSE</td><td>FALSE</td><td>...  </td><td>FALSE</td><td>FALSE</td><td>FALSE</td><td>FALSE</td><td>FALSE</td><td>FALSE</td><td>FALSE</td><td>FALSE</td><td>FALSE</td><td>FALSE</td></tr>\n",
       "\t<tr><th scope=row>total_withdrawals</th><td>FALSE</td><td>FALSE</td><td>FALSE</td><td>FALSE</td><td>FALSE</td><td>FALSE</td><td>FALSE</td><td>FALSE</td><td>FALSE</td><td> TRUE</td><td>...  </td><td>FALSE</td><td>FALSE</td><td>FALSE</td><td>FALSE</td><td>FALSE</td><td>FALSE</td><td>FALSE</td><td>FALSE</td><td>FALSE</td><td>FALSE</td></tr>\n",
       "\t<tr><th scope=row>avg_withdrawls</th><td>FALSE</td><td>FALSE</td><td>FALSE</td><td>FALSE</td><td>FALSE</td><td>FALSE</td><td>FALSE</td><td>FALSE</td><td>FALSE</td><td> TRUE</td><td>...  </td><td>FALSE</td><td>FALSE</td><td>FALSE</td><td>FALSE</td><td>FALSE</td><td>FALSE</td><td>FALSE</td><td>FALSE</td><td>FALSE</td><td>FALSE</td></tr>\n",
       "\t<tr><th scope=row>w_inc_r</th><td>FALSE</td><td>FALSE</td><td>FALSE</td><td>FALSE</td><td>FALSE</td><td>FALSE</td><td>FALSE</td><td>FALSE</td><td>FALSE</td><td>FALSE</td><td>...  </td><td>FALSE</td><td>FALSE</td><td>FALSE</td><td>FALSE</td><td>FALSE</td><td>FALSE</td><td>FALSE</td><td>FALSE</td><td>FALSE</td><td>FALSE</td></tr>\n",
       "\t<tr><th scope=row>w_dep_r</th><td>FALSE</td><td>FALSE</td><td>FALSE</td><td>FALSE</td><td>FALSE</td><td>FALSE</td><td>FALSE</td><td>FALSE</td><td>FALSE</td><td>FALSE</td><td>...  </td><td>FALSE</td><td>FALSE</td><td>FALSE</td><td>FALSE</td><td>FALSE</td><td>FALSE</td><td>FALSE</td><td>FALSE</td><td>FALSE</td><td>FALSE</td></tr>\n",
       "\t<tr><th scope=row>avg_min_sent</th><td>FALSE</td><td>FALSE</td><td>FALSE</td><td>FALSE</td><td>FALSE</td><td>FALSE</td><td>FALSE</td><td>FALSE</td><td>FALSE</td><td>FALSE</td><td>...  </td><td>FALSE</td><td>FALSE</td><td>FALSE</td><td>FALSE</td><td>FALSE</td><td>FALSE</td><td>FALSE</td><td>FALSE</td><td>FALSE</td><td>FALSE</td></tr>\n",
       "\t<tr><th scope=row>avg_max_sent</th><td>FALSE</td><td>FALSE</td><td>FALSE</td><td>FALSE</td><td> TRUE</td><td>FALSE</td><td>FALSE</td><td>FALSE</td><td> TRUE</td><td>FALSE</td><td>...  </td><td>FALSE</td><td>FALSE</td><td>FALSE</td><td>FALSE</td><td>FALSE</td><td>FALSE</td><td>FALSE</td><td>FALSE</td><td>FALSE</td><td> TRUE</td></tr>\n",
       "\t<tr><th scope=row>avg_monthly_sent</th><td>FALSE</td><td>FALSE</td><td>FALSE</td><td>FALSE</td><td>FALSE</td><td>FALSE</td><td>FALSE</td><td>FALSE</td><td>FALSE</td><td> TRUE</td><td>...  </td><td>FALSE</td><td>FALSE</td><td>FALSE</td><td>FALSE</td><td>FALSE</td><td>FALSE</td><td>FALSE</td><td>FALSE</td><td>FALSE</td><td> TRUE</td></tr>\n",
       "\t<tr><th scope=row>s_inc_r</th><td>FALSE</td><td>FALSE</td><td>FALSE</td><td>FALSE</td><td>FALSE</td><td>FALSE</td><td>FALSE</td><td>FALSE</td><td>FALSE</td><td>FALSE</td><td>...  </td><td>FALSE</td><td>FALSE</td><td>FALSE</td><td>FALSE</td><td>FALSE</td><td>FALSE</td><td>FALSE</td><td>FALSE</td><td>FALSE</td><td>FALSE</td></tr>\n",
       "\t<tr><th scope=row>s_rec_r</th><td>FALSE</td><td>FALSE</td><td>FALSE</td><td>FALSE</td><td>FALSE</td><td>FALSE</td><td>FALSE</td><td>FALSE</td><td>FALSE</td><td>FALSE</td><td>...  </td><td>FALSE</td><td>FALSE</td><td>FALSE</td><td>FALSE</td><td>FALSE</td><td>FALSE</td><td>FALSE</td><td>FALSE</td><td>FALSE</td><td>FALSE</td></tr>\n",
       "\t<tr><th scope=row>monthly_exp_avg</th><td>FALSE</td><td>FALSE</td><td>FALSE</td><td>FALSE</td><td>FALSE</td><td>FALSE</td><td>FALSE</td><td>FALSE</td><td> TRUE</td><td> TRUE</td><td>...  </td><td>FALSE</td><td>FALSE</td><td>FALSE</td><td>FALSE</td><td>FALSE</td><td>FALSE</td><td>FALSE</td><td>FALSE</td><td>FALSE</td><td> TRUE</td></tr>\n",
       "\t<tr><th scope=row>inc.exp</th><td>FALSE</td><td>FALSE</td><td>FALSE</td><td>FALSE</td><td>FALSE</td><td>FALSE</td><td>FALSE</td><td>FALSE</td><td>FALSE</td><td>FALSE</td><td>...  </td><td>FALSE</td><td>FALSE</td><td>FALSE</td><td>FALSE</td><td>FALSE</td><td>FALSE</td><td>FALSE</td><td>FALSE</td><td>FALSE</td><td>FALSE</td></tr>\n",
       "\t<tr><th scope=row>exp.inc</th><td>FALSE</td><td>FALSE</td><td>FALSE</td><td>FALSE</td><td>FALSE</td><td>FALSE</td><td>FALSE</td><td>FALSE</td><td>FALSE</td><td>FALSE</td><td>...  </td><td> TRUE</td><td>FALSE</td><td>FALSE</td><td>FALSE</td><td>FALSE</td><td>FALSE</td><td>FALSE</td><td>FALSE</td><td>FALSE</td><td>FALSE</td></tr>\n",
       "\t<tr><th scope=row>rec_exp_r</th><td>FALSE</td><td>FALSE</td><td>FALSE</td><td>FALSE</td><td>FALSE</td><td>FALSE</td><td>FALSE</td><td>FALSE</td><td>FALSE</td><td>FALSE</td><td>...  </td><td>FALSE</td><td> TRUE</td><td>FALSE</td><td>FALSE</td><td>FALSE</td><td>FALSE</td><td>FALSE</td><td>FALSE</td><td>FALSE</td><td>FALSE</td></tr>\n",
       "\t<tr><th scope=row>d_exp_r</th><td>FALSE</td><td>FALSE</td><td>FALSE</td><td>FALSE</td><td>FALSE</td><td>FALSE</td><td>FALSE</td><td>FALSE</td><td>FALSE</td><td>FALSE</td><td>...  </td><td>FALSE</td><td>FALSE</td><td> TRUE</td><td> TRUE</td><td>FALSE</td><td>FALSE</td><td>FALSE</td><td>FALSE</td><td>FALSE</td><td>FALSE</td></tr>\n",
       "\t<tr><th scope=row>inc_exp_r</th><td>FALSE</td><td>FALSE</td><td>FALSE</td><td>FALSE</td><td>FALSE</td><td>FALSE</td><td>FALSE</td><td>FALSE</td><td>FALSE</td><td>FALSE</td><td>...  </td><td>FALSE</td><td>FALSE</td><td> TRUE</td><td> TRUE</td><td>FALSE</td><td>FALSE</td><td>FALSE</td><td>FALSE</td><td>FALSE</td><td>FALSE</td></tr>\n",
       "\t<tr><th scope=row>t_exp_r</th><td>FALSE</td><td>FALSE</td><td>FALSE</td><td>FALSE</td><td>FALSE</td><td>FALSE</td><td>FALSE</td><td>FALSE</td><td>FALSE</td><td>FALSE</td><td>...  </td><td>FALSE</td><td>FALSE</td><td>FALSE</td><td>FALSE</td><td> TRUE</td><td>FALSE</td><td>FALSE</td><td>FALSE</td><td>FALSE</td><td>FALSE</td></tr>\n",
       "\t<tr><th scope=row>w_exp_r</th><td>FALSE</td><td>FALSE</td><td>FALSE</td><td>FALSE</td><td>FALSE</td><td>FALSE</td><td>FALSE</td><td>FALSE</td><td>FALSE</td><td>FALSE</td><td>...  </td><td>FALSE</td><td>FALSE</td><td>FALSE</td><td>FALSE</td><td>FALSE</td><td> TRUE</td><td>FALSE</td><td>FALSE</td><td>FALSE</td><td>FALSE</td></tr>\n",
       "\t<tr><th scope=row>s_exp_r</th><td>FALSE</td><td>FALSE</td><td>FALSE</td><td>FALSE</td><td>FALSE</td><td>FALSE</td><td>FALSE</td><td>FALSE</td><td>FALSE</td><td>FALSE</td><td>...  </td><td>FALSE</td><td>FALSE</td><td>FALSE</td><td>FALSE</td><td>FALSE</td><td>FALSE</td><td> TRUE</td><td>FALSE</td><td>FALSE</td><td>FALSE</td></tr>\n",
       "\t<tr><th scope=row>p_exp_r</th><td>FALSE</td><td>FALSE</td><td>FALSE</td><td>FALSE</td><td>FALSE</td><td>FALSE</td><td>FALSE</td><td>FALSE</td><td>FALSE</td><td>FALSE</td><td>...  </td><td>FALSE</td><td>FALSE</td><td>FALSE</td><td>FALSE</td><td>FALSE</td><td>FALSE</td><td>FALSE</td><td> TRUE</td><td>FALSE</td><td>FALSE</td></tr>\n",
       "\t<tr><th scope=row>a_exp_r</th><td>FALSE</td><td>FALSE</td><td>FALSE</td><td>FALSE</td><td>FALSE</td><td>FALSE</td><td>FALSE</td><td>FALSE</td><td>FALSE</td><td>FALSE</td><td>...  </td><td>FALSE</td><td>FALSE</td><td>FALSE</td><td>FALSE</td><td>FALSE</td><td>FALSE</td><td>FALSE</td><td>FALSE</td><td> TRUE</td><td>FALSE</td></tr>\n",
       "\t<tr><th scope=row>total_sent</th><td>FALSE</td><td>FALSE</td><td>FALSE</td><td>FALSE</td><td>FALSE</td><td>FALSE</td><td>FALSE</td><td>FALSE</td><td>FALSE</td><td> TRUE</td><td>...  </td><td>FALSE</td><td>FALSE</td><td>FALSE</td><td>FALSE</td><td>FALSE</td><td>FALSE</td><td>FALSE</td><td>FALSE</td><td>FALSE</td><td> TRUE</td></tr>\n",
       "</tbody>\n",
       "</table>\n"
      ],
      "text/latex": [
       "\\begin{tabular}{r|lllllllllllllllllllllllllllllllllllllllllllllllllll}\n",
       "  & age & credit\\_score\\_avg & credit\\_score & deposit\\_min\\_avg & deposit\\_max\\_avg & total\\_deposit & monthly\\_deposit\\_avg & min\\_rec\\_avg & max\\_rec\\_avg & total\\_rec & ... & exp.inc & rec\\_exp\\_r & d\\_exp\\_r & inc\\_exp\\_r & t\\_exp\\_r & w\\_exp\\_r & s\\_exp\\_r & p\\_exp\\_r & a\\_exp\\_r & total\\_sent\\\\\n",
       "\\hline\n",
       "\tage &  TRUE & FALSE & FALSE & FALSE & FALSE & FALSE & FALSE & FALSE & FALSE & FALSE & ...   & FALSE & FALSE & FALSE & FALSE & FALSE & FALSE & FALSE & FALSE & FALSE & FALSE\\\\\n",
       "\tcredit\\_score\\_avg & FALSE &  TRUE &  TRUE & FALSE & FALSE & FALSE & FALSE & FALSE & FALSE & FALSE & ...   & FALSE & FALSE & FALSE & FALSE & FALSE & FALSE & FALSE & FALSE & FALSE & FALSE\\\\\n",
       "\tcredit\\_score & FALSE &  TRUE &  TRUE & FALSE & FALSE & FALSE & FALSE & FALSE & FALSE & FALSE & ...   & FALSE & FALSE & FALSE & FALSE & FALSE & FALSE & FALSE & FALSE & FALSE & FALSE\\\\\n",
       "\tdeposit\\_min\\_avg & FALSE & FALSE & FALSE &  TRUE & FALSE & FALSE & FALSE & FALSE & FALSE & FALSE & ...   & FALSE & FALSE & FALSE & FALSE & FALSE & FALSE & FALSE & FALSE & FALSE & FALSE\\\\\n",
       "\tdeposit\\_max\\_avg & FALSE & FALSE & FALSE & FALSE &  TRUE &  TRUE &  TRUE & FALSE & FALSE & FALSE & ...   & FALSE & FALSE & FALSE & FALSE & FALSE & FALSE & FALSE & FALSE & FALSE & FALSE\\\\\n",
       "\ttotal\\_deposit & FALSE & FALSE & FALSE & FALSE &  TRUE &  TRUE &  TRUE & FALSE & FALSE & FALSE & ...   & FALSE & FALSE & FALSE & FALSE & FALSE & FALSE & FALSE & FALSE & FALSE & FALSE\\\\\n",
       "\tmonthly\\_deposit\\_avg & FALSE & FALSE & FALSE & FALSE &  TRUE &  TRUE &  TRUE & FALSE & FALSE & FALSE & ...   & FALSE & FALSE & FALSE & FALSE & FALSE & FALSE & FALSE & FALSE & FALSE & FALSE\\\\\n",
       "\tmin\\_rec\\_avg & FALSE & FALSE & FALSE & FALSE & FALSE & FALSE & FALSE &  TRUE & FALSE & FALSE & ...   & FALSE & FALSE & FALSE & FALSE & FALSE & FALSE & FALSE & FALSE & FALSE & FALSE\\\\\n",
       "\tmax\\_rec\\_avg & FALSE & FALSE & FALSE & FALSE & FALSE & FALSE & FALSE & FALSE &  TRUE &  TRUE & ...   & FALSE & FALSE & FALSE & FALSE & FALSE & FALSE & FALSE & FALSE & FALSE & FALSE\\\\\n",
       "\ttotal\\_rec & FALSE & FALSE & FALSE & FALSE & FALSE & FALSE & FALSE & FALSE &  TRUE &  TRUE & ...   & FALSE & FALSE & FALSE & FALSE & FALSE & FALSE & FALSE & FALSE & FALSE &  TRUE\\\\\n",
       "\tmonthly\\_rec\\_avg & FALSE & FALSE & FALSE & FALSE & FALSE & FALSE & FALSE & FALSE &  TRUE &  TRUE & ...   & FALSE & FALSE & FALSE & FALSE & FALSE & FALSE & FALSE & FALSE & FALSE &  TRUE\\\\\n",
       "\tavg\\_monthly\\_inc & FALSE & FALSE & FALSE & FALSE & FALSE & FALSE & FALSE & FALSE &  TRUE &  TRUE & ...   & FALSE & FALSE & FALSE & FALSE & FALSE & FALSE & FALSE & FALSE & FALSE &  TRUE\\\\\n",
       "\trec\\_inc\\_r & FALSE & FALSE & FALSE & FALSE & FALSE & FALSE & FALSE & FALSE & FALSE & FALSE & ...   & FALSE & FALSE & FALSE & FALSE & FALSE & FALSE & FALSE & FALSE & FALSE & FALSE\\\\\n",
       "\td\\_inc\\_r & FALSE & FALSE & FALSE & FALSE & FALSE & FALSE & FALSE & FALSE & FALSE & FALSE & ...   & FALSE & FALSE & FALSE & FALSE & FALSE & FALSE & FALSE & FALSE & FALSE & FALSE\\\\\n",
       "\tairtime\\_min\\_avg & FALSE & FALSE & FALSE & FALSE & FALSE & FALSE & FALSE & FALSE & FALSE & FALSE & ...   & FALSE & FALSE & FALSE & FALSE & FALSE & FALSE & FALSE & FALSE & FALSE & FALSE\\\\\n",
       "\tairtime\\_max\\_avg & FALSE & FALSE & FALSE & FALSE & FALSE & FALSE & FALSE & FALSE & FALSE & FALSE & ...   & FALSE & FALSE & FALSE & FALSE & FALSE & FALSE & FALSE & FALSE & FALSE & FALSE\\\\\n",
       "\ttotal\\_airtime & FALSE & FALSE & FALSE & FALSE & FALSE & FALSE & FALSE & FALSE & FALSE & FALSE & ...   & FALSE & FALSE & FALSE & FALSE & FALSE & FALSE & FALSE & FALSE & FALSE & FALSE\\\\\n",
       "\tmonthly\\_airtime\\_avg & FALSE & FALSE & FALSE & FALSE & FALSE & FALSE & FALSE & FALSE & FALSE & FALSE & ...   & FALSE & FALSE & FALSE & FALSE & FALSE & FALSE & FALSE & FALSE & FALSE & FALSE\\\\\n",
       "\ta\\_inc\\_r & FALSE & FALSE & FALSE & FALSE & FALSE & FALSE & FALSE & FALSE & FALSE & FALSE & ...   & FALSE & FALSE & FALSE & FALSE & FALSE & FALSE & FALSE & FALSE & FALSE & FALSE\\\\\n",
       "\tavg\\_min\\_paybill & FALSE & FALSE & FALSE & FALSE & FALSE & FALSE & FALSE & FALSE & FALSE & FALSE & ...   & FALSE & FALSE & FALSE & FALSE & FALSE & FALSE & FALSE & FALSE & FALSE & FALSE\\\\\n",
       "\tavg\\_max\\_paybill & FALSE & FALSE & FALSE & FALSE & FALSE & FALSE & FALSE & FALSE & FALSE & FALSE & ...   & FALSE & FALSE & FALSE & FALSE & FALSE & FALSE & FALSE & FALSE & FALSE & FALSE\\\\\n",
       "\ttotal\\_paybill & FALSE & FALSE & FALSE & FALSE & FALSE & FALSE & FALSE & FALSE & FALSE & FALSE & ...   & FALSE & FALSE & FALSE & FALSE & FALSE & FALSE & FALSE & FALSE & FALSE & FALSE\\\\\n",
       "\tmonthly\\_paybill\\_avg & FALSE & FALSE & FALSE & FALSE & FALSE & FALSE & FALSE & FALSE & FALSE & FALSE & ...   & FALSE & FALSE & FALSE & FALSE & FALSE & FALSE & FALSE & FALSE & FALSE & FALSE\\\\\n",
       "\tp\\_inc\\_r & FALSE & FALSE & FALSE & FALSE & FALSE & FALSE & FALSE & FALSE & FALSE & FALSE & ...   & FALSE & FALSE & FALSE & FALSE & FALSE & FALSE & FALSE & FALSE & FALSE & FALSE\\\\\n",
       "\tavg\\_min\\_transfered & FALSE & FALSE & FALSE & FALSE & FALSE & FALSE & FALSE & FALSE & FALSE & FALSE & ...   & FALSE & FALSE & FALSE & FALSE & FALSE & FALSE & FALSE & FALSE & FALSE & FALSE\\\\\n",
       "\tavg\\_max\\_transfered & FALSE & FALSE & FALSE & FALSE & FALSE & FALSE & FALSE & FALSE & FALSE & FALSE & ...   &  TRUE & FALSE & FALSE & FALSE & FALSE & FALSE & FALSE & FALSE & FALSE & FALSE\\\\\n",
       "\ttotal\\_transfered & FALSE & FALSE & FALSE & FALSE & FALSE & FALSE & FALSE & FALSE & FALSE & FALSE & ...   &  TRUE & FALSE & FALSE & FALSE & FALSE & FALSE & FALSE & FALSE & FALSE & FALSE\\\\\n",
       "\tavg\\_monthly\\_transferred & FALSE & FALSE & FALSE & FALSE & FALSE & FALSE & FALSE & FALSE & FALSE & FALSE & ...   &  TRUE & FALSE & FALSE & FALSE & FALSE & FALSE & FALSE & FALSE & FALSE & FALSE\\\\\n",
       "\tt\\_inc\\_r & FALSE & FALSE & FALSE & FALSE & FALSE & FALSE & FALSE & FALSE & FALSE & FALSE & ...   & FALSE & FALSE & FALSE & FALSE & FALSE & FALSE & FALSE & FALSE & FALSE & FALSE\\\\\n",
       "\tavg\\_min\\_withdrawals & FALSE & FALSE & FALSE & FALSE & FALSE & FALSE & FALSE & FALSE & FALSE & FALSE & ...   & FALSE & FALSE & FALSE & FALSE & FALSE & FALSE & FALSE & FALSE & FALSE & FALSE\\\\\n",
       "\ttotal\\_withdrawals & FALSE & FALSE & FALSE & FALSE & FALSE & FALSE & FALSE & FALSE & FALSE &  TRUE & ...   & FALSE & FALSE & FALSE & FALSE & FALSE & FALSE & FALSE & FALSE & FALSE & FALSE\\\\\n",
       "\tavg\\_withdrawls & FALSE & FALSE & FALSE & FALSE & FALSE & FALSE & FALSE & FALSE & FALSE &  TRUE & ...   & FALSE & FALSE & FALSE & FALSE & FALSE & FALSE & FALSE & FALSE & FALSE & FALSE\\\\\n",
       "\tw\\_inc\\_r & FALSE & FALSE & FALSE & FALSE & FALSE & FALSE & FALSE & FALSE & FALSE & FALSE & ...   & FALSE & FALSE & FALSE & FALSE & FALSE & FALSE & FALSE & FALSE & FALSE & FALSE\\\\\n",
       "\tw\\_dep\\_r & FALSE & FALSE & FALSE & FALSE & FALSE & FALSE & FALSE & FALSE & FALSE & FALSE & ...   & FALSE & FALSE & FALSE & FALSE & FALSE & FALSE & FALSE & FALSE & FALSE & FALSE\\\\\n",
       "\tavg\\_min\\_sent & FALSE & FALSE & FALSE & FALSE & FALSE & FALSE & FALSE & FALSE & FALSE & FALSE & ...   & FALSE & FALSE & FALSE & FALSE & FALSE & FALSE & FALSE & FALSE & FALSE & FALSE\\\\\n",
       "\tavg\\_max\\_sent & FALSE & FALSE & FALSE & FALSE &  TRUE & FALSE & FALSE & FALSE &  TRUE & FALSE & ...   & FALSE & FALSE & FALSE & FALSE & FALSE & FALSE & FALSE & FALSE & FALSE &  TRUE\\\\\n",
       "\tavg\\_monthly\\_sent & FALSE & FALSE & FALSE & FALSE & FALSE & FALSE & FALSE & FALSE & FALSE &  TRUE & ...   & FALSE & FALSE & FALSE & FALSE & FALSE & FALSE & FALSE & FALSE & FALSE &  TRUE\\\\\n",
       "\ts\\_inc\\_r & FALSE & FALSE & FALSE & FALSE & FALSE & FALSE & FALSE & FALSE & FALSE & FALSE & ...   & FALSE & FALSE & FALSE & FALSE & FALSE & FALSE & FALSE & FALSE & FALSE & FALSE\\\\\n",
       "\ts\\_rec\\_r & FALSE & FALSE & FALSE & FALSE & FALSE & FALSE & FALSE & FALSE & FALSE & FALSE & ...   & FALSE & FALSE & FALSE & FALSE & FALSE & FALSE & FALSE & FALSE & FALSE & FALSE\\\\\n",
       "\tmonthly\\_exp\\_avg & FALSE & FALSE & FALSE & FALSE & FALSE & FALSE & FALSE & FALSE &  TRUE &  TRUE & ...   & FALSE & FALSE & FALSE & FALSE & FALSE & FALSE & FALSE & FALSE & FALSE &  TRUE\\\\\n",
       "\tinc.exp & FALSE & FALSE & FALSE & FALSE & FALSE & FALSE & FALSE & FALSE & FALSE & FALSE & ...   & FALSE & FALSE & FALSE & FALSE & FALSE & FALSE & FALSE & FALSE & FALSE & FALSE\\\\\n",
       "\texp.inc & FALSE & FALSE & FALSE & FALSE & FALSE & FALSE & FALSE & FALSE & FALSE & FALSE & ...   &  TRUE & FALSE & FALSE & FALSE & FALSE & FALSE & FALSE & FALSE & FALSE & FALSE\\\\\n",
       "\trec\\_exp\\_r & FALSE & FALSE & FALSE & FALSE & FALSE & FALSE & FALSE & FALSE & FALSE & FALSE & ...   & FALSE &  TRUE & FALSE & FALSE & FALSE & FALSE & FALSE & FALSE & FALSE & FALSE\\\\\n",
       "\td\\_exp\\_r & FALSE & FALSE & FALSE & FALSE & FALSE & FALSE & FALSE & FALSE & FALSE & FALSE & ...   & FALSE & FALSE &  TRUE &  TRUE & FALSE & FALSE & FALSE & FALSE & FALSE & FALSE\\\\\n",
       "\tinc\\_exp\\_r & FALSE & FALSE & FALSE & FALSE & FALSE & FALSE & FALSE & FALSE & FALSE & FALSE & ...   & FALSE & FALSE &  TRUE &  TRUE & FALSE & FALSE & FALSE & FALSE & FALSE & FALSE\\\\\n",
       "\tt\\_exp\\_r & FALSE & FALSE & FALSE & FALSE & FALSE & FALSE & FALSE & FALSE & FALSE & FALSE & ...   & FALSE & FALSE & FALSE & FALSE &  TRUE & FALSE & FALSE & FALSE & FALSE & FALSE\\\\\n",
       "\tw\\_exp\\_r & FALSE & FALSE & FALSE & FALSE & FALSE & FALSE & FALSE & FALSE & FALSE & FALSE & ...   & FALSE & FALSE & FALSE & FALSE & FALSE &  TRUE & FALSE & FALSE & FALSE & FALSE\\\\\n",
       "\ts\\_exp\\_r & FALSE & FALSE & FALSE & FALSE & FALSE & FALSE & FALSE & FALSE & FALSE & FALSE & ...   & FALSE & FALSE & FALSE & FALSE & FALSE & FALSE &  TRUE & FALSE & FALSE & FALSE\\\\\n",
       "\tp\\_exp\\_r & FALSE & FALSE & FALSE & FALSE & FALSE & FALSE & FALSE & FALSE & FALSE & FALSE & ...   & FALSE & FALSE & FALSE & FALSE & FALSE & FALSE & FALSE &  TRUE & FALSE & FALSE\\\\\n",
       "\ta\\_exp\\_r & FALSE & FALSE & FALSE & FALSE & FALSE & FALSE & FALSE & FALSE & FALSE & FALSE & ...   & FALSE & FALSE & FALSE & FALSE & FALSE & FALSE & FALSE & FALSE &  TRUE & FALSE\\\\\n",
       "\ttotal\\_sent & FALSE & FALSE & FALSE & FALSE & FALSE & FALSE & FALSE & FALSE & FALSE &  TRUE & ...   & FALSE & FALSE & FALSE & FALSE & FALSE & FALSE & FALSE & FALSE & FALSE &  TRUE\\\\\n",
       "\\end{tabular}\n"
      ],
      "text/markdown": [
       "\n",
       "| <!--/--> | age | credit_score_avg | credit_score | deposit_min_avg | deposit_max_avg | total_deposit | monthly_deposit_avg | min_rec_avg | max_rec_avg | total_rec | ... | exp.inc | rec_exp_r | d_exp_r | inc_exp_r | t_exp_r | w_exp_r | s_exp_r | p_exp_r | a_exp_r | total_sent | \n",
       "|---|---|---|---|---|---|---|---|---|---|---|---|---|---|---|---|---|---|---|---|---|---|---|---|---|---|---|---|---|---|---|---|---|---|---|---|---|---|---|---|---|---|---|---|---|---|---|---|---|---|---|\n",
       "| age |  TRUE | FALSE | FALSE | FALSE | FALSE | FALSE | FALSE | FALSE | FALSE | FALSE | ...   | FALSE | FALSE | FALSE | FALSE | FALSE | FALSE | FALSE | FALSE | FALSE | FALSE | \n",
       "| credit_score_avg | FALSE |  TRUE |  TRUE | FALSE | FALSE | FALSE | FALSE | FALSE | FALSE | FALSE | ...   | FALSE | FALSE | FALSE | FALSE | FALSE | FALSE | FALSE | FALSE | FALSE | FALSE | \n",
       "| credit_score | FALSE |  TRUE |  TRUE | FALSE | FALSE | FALSE | FALSE | FALSE | FALSE | FALSE | ...   | FALSE | FALSE | FALSE | FALSE | FALSE | FALSE | FALSE | FALSE | FALSE | FALSE | \n",
       "| deposit_min_avg | FALSE | FALSE | FALSE |  TRUE | FALSE | FALSE | FALSE | FALSE | FALSE | FALSE | ...   | FALSE | FALSE | FALSE | FALSE | FALSE | FALSE | FALSE | FALSE | FALSE | FALSE | \n",
       "| deposit_max_avg | FALSE | FALSE | FALSE | FALSE |  TRUE |  TRUE |  TRUE | FALSE | FALSE | FALSE | ...   | FALSE | FALSE | FALSE | FALSE | FALSE | FALSE | FALSE | FALSE | FALSE | FALSE | \n",
       "| total_deposit | FALSE | FALSE | FALSE | FALSE |  TRUE |  TRUE |  TRUE | FALSE | FALSE | FALSE | ...   | FALSE | FALSE | FALSE | FALSE | FALSE | FALSE | FALSE | FALSE | FALSE | FALSE | \n",
       "| monthly_deposit_avg | FALSE | FALSE | FALSE | FALSE |  TRUE |  TRUE |  TRUE | FALSE | FALSE | FALSE | ...   | FALSE | FALSE | FALSE | FALSE | FALSE | FALSE | FALSE | FALSE | FALSE | FALSE | \n",
       "| min_rec_avg | FALSE | FALSE | FALSE | FALSE | FALSE | FALSE | FALSE |  TRUE | FALSE | FALSE | ...   | FALSE | FALSE | FALSE | FALSE | FALSE | FALSE | FALSE | FALSE | FALSE | FALSE | \n",
       "| max_rec_avg | FALSE | FALSE | FALSE | FALSE | FALSE | FALSE | FALSE | FALSE |  TRUE |  TRUE | ...   | FALSE | FALSE | FALSE | FALSE | FALSE | FALSE | FALSE | FALSE | FALSE | FALSE | \n",
       "| total_rec | FALSE | FALSE | FALSE | FALSE | FALSE | FALSE | FALSE | FALSE |  TRUE |  TRUE | ...   | FALSE | FALSE | FALSE | FALSE | FALSE | FALSE | FALSE | FALSE | FALSE |  TRUE | \n",
       "| monthly_rec_avg | FALSE | FALSE | FALSE | FALSE | FALSE | FALSE | FALSE | FALSE |  TRUE |  TRUE | ...   | FALSE | FALSE | FALSE | FALSE | FALSE | FALSE | FALSE | FALSE | FALSE |  TRUE | \n",
       "| avg_monthly_inc | FALSE | FALSE | FALSE | FALSE | FALSE | FALSE | FALSE | FALSE |  TRUE |  TRUE | ...   | FALSE | FALSE | FALSE | FALSE | FALSE | FALSE | FALSE | FALSE | FALSE |  TRUE | \n",
       "| rec_inc_r | FALSE | FALSE | FALSE | FALSE | FALSE | FALSE | FALSE | FALSE | FALSE | FALSE | ...   | FALSE | FALSE | FALSE | FALSE | FALSE | FALSE | FALSE | FALSE | FALSE | FALSE | \n",
       "| d_inc_r | FALSE | FALSE | FALSE | FALSE | FALSE | FALSE | FALSE | FALSE | FALSE | FALSE | ...   | FALSE | FALSE | FALSE | FALSE | FALSE | FALSE | FALSE | FALSE | FALSE | FALSE | \n",
       "| airtime_min_avg | FALSE | FALSE | FALSE | FALSE | FALSE | FALSE | FALSE | FALSE | FALSE | FALSE | ...   | FALSE | FALSE | FALSE | FALSE | FALSE | FALSE | FALSE | FALSE | FALSE | FALSE | \n",
       "| airtime_max_avg | FALSE | FALSE | FALSE | FALSE | FALSE | FALSE | FALSE | FALSE | FALSE | FALSE | ...   | FALSE | FALSE | FALSE | FALSE | FALSE | FALSE | FALSE | FALSE | FALSE | FALSE | \n",
       "| total_airtime | FALSE | FALSE | FALSE | FALSE | FALSE | FALSE | FALSE | FALSE | FALSE | FALSE | ...   | FALSE | FALSE | FALSE | FALSE | FALSE | FALSE | FALSE | FALSE | FALSE | FALSE | \n",
       "| monthly_airtime_avg | FALSE | FALSE | FALSE | FALSE | FALSE | FALSE | FALSE | FALSE | FALSE | FALSE | ...   | FALSE | FALSE | FALSE | FALSE | FALSE | FALSE | FALSE | FALSE | FALSE | FALSE | \n",
       "| a_inc_r | FALSE | FALSE | FALSE | FALSE | FALSE | FALSE | FALSE | FALSE | FALSE | FALSE | ...   | FALSE | FALSE | FALSE | FALSE | FALSE | FALSE | FALSE | FALSE | FALSE | FALSE | \n",
       "| avg_min_paybill | FALSE | FALSE | FALSE | FALSE | FALSE | FALSE | FALSE | FALSE | FALSE | FALSE | ...   | FALSE | FALSE | FALSE | FALSE | FALSE | FALSE | FALSE | FALSE | FALSE | FALSE | \n",
       "| avg_max_paybill | FALSE | FALSE | FALSE | FALSE | FALSE | FALSE | FALSE | FALSE | FALSE | FALSE | ...   | FALSE | FALSE | FALSE | FALSE | FALSE | FALSE | FALSE | FALSE | FALSE | FALSE | \n",
       "| total_paybill | FALSE | FALSE | FALSE | FALSE | FALSE | FALSE | FALSE | FALSE | FALSE | FALSE | ...   | FALSE | FALSE | FALSE | FALSE | FALSE | FALSE | FALSE | FALSE | FALSE | FALSE | \n",
       "| monthly_paybill_avg | FALSE | FALSE | FALSE | FALSE | FALSE | FALSE | FALSE | FALSE | FALSE | FALSE | ...   | FALSE | FALSE | FALSE | FALSE | FALSE | FALSE | FALSE | FALSE | FALSE | FALSE | \n",
       "| p_inc_r | FALSE | FALSE | FALSE | FALSE | FALSE | FALSE | FALSE | FALSE | FALSE | FALSE | ...   | FALSE | FALSE | FALSE | FALSE | FALSE | FALSE | FALSE | FALSE | FALSE | FALSE | \n",
       "| avg_min_transfered | FALSE | FALSE | FALSE | FALSE | FALSE | FALSE | FALSE | FALSE | FALSE | FALSE | ...   | FALSE | FALSE | FALSE | FALSE | FALSE | FALSE | FALSE | FALSE | FALSE | FALSE | \n",
       "| avg_max_transfered | FALSE | FALSE | FALSE | FALSE | FALSE | FALSE | FALSE | FALSE | FALSE | FALSE | ...   |  TRUE | FALSE | FALSE | FALSE | FALSE | FALSE | FALSE | FALSE | FALSE | FALSE | \n",
       "| total_transfered | FALSE | FALSE | FALSE | FALSE | FALSE | FALSE | FALSE | FALSE | FALSE | FALSE | ...   |  TRUE | FALSE | FALSE | FALSE | FALSE | FALSE | FALSE | FALSE | FALSE | FALSE | \n",
       "| avg_monthly_transferred | FALSE | FALSE | FALSE | FALSE | FALSE | FALSE | FALSE | FALSE | FALSE | FALSE | ...   |  TRUE | FALSE | FALSE | FALSE | FALSE | FALSE | FALSE | FALSE | FALSE | FALSE | \n",
       "| t_inc_r | FALSE | FALSE | FALSE | FALSE | FALSE | FALSE | FALSE | FALSE | FALSE | FALSE | ...   | FALSE | FALSE | FALSE | FALSE | FALSE | FALSE | FALSE | FALSE | FALSE | FALSE | \n",
       "| avg_min_withdrawals | FALSE | FALSE | FALSE | FALSE | FALSE | FALSE | FALSE | FALSE | FALSE | FALSE | ...   | FALSE | FALSE | FALSE | FALSE | FALSE | FALSE | FALSE | FALSE | FALSE | FALSE | \n",
       "| total_withdrawals | FALSE | FALSE | FALSE | FALSE | FALSE | FALSE | FALSE | FALSE | FALSE |  TRUE | ...   | FALSE | FALSE | FALSE | FALSE | FALSE | FALSE | FALSE | FALSE | FALSE | FALSE | \n",
       "| avg_withdrawls | FALSE | FALSE | FALSE | FALSE | FALSE | FALSE | FALSE | FALSE | FALSE |  TRUE | ...   | FALSE | FALSE | FALSE | FALSE | FALSE | FALSE | FALSE | FALSE | FALSE | FALSE | \n",
       "| w_inc_r | FALSE | FALSE | FALSE | FALSE | FALSE | FALSE | FALSE | FALSE | FALSE | FALSE | ...   | FALSE | FALSE | FALSE | FALSE | FALSE | FALSE | FALSE | FALSE | FALSE | FALSE | \n",
       "| w_dep_r | FALSE | FALSE | FALSE | FALSE | FALSE | FALSE | FALSE | FALSE | FALSE | FALSE | ...   | FALSE | FALSE | FALSE | FALSE | FALSE | FALSE | FALSE | FALSE | FALSE | FALSE | \n",
       "| avg_min_sent | FALSE | FALSE | FALSE | FALSE | FALSE | FALSE | FALSE | FALSE | FALSE | FALSE | ...   | FALSE | FALSE | FALSE | FALSE | FALSE | FALSE | FALSE | FALSE | FALSE | FALSE | \n",
       "| avg_max_sent | FALSE | FALSE | FALSE | FALSE |  TRUE | FALSE | FALSE | FALSE |  TRUE | FALSE | ...   | FALSE | FALSE | FALSE | FALSE | FALSE | FALSE | FALSE | FALSE | FALSE |  TRUE | \n",
       "| avg_monthly_sent | FALSE | FALSE | FALSE | FALSE | FALSE | FALSE | FALSE | FALSE | FALSE |  TRUE | ...   | FALSE | FALSE | FALSE | FALSE | FALSE | FALSE | FALSE | FALSE | FALSE |  TRUE | \n",
       "| s_inc_r | FALSE | FALSE | FALSE | FALSE | FALSE | FALSE | FALSE | FALSE | FALSE | FALSE | ...   | FALSE | FALSE | FALSE | FALSE | FALSE | FALSE | FALSE | FALSE | FALSE | FALSE | \n",
       "| s_rec_r | FALSE | FALSE | FALSE | FALSE | FALSE | FALSE | FALSE | FALSE | FALSE | FALSE | ...   | FALSE | FALSE | FALSE | FALSE | FALSE | FALSE | FALSE | FALSE | FALSE | FALSE | \n",
       "| monthly_exp_avg | FALSE | FALSE | FALSE | FALSE | FALSE | FALSE | FALSE | FALSE |  TRUE |  TRUE | ...   | FALSE | FALSE | FALSE | FALSE | FALSE | FALSE | FALSE | FALSE | FALSE |  TRUE | \n",
       "| inc.exp | FALSE | FALSE | FALSE | FALSE | FALSE | FALSE | FALSE | FALSE | FALSE | FALSE | ...   | FALSE | FALSE | FALSE | FALSE | FALSE | FALSE | FALSE | FALSE | FALSE | FALSE | \n",
       "| exp.inc | FALSE | FALSE | FALSE | FALSE | FALSE | FALSE | FALSE | FALSE | FALSE | FALSE | ...   |  TRUE | FALSE | FALSE | FALSE | FALSE | FALSE | FALSE | FALSE | FALSE | FALSE | \n",
       "| rec_exp_r | FALSE | FALSE | FALSE | FALSE | FALSE | FALSE | FALSE | FALSE | FALSE | FALSE | ...   | FALSE |  TRUE | FALSE | FALSE | FALSE | FALSE | FALSE | FALSE | FALSE | FALSE | \n",
       "| d_exp_r | FALSE | FALSE | FALSE | FALSE | FALSE | FALSE | FALSE | FALSE | FALSE | FALSE | ...   | FALSE | FALSE |  TRUE |  TRUE | FALSE | FALSE | FALSE | FALSE | FALSE | FALSE | \n",
       "| inc_exp_r | FALSE | FALSE | FALSE | FALSE | FALSE | FALSE | FALSE | FALSE | FALSE | FALSE | ...   | FALSE | FALSE |  TRUE |  TRUE | FALSE | FALSE | FALSE | FALSE | FALSE | FALSE | \n",
       "| t_exp_r | FALSE | FALSE | FALSE | FALSE | FALSE | FALSE | FALSE | FALSE | FALSE | FALSE | ...   | FALSE | FALSE | FALSE | FALSE |  TRUE | FALSE | FALSE | FALSE | FALSE | FALSE | \n",
       "| w_exp_r | FALSE | FALSE | FALSE | FALSE | FALSE | FALSE | FALSE | FALSE | FALSE | FALSE | ...   | FALSE | FALSE | FALSE | FALSE | FALSE |  TRUE | FALSE | FALSE | FALSE | FALSE | \n",
       "| s_exp_r | FALSE | FALSE | FALSE | FALSE | FALSE | FALSE | FALSE | FALSE | FALSE | FALSE | ...   | FALSE | FALSE | FALSE | FALSE | FALSE | FALSE |  TRUE | FALSE | FALSE | FALSE | \n",
       "| p_exp_r | FALSE | FALSE | FALSE | FALSE | FALSE | FALSE | FALSE | FALSE | FALSE | FALSE | ...   | FALSE | FALSE | FALSE | FALSE | FALSE | FALSE | FALSE |  TRUE | FALSE | FALSE | \n",
       "| a_exp_r | FALSE | FALSE | FALSE | FALSE | FALSE | FALSE | FALSE | FALSE | FALSE | FALSE | ...   | FALSE | FALSE | FALSE | FALSE | FALSE | FALSE | FALSE | FALSE |  TRUE | FALSE | \n",
       "| total_sent | FALSE | FALSE | FALSE | FALSE | FALSE | FALSE | FALSE | FALSE | FALSE |  TRUE | ...   | FALSE | FALSE | FALSE | FALSE | FALSE | FALSE | FALSE | FALSE | FALSE |  TRUE | \n",
       "\n",
       "\n"
      ],
      "text/plain": [
       "                        age   credit_score_avg credit_score deposit_min_avg\n",
       "age                      TRUE FALSE            FALSE        FALSE          \n",
       "credit_score_avg        FALSE  TRUE             TRUE        FALSE          \n",
       "credit_score            FALSE  TRUE             TRUE        FALSE          \n",
       "deposit_min_avg         FALSE FALSE            FALSE         TRUE          \n",
       "deposit_max_avg         FALSE FALSE            FALSE        FALSE          \n",
       "total_deposit           FALSE FALSE            FALSE        FALSE          \n",
       "monthly_deposit_avg     FALSE FALSE            FALSE        FALSE          \n",
       "min_rec_avg             FALSE FALSE            FALSE        FALSE          \n",
       "max_rec_avg             FALSE FALSE            FALSE        FALSE          \n",
       "total_rec               FALSE FALSE            FALSE        FALSE          \n",
       "monthly_rec_avg         FALSE FALSE            FALSE        FALSE          \n",
       "avg_monthly_inc         FALSE FALSE            FALSE        FALSE          \n",
       "rec_inc_r               FALSE FALSE            FALSE        FALSE          \n",
       "d_inc_r                 FALSE FALSE            FALSE        FALSE          \n",
       "airtime_min_avg         FALSE FALSE            FALSE        FALSE          \n",
       "airtime_max_avg         FALSE FALSE            FALSE        FALSE          \n",
       "total_airtime           FALSE FALSE            FALSE        FALSE          \n",
       "monthly_airtime_avg     FALSE FALSE            FALSE        FALSE          \n",
       "a_inc_r                 FALSE FALSE            FALSE        FALSE          \n",
       "avg_min_paybill         FALSE FALSE            FALSE        FALSE          \n",
       "avg_max_paybill         FALSE FALSE            FALSE        FALSE          \n",
       "total_paybill           FALSE FALSE            FALSE        FALSE          \n",
       "monthly_paybill_avg     FALSE FALSE            FALSE        FALSE          \n",
       "p_inc_r                 FALSE FALSE            FALSE        FALSE          \n",
       "avg_min_transfered      FALSE FALSE            FALSE        FALSE          \n",
       "avg_max_transfered      FALSE FALSE            FALSE        FALSE          \n",
       "total_transfered        FALSE FALSE            FALSE        FALSE          \n",
       "avg_monthly_transferred FALSE FALSE            FALSE        FALSE          \n",
       "t_inc_r                 FALSE FALSE            FALSE        FALSE          \n",
       "avg_min_withdrawals     FALSE FALSE            FALSE        FALSE          \n",
       "total_withdrawals       FALSE FALSE            FALSE        FALSE          \n",
       "avg_withdrawls          FALSE FALSE            FALSE        FALSE          \n",
       "w_inc_r                 FALSE FALSE            FALSE        FALSE          \n",
       "w_dep_r                 FALSE FALSE            FALSE        FALSE          \n",
       "avg_min_sent            FALSE FALSE            FALSE        FALSE          \n",
       "avg_max_sent            FALSE FALSE            FALSE        FALSE          \n",
       "avg_monthly_sent        FALSE FALSE            FALSE        FALSE          \n",
       "s_inc_r                 FALSE FALSE            FALSE        FALSE          \n",
       "s_rec_r                 FALSE FALSE            FALSE        FALSE          \n",
       "monthly_exp_avg         FALSE FALSE            FALSE        FALSE          \n",
       "inc.exp                 FALSE FALSE            FALSE        FALSE          \n",
       "exp.inc                 FALSE FALSE            FALSE        FALSE          \n",
       "rec_exp_r               FALSE FALSE            FALSE        FALSE          \n",
       "d_exp_r                 FALSE FALSE            FALSE        FALSE          \n",
       "inc_exp_r               FALSE FALSE            FALSE        FALSE          \n",
       "t_exp_r                 FALSE FALSE            FALSE        FALSE          \n",
       "w_exp_r                 FALSE FALSE            FALSE        FALSE          \n",
       "s_exp_r                 FALSE FALSE            FALSE        FALSE          \n",
       "p_exp_r                 FALSE FALSE            FALSE        FALSE          \n",
       "a_exp_r                 FALSE FALSE            FALSE        FALSE          \n",
       "total_sent              FALSE FALSE            FALSE        FALSE          \n",
       "                        deposit_max_avg total_deposit monthly_deposit_avg\n",
       "age                     FALSE           FALSE         FALSE              \n",
       "credit_score_avg        FALSE           FALSE         FALSE              \n",
       "credit_score            FALSE           FALSE         FALSE              \n",
       "deposit_min_avg         FALSE           FALSE         FALSE              \n",
       "deposit_max_avg          TRUE            TRUE          TRUE              \n",
       "total_deposit            TRUE            TRUE          TRUE              \n",
       "monthly_deposit_avg      TRUE            TRUE          TRUE              \n",
       "min_rec_avg             FALSE           FALSE         FALSE              \n",
       "max_rec_avg             FALSE           FALSE         FALSE              \n",
       "total_rec               FALSE           FALSE         FALSE              \n",
       "monthly_rec_avg         FALSE           FALSE         FALSE              \n",
       "avg_monthly_inc         FALSE           FALSE         FALSE              \n",
       "rec_inc_r               FALSE           FALSE         FALSE              \n",
       "d_inc_r                 FALSE           FALSE         FALSE              \n",
       "airtime_min_avg         FALSE           FALSE         FALSE              \n",
       "airtime_max_avg         FALSE           FALSE         FALSE              \n",
       "total_airtime           FALSE           FALSE         FALSE              \n",
       "monthly_airtime_avg     FALSE           FALSE         FALSE              \n",
       "a_inc_r                 FALSE           FALSE         FALSE              \n",
       "avg_min_paybill         FALSE           FALSE         FALSE              \n",
       "avg_max_paybill         FALSE           FALSE         FALSE              \n",
       "total_paybill           FALSE           FALSE         FALSE              \n",
       "monthly_paybill_avg     FALSE           FALSE         FALSE              \n",
       "p_inc_r                 FALSE           FALSE         FALSE              \n",
       "avg_min_transfered      FALSE           FALSE         FALSE              \n",
       "avg_max_transfered      FALSE           FALSE         FALSE              \n",
       "total_transfered        FALSE           FALSE         FALSE              \n",
       "avg_monthly_transferred FALSE           FALSE         FALSE              \n",
       "t_inc_r                 FALSE           FALSE         FALSE              \n",
       "avg_min_withdrawals     FALSE           FALSE         FALSE              \n",
       "total_withdrawals       FALSE           FALSE         FALSE              \n",
       "avg_withdrawls          FALSE           FALSE         FALSE              \n",
       "w_inc_r                 FALSE           FALSE         FALSE              \n",
       "w_dep_r                 FALSE           FALSE         FALSE              \n",
       "avg_min_sent            FALSE           FALSE         FALSE              \n",
       "avg_max_sent             TRUE           FALSE         FALSE              \n",
       "avg_monthly_sent        FALSE           FALSE         FALSE              \n",
       "s_inc_r                 FALSE           FALSE         FALSE              \n",
       "s_rec_r                 FALSE           FALSE         FALSE              \n",
       "monthly_exp_avg         FALSE           FALSE         FALSE              \n",
       "inc.exp                 FALSE           FALSE         FALSE              \n",
       "exp.inc                 FALSE           FALSE         FALSE              \n",
       "rec_exp_r               FALSE           FALSE         FALSE              \n",
       "d_exp_r                 FALSE           FALSE         FALSE              \n",
       "inc_exp_r               FALSE           FALSE         FALSE              \n",
       "t_exp_r                 FALSE           FALSE         FALSE              \n",
       "w_exp_r                 FALSE           FALSE         FALSE              \n",
       "s_exp_r                 FALSE           FALSE         FALSE              \n",
       "p_exp_r                 FALSE           FALSE         FALSE              \n",
       "a_exp_r                 FALSE           FALSE         FALSE              \n",
       "total_sent              FALSE           FALSE         FALSE              \n",
       "                        min_rec_avg max_rec_avg total_rec ... exp.inc rec_exp_r\n",
       "age                     FALSE       FALSE       FALSE     ... FALSE   FALSE    \n",
       "credit_score_avg        FALSE       FALSE       FALSE     ... FALSE   FALSE    \n",
       "credit_score            FALSE       FALSE       FALSE     ... FALSE   FALSE    \n",
       "deposit_min_avg         FALSE       FALSE       FALSE     ... FALSE   FALSE    \n",
       "deposit_max_avg         FALSE       FALSE       FALSE     ... FALSE   FALSE    \n",
       "total_deposit           FALSE       FALSE       FALSE     ... FALSE   FALSE    \n",
       "monthly_deposit_avg     FALSE       FALSE       FALSE     ... FALSE   FALSE    \n",
       "min_rec_avg              TRUE       FALSE       FALSE     ... FALSE   FALSE    \n",
       "max_rec_avg             FALSE        TRUE        TRUE     ... FALSE   FALSE    \n",
       "total_rec               FALSE        TRUE        TRUE     ... FALSE   FALSE    \n",
       "monthly_rec_avg         FALSE        TRUE        TRUE     ... FALSE   FALSE    \n",
       "avg_monthly_inc         FALSE        TRUE        TRUE     ... FALSE   FALSE    \n",
       "rec_inc_r               FALSE       FALSE       FALSE     ... FALSE   FALSE    \n",
       "d_inc_r                 FALSE       FALSE       FALSE     ... FALSE   FALSE    \n",
       "airtime_min_avg         FALSE       FALSE       FALSE     ... FALSE   FALSE    \n",
       "airtime_max_avg         FALSE       FALSE       FALSE     ... FALSE   FALSE    \n",
       "total_airtime           FALSE       FALSE       FALSE     ... FALSE   FALSE    \n",
       "monthly_airtime_avg     FALSE       FALSE       FALSE     ... FALSE   FALSE    \n",
       "a_inc_r                 FALSE       FALSE       FALSE     ... FALSE   FALSE    \n",
       "avg_min_paybill         FALSE       FALSE       FALSE     ... FALSE   FALSE    \n",
       "avg_max_paybill         FALSE       FALSE       FALSE     ... FALSE   FALSE    \n",
       "total_paybill           FALSE       FALSE       FALSE     ... FALSE   FALSE    \n",
       "monthly_paybill_avg     FALSE       FALSE       FALSE     ... FALSE   FALSE    \n",
       "p_inc_r                 FALSE       FALSE       FALSE     ... FALSE   FALSE    \n",
       "avg_min_transfered      FALSE       FALSE       FALSE     ... FALSE   FALSE    \n",
       "avg_max_transfered      FALSE       FALSE       FALSE     ...  TRUE   FALSE    \n",
       "total_transfered        FALSE       FALSE       FALSE     ...  TRUE   FALSE    \n",
       "avg_monthly_transferred FALSE       FALSE       FALSE     ...  TRUE   FALSE    \n",
       "t_inc_r                 FALSE       FALSE       FALSE     ... FALSE   FALSE    \n",
       "avg_min_withdrawals     FALSE       FALSE       FALSE     ... FALSE   FALSE    \n",
       "total_withdrawals       FALSE       FALSE        TRUE     ... FALSE   FALSE    \n",
       "avg_withdrawls          FALSE       FALSE        TRUE     ... FALSE   FALSE    \n",
       "w_inc_r                 FALSE       FALSE       FALSE     ... FALSE   FALSE    \n",
       "w_dep_r                 FALSE       FALSE       FALSE     ... FALSE   FALSE    \n",
       "avg_min_sent            FALSE       FALSE       FALSE     ... FALSE   FALSE    \n",
       "avg_max_sent            FALSE        TRUE       FALSE     ... FALSE   FALSE    \n",
       "avg_monthly_sent        FALSE       FALSE        TRUE     ... FALSE   FALSE    \n",
       "s_inc_r                 FALSE       FALSE       FALSE     ... FALSE   FALSE    \n",
       "s_rec_r                 FALSE       FALSE       FALSE     ... FALSE   FALSE    \n",
       "monthly_exp_avg         FALSE        TRUE        TRUE     ... FALSE   FALSE    \n",
       "inc.exp                 FALSE       FALSE       FALSE     ... FALSE   FALSE    \n",
       "exp.inc                 FALSE       FALSE       FALSE     ...  TRUE   FALSE    \n",
       "rec_exp_r               FALSE       FALSE       FALSE     ... FALSE    TRUE    \n",
       "d_exp_r                 FALSE       FALSE       FALSE     ... FALSE   FALSE    \n",
       "inc_exp_r               FALSE       FALSE       FALSE     ... FALSE   FALSE    \n",
       "t_exp_r                 FALSE       FALSE       FALSE     ... FALSE   FALSE    \n",
       "w_exp_r                 FALSE       FALSE       FALSE     ... FALSE   FALSE    \n",
       "s_exp_r                 FALSE       FALSE       FALSE     ... FALSE   FALSE    \n",
       "p_exp_r                 FALSE       FALSE       FALSE     ... FALSE   FALSE    \n",
       "a_exp_r                 FALSE       FALSE       FALSE     ... FALSE   FALSE    \n",
       "total_sent              FALSE       FALSE        TRUE     ... FALSE   FALSE    \n",
       "                        d_exp_r inc_exp_r t_exp_r w_exp_r s_exp_r p_exp_r\n",
       "age                     FALSE   FALSE     FALSE   FALSE   FALSE   FALSE  \n",
       "credit_score_avg        FALSE   FALSE     FALSE   FALSE   FALSE   FALSE  \n",
       "credit_score            FALSE   FALSE     FALSE   FALSE   FALSE   FALSE  \n",
       "deposit_min_avg         FALSE   FALSE     FALSE   FALSE   FALSE   FALSE  \n",
       "deposit_max_avg         FALSE   FALSE     FALSE   FALSE   FALSE   FALSE  \n",
       "total_deposit           FALSE   FALSE     FALSE   FALSE   FALSE   FALSE  \n",
       "monthly_deposit_avg     FALSE   FALSE     FALSE   FALSE   FALSE   FALSE  \n",
       "min_rec_avg             FALSE   FALSE     FALSE   FALSE   FALSE   FALSE  \n",
       "max_rec_avg             FALSE   FALSE     FALSE   FALSE   FALSE   FALSE  \n",
       "total_rec               FALSE   FALSE     FALSE   FALSE   FALSE   FALSE  \n",
       "monthly_rec_avg         FALSE   FALSE     FALSE   FALSE   FALSE   FALSE  \n",
       "avg_monthly_inc         FALSE   FALSE     FALSE   FALSE   FALSE   FALSE  \n",
       "rec_inc_r               FALSE   FALSE     FALSE   FALSE   FALSE   FALSE  \n",
       "d_inc_r                 FALSE   FALSE     FALSE   FALSE   FALSE   FALSE  \n",
       "airtime_min_avg         FALSE   FALSE     FALSE   FALSE   FALSE   FALSE  \n",
       "airtime_max_avg         FALSE   FALSE     FALSE   FALSE   FALSE   FALSE  \n",
       "total_airtime           FALSE   FALSE     FALSE   FALSE   FALSE   FALSE  \n",
       "monthly_airtime_avg     FALSE   FALSE     FALSE   FALSE   FALSE   FALSE  \n",
       "a_inc_r                 FALSE   FALSE     FALSE   FALSE   FALSE   FALSE  \n",
       "avg_min_paybill         FALSE   FALSE     FALSE   FALSE   FALSE   FALSE  \n",
       "avg_max_paybill         FALSE   FALSE     FALSE   FALSE   FALSE   FALSE  \n",
       "total_paybill           FALSE   FALSE     FALSE   FALSE   FALSE   FALSE  \n",
       "monthly_paybill_avg     FALSE   FALSE     FALSE   FALSE   FALSE   FALSE  \n",
       "p_inc_r                 FALSE   FALSE     FALSE   FALSE   FALSE   FALSE  \n",
       "avg_min_transfered      FALSE   FALSE     FALSE   FALSE   FALSE   FALSE  \n",
       "avg_max_transfered      FALSE   FALSE     FALSE   FALSE   FALSE   FALSE  \n",
       "total_transfered        FALSE   FALSE     FALSE   FALSE   FALSE   FALSE  \n",
       "avg_monthly_transferred FALSE   FALSE     FALSE   FALSE   FALSE   FALSE  \n",
       "t_inc_r                 FALSE   FALSE     FALSE   FALSE   FALSE   FALSE  \n",
       "avg_min_withdrawals     FALSE   FALSE     FALSE   FALSE   FALSE   FALSE  \n",
       "total_withdrawals       FALSE   FALSE     FALSE   FALSE   FALSE   FALSE  \n",
       "avg_withdrawls          FALSE   FALSE     FALSE   FALSE   FALSE   FALSE  \n",
       "w_inc_r                 FALSE   FALSE     FALSE   FALSE   FALSE   FALSE  \n",
       "w_dep_r                 FALSE   FALSE     FALSE   FALSE   FALSE   FALSE  \n",
       "avg_min_sent            FALSE   FALSE     FALSE   FALSE   FALSE   FALSE  \n",
       "avg_max_sent            FALSE   FALSE     FALSE   FALSE   FALSE   FALSE  \n",
       "avg_monthly_sent        FALSE   FALSE     FALSE   FALSE   FALSE   FALSE  \n",
       "s_inc_r                 FALSE   FALSE     FALSE   FALSE   FALSE   FALSE  \n",
       "s_rec_r                 FALSE   FALSE     FALSE   FALSE   FALSE   FALSE  \n",
       "monthly_exp_avg         FALSE   FALSE     FALSE   FALSE   FALSE   FALSE  \n",
       "inc.exp                 FALSE   FALSE     FALSE   FALSE   FALSE   FALSE  \n",
       "exp.inc                 FALSE   FALSE     FALSE   FALSE   FALSE   FALSE  \n",
       "rec_exp_r               FALSE   FALSE     FALSE   FALSE   FALSE   FALSE  \n",
       "d_exp_r                  TRUE    TRUE     FALSE   FALSE   FALSE   FALSE  \n",
       "inc_exp_r                TRUE    TRUE     FALSE   FALSE   FALSE   FALSE  \n",
       "t_exp_r                 FALSE   FALSE      TRUE   FALSE   FALSE   FALSE  \n",
       "w_exp_r                 FALSE   FALSE     FALSE    TRUE   FALSE   FALSE  \n",
       "s_exp_r                 FALSE   FALSE     FALSE   FALSE    TRUE   FALSE  \n",
       "p_exp_r                 FALSE   FALSE     FALSE   FALSE   FALSE    TRUE  \n",
       "a_exp_r                 FALSE   FALSE     FALSE   FALSE   FALSE   FALSE  \n",
       "total_sent              FALSE   FALSE     FALSE   FALSE   FALSE   FALSE  \n",
       "                        a_exp_r total_sent\n",
       "age                     FALSE   FALSE     \n",
       "credit_score_avg        FALSE   FALSE     \n",
       "credit_score            FALSE   FALSE     \n",
       "deposit_min_avg         FALSE   FALSE     \n",
       "deposit_max_avg         FALSE   FALSE     \n",
       "total_deposit           FALSE   FALSE     \n",
       "monthly_deposit_avg     FALSE   FALSE     \n",
       "min_rec_avg             FALSE   FALSE     \n",
       "max_rec_avg             FALSE   FALSE     \n",
       "total_rec               FALSE    TRUE     \n",
       "monthly_rec_avg         FALSE    TRUE     \n",
       "avg_monthly_inc         FALSE    TRUE     \n",
       "rec_inc_r               FALSE   FALSE     \n",
       "d_inc_r                 FALSE   FALSE     \n",
       "airtime_min_avg         FALSE   FALSE     \n",
       "airtime_max_avg         FALSE   FALSE     \n",
       "total_airtime           FALSE   FALSE     \n",
       "monthly_airtime_avg     FALSE   FALSE     \n",
       "a_inc_r                 FALSE   FALSE     \n",
       "avg_min_paybill         FALSE   FALSE     \n",
       "avg_max_paybill         FALSE   FALSE     \n",
       "total_paybill           FALSE   FALSE     \n",
       "monthly_paybill_avg     FALSE   FALSE     \n",
       "p_inc_r                 FALSE   FALSE     \n",
       "avg_min_transfered      FALSE   FALSE     \n",
       "avg_max_transfered      FALSE   FALSE     \n",
       "total_transfered        FALSE   FALSE     \n",
       "avg_monthly_transferred FALSE   FALSE     \n",
       "t_inc_r                 FALSE   FALSE     \n",
       "avg_min_withdrawals     FALSE   FALSE     \n",
       "total_withdrawals       FALSE   FALSE     \n",
       "avg_withdrawls          FALSE   FALSE     \n",
       "w_inc_r                 FALSE   FALSE     \n",
       "w_dep_r                 FALSE   FALSE     \n",
       "avg_min_sent            FALSE   FALSE     \n",
       "avg_max_sent            FALSE    TRUE     \n",
       "avg_monthly_sent        FALSE    TRUE     \n",
       "s_inc_r                 FALSE   FALSE     \n",
       "s_rec_r                 FALSE   FALSE     \n",
       "monthly_exp_avg         FALSE    TRUE     \n",
       "inc.exp                 FALSE   FALSE     \n",
       "exp.inc                 FALSE   FALSE     \n",
       "rec_exp_r               FALSE   FALSE     \n",
       "d_exp_r                 FALSE   FALSE     \n",
       "inc_exp_r               FALSE   FALSE     \n",
       "t_exp_r                 FALSE   FALSE     \n",
       "w_exp_r                 FALSE   FALSE     \n",
       "s_exp_r                 FALSE   FALSE     \n",
       "p_exp_r                 FALSE   FALSE     \n",
       "a_exp_r                  TRUE   FALSE     \n",
       "total_sent              FALSE    TRUE     "
      ]
     },
     "metadata": {},
     "output_type": "display_data"
    }
   ],
   "source": [
    "numerical_vars <-cor(combined_data[,9:ncol(combined_data)])\n",
    "numerical_vars"
   ]
  },
  {
   "cell_type": "markdown",
   "metadata": {},
   "source": [
    "#### Reducing Multicollinearity"
   ]
  },
  {
   "cell_type": "code",
   "execution_count": 17,
   "metadata": {},
   "outputs": [
    {
     "data": {
      "text/html": [
       "<ol class=list-inline>\n",
       "\t<li>40</li>\n",
       "\t<li>9</li>\n",
       "\t<li>12</li>\n",
       "\t<li>36</li>\n",
       "\t<li>11</li>\n",
       "\t<li>10</li>\n",
       "\t<li>5</li>\n",
       "\t<li>37</li>\n",
       "\t<li>17</li>\n",
       "\t<li>18</li>\n",
       "\t<li>6</li>\n",
       "\t<li>21</li>\n",
       "\t<li>28</li>\n",
       "\t<li>27</li>\n",
       "\t<li>41</li>\n",
       "\t<li>42</li>\n",
       "\t<li>26</li>\n",
       "\t<li>32</li>\n",
       "\t<li>22</li>\n",
       "\t<li>38</li>\n",
       "\t<li>3</li>\n",
       "\t<li>44</li>\n",
       "</ol>\n"
      ],
      "text/latex": [
       "\\begin{enumerate*}\n",
       "\\item 40\n",
       "\\item 9\n",
       "\\item 12\n",
       "\\item 36\n",
       "\\item 11\n",
       "\\item 10\n",
       "\\item 5\n",
       "\\item 37\n",
       "\\item 17\n",
       "\\item 18\n",
       "\\item 6\n",
       "\\item 21\n",
       "\\item 28\n",
       "\\item 27\n",
       "\\item 41\n",
       "\\item 42\n",
       "\\item 26\n",
       "\\item 32\n",
       "\\item 22\n",
       "\\item 38\n",
       "\\item 3\n",
       "\\item 44\n",
       "\\end{enumerate*}\n"
      ],
      "text/markdown": [
       "1. 40\n",
       "2. 9\n",
       "3. 12\n",
       "4. 36\n",
       "5. 11\n",
       "6. 10\n",
       "7. 5\n",
       "8. 37\n",
       "9. 17\n",
       "10. 18\n",
       "11. 6\n",
       "12. 21\n",
       "13. 28\n",
       "14. 27\n",
       "15. 41\n",
       "16. 42\n",
       "17. 26\n",
       "18. 32\n",
       "19. 22\n",
       "20. 38\n",
       "21. 3\n",
       "22. 44\n",
       "\n",
       "\n"
      ],
      "text/plain": [
       " [1] 40  9 12 36 11 10  5 37 17 18  6 21 28 27 41 42 26 32 22 38  3 44"
      ]
     },
     "metadata": {},
     "output_type": "display_data"
    }
   ],
   "source": [
    "correlated_vars <-findCorrelation(numerical_vars,cutoff =.75)\n",
    "correlated_vars"
   ]
  },
  {
   "cell_type": "markdown",
   "metadata": {},
   "source": [
    "#### Creating a dataframe of the numerical variables"
   ]
  },
  {
   "cell_type": "code",
   "execution_count": 18,
   "metadata": {},
   "outputs": [],
   "source": [
    "numerical_df <- combined_data[,9:ncol(combined_data)]"
   ]
  },
  {
   "cell_type": "code",
   "execution_count": 19,
   "metadata": {
    "scrolled": false
   },
   "outputs": [
    {
     "data": {
      "text/html": [
       "<table>\n",
       "<thead><tr><th></th><th scope=col>monthly_exp_avg</th><th scope=col>max_rec_avg</th><th scope=col>avg_monthly_inc</th><th scope=col>avg_max_sent</th><th scope=col>monthly_rec_avg</th><th scope=col>total_rec</th><th scope=col>deposit_max_avg</th><th scope=col>avg_monthly_sent</th><th scope=col>total_airtime</th><th scope=col>monthly_airtime_avg</th><th scope=col>...</th><th scope=col>avg_monthly_transferred</th><th scope=col>total_transfered</th><th scope=col>inc.exp</th><th scope=col>exp.inc</th><th scope=col>avg_max_transfered</th><th scope=col>avg_withdrawls</th><th scope=col>total_paybill</th><th scope=col>s_inc_r</th><th scope=col>credit_score</th><th scope=col>d_exp_r</th></tr></thead>\n",
       "<tbody>\n",
       "\t<tr><th scope=row>2</th><td>5263.286  </td><td> 914.2857 </td><td>2923.000  </td><td>381.4286  </td><td>2211.571  </td><td>15481     </td><td>385.7143  </td><td>1452.4286 </td><td>428       </td><td>61.14286  </td><td>...       </td><td>2266.857  </td><td>15868     </td><td>-2340.286 </td><td>2340.286  </td><td>464.4286  </td><td>1340.000  </td><td>1000      </td><td>0.49689653</td><td>  0       </td><td>0.1351681 </td></tr>\n",
       "\t<tr><th scope=row>3</th><td>   0.000  </td><td>   0.0000 </td><td>   0.000  </td><td>  0.0000  </td><td>   0.000  </td><td>    0     </td><td>  0.0000  </td><td>   0.0000 </td><td>  0       </td><td> 0.00000  </td><td>...       </td><td>   0.000  </td><td>    0     </td><td>    0.000 </td><td>   0.000  </td><td>  0.0000  </td><td>   0.000  </td><td>   0      </td><td>0.00000000</td><td>803       </td><td>0.0000000 </td></tr>\n",
       "\t<tr><th scope=row>4</th><td>   0.000  </td><td>   0.0000 </td><td>   0.000  </td><td>  0.0000  </td><td>   0.000  </td><td>    0     </td><td>  0.0000  </td><td>   0.0000 </td><td>  0       </td><td> 0.00000  </td><td>...       </td><td>   0.000  </td><td>    0     </td><td>    0.000 </td><td>   0.000  </td><td>  0.0000  </td><td>   0.000  </td><td>   0      </td><td>0.00000000</td><td>  0       </td><td>0.0000000 </td></tr>\n",
       "\t<tr><th scope=row>5</th><td>   0.000  </td><td>   0.0000 </td><td>   0.000  </td><td>  0.0000  </td><td>   0.000  </td><td>    0     </td><td>  0.0000  </td><td>   0.0000 </td><td>  0       </td><td> 0.00000  </td><td>...       </td><td>   0.000  </td><td>    0     </td><td>    0.000 </td><td>   0.000  </td><td>  0.0000  </td><td>   0.000  </td><td>   0      </td><td>0.00000000</td><td>  0       </td><td>0.0000000 </td></tr>\n",
       "\t<tr><th scope=row>6</th><td>4722.857  </td><td>2671.4286 </td><td>3255.714  </td><td>294.2857  </td><td>3255.714  </td><td>22790     </td><td>  0.0000  </td><td> 294.2857 </td><td>  0       </td><td> 0.00000  </td><td>...       </td><td>   0.000  </td><td>    0     </td><td>-1467.143 </td><td>1467.143  </td><td>  0.0000  </td><td>4428.571  </td><td>   0      </td><td>0.09039052</td><td>  0       </td><td>0.0000000 </td></tr>\n",
       "\t<tr><th scope=row>7</th><td>   0.000  </td><td>   0.0000 </td><td>   0.000  </td><td>  0.0000  </td><td>   0.000  </td><td>    0     </td><td>  0.0000  </td><td>   0.0000 </td><td>  0       </td><td> 0.00000  </td><td>...       </td><td>   0.000  </td><td>    0     </td><td>    0.000 </td><td>   0.000  </td><td>  0.0000  </td><td>   0.000  </td><td>   0      </td><td>0.00000000</td><td>716       </td><td>0.0000000 </td></tr>\n",
       "</tbody>\n",
       "</table>\n"
      ],
      "text/latex": [
       "\\begin{tabular}{r|llllllllllllllllllllll}\n",
       "  & monthly\\_exp\\_avg & max\\_rec\\_avg & avg\\_monthly\\_inc & avg\\_max\\_sent & monthly\\_rec\\_avg & total\\_rec & deposit\\_max\\_avg & avg\\_monthly\\_sent & total\\_airtime & monthly\\_airtime\\_avg & ... & avg\\_monthly\\_transferred & total\\_transfered & inc.exp & exp.inc & avg\\_max\\_transfered & avg\\_withdrawls & total\\_paybill & s\\_inc\\_r & credit\\_score & d\\_exp\\_r\\\\\n",
       "\\hline\n",
       "\t2 & 5263.286   &  914.2857  & 2923.000   & 381.4286   & 2211.571   & 15481      & 385.7143   & 1452.4286  & 428        & 61.14286   & ...        & 2266.857   & 15868      & -2340.286  & 2340.286   & 464.4286   & 1340.000   & 1000       & 0.49689653 &   0        & 0.1351681 \\\\\n",
       "\t3 &    0.000   &    0.0000  &    0.000   &   0.0000   &    0.000   &     0      &   0.0000   &    0.0000  &   0        &  0.00000   & ...        &    0.000   &     0      &     0.000  &    0.000   &   0.0000   &    0.000   &    0       & 0.00000000 & 803        & 0.0000000 \\\\\n",
       "\t4 &    0.000   &    0.0000  &    0.000   &   0.0000   &    0.000   &     0      &   0.0000   &    0.0000  &   0        &  0.00000   & ...        &    0.000   &     0      &     0.000  &    0.000   &   0.0000   &    0.000   &    0       & 0.00000000 &   0        & 0.0000000 \\\\\n",
       "\t5 &    0.000   &    0.0000  &    0.000   &   0.0000   &    0.000   &     0      &   0.0000   &    0.0000  &   0        &  0.00000   & ...        &    0.000   &     0      &     0.000  &    0.000   &   0.0000   &    0.000   &    0       & 0.00000000 &   0        & 0.0000000 \\\\\n",
       "\t6 & 4722.857   & 2671.4286  & 3255.714   & 294.2857   & 3255.714   & 22790      &   0.0000   &  294.2857  &   0        &  0.00000   & ...        &    0.000   &     0      & -1467.143  & 1467.143   &   0.0000   & 4428.571   &    0       & 0.09039052 &   0        & 0.0000000 \\\\\n",
       "\t7 &    0.000   &    0.0000  &    0.000   &   0.0000   &    0.000   &     0      &   0.0000   &    0.0000  &   0        &  0.00000   & ...        &    0.000   &     0      &     0.000  &    0.000   &   0.0000   &    0.000   &    0       & 0.00000000 & 716        & 0.0000000 \\\\\n",
       "\\end{tabular}\n"
      ],
      "text/markdown": [
       "\n",
       "| <!--/--> | monthly_exp_avg | max_rec_avg | avg_monthly_inc | avg_max_sent | monthly_rec_avg | total_rec | deposit_max_avg | avg_monthly_sent | total_airtime | monthly_airtime_avg | ... | avg_monthly_transferred | total_transfered | inc.exp | exp.inc | avg_max_transfered | avg_withdrawls | total_paybill | s_inc_r | credit_score | d_exp_r | \n",
       "|---|---|---|---|---|---|\n",
       "| 2 | 5263.286   |  914.2857  | 2923.000   | 381.4286   | 2211.571   | 15481      | 385.7143   | 1452.4286  | 428        | 61.14286   | ...        | 2266.857   | 15868      | -2340.286  | 2340.286   | 464.4286   | 1340.000   | 1000       | 0.49689653 |   0        | 0.1351681  | \n",
       "| 3 |    0.000   |    0.0000  |    0.000   |   0.0000   |    0.000   |     0      |   0.0000   |    0.0000  |   0        |  0.00000   | ...        |    0.000   |     0      |     0.000  |    0.000   |   0.0000   |    0.000   |    0       | 0.00000000 | 803        | 0.0000000  | \n",
       "| 4 |    0.000   |    0.0000  |    0.000   |   0.0000   |    0.000   |     0      |   0.0000   |    0.0000  |   0        |  0.00000   | ...        |    0.000   |     0      |     0.000  |    0.000   |   0.0000   |    0.000   |    0       | 0.00000000 |   0        | 0.0000000  | \n",
       "| 5 |    0.000   |    0.0000  |    0.000   |   0.0000   |    0.000   |     0      |   0.0000   |    0.0000  |   0        |  0.00000   | ...        |    0.000   |     0      |     0.000  |    0.000   |   0.0000   |    0.000   |    0       | 0.00000000 |   0        | 0.0000000  | \n",
       "| 6 | 4722.857   | 2671.4286  | 3255.714   | 294.2857   | 3255.714   | 22790      |   0.0000   |  294.2857  |   0        |  0.00000   | ...        |    0.000   |     0      | -1467.143  | 1467.143   |   0.0000   | 4428.571   |    0       | 0.09039052 |   0        | 0.0000000  | \n",
       "| 7 |    0.000   |    0.0000  |    0.000   |   0.0000   |    0.000   |     0      |   0.0000   |    0.0000  |   0        |  0.00000   | ...        |    0.000   |     0      |     0.000  |    0.000   |   0.0000   |    0.000   |    0       | 0.00000000 | 716        | 0.0000000  | \n",
       "\n",
       "\n"
      ],
      "text/plain": [
       "  monthly_exp_avg max_rec_avg avg_monthly_inc avg_max_sent monthly_rec_avg\n",
       "2 5263.286         914.2857   2923.000        381.4286     2211.571       \n",
       "3    0.000           0.0000      0.000          0.0000        0.000       \n",
       "4    0.000           0.0000      0.000          0.0000        0.000       \n",
       "5    0.000           0.0000      0.000          0.0000        0.000       \n",
       "6 4722.857        2671.4286   3255.714        294.2857     3255.714       \n",
       "7    0.000           0.0000      0.000          0.0000        0.000       \n",
       "  total_rec deposit_max_avg avg_monthly_sent total_airtime monthly_airtime_avg\n",
       "2 15481     385.7143        1452.4286        428           61.14286           \n",
       "3     0       0.0000           0.0000          0            0.00000           \n",
       "4     0       0.0000           0.0000          0            0.00000           \n",
       "5     0       0.0000           0.0000          0            0.00000           \n",
       "6 22790       0.0000         294.2857          0            0.00000           \n",
       "7     0       0.0000           0.0000          0            0.00000           \n",
       "  ... avg_monthly_transferred total_transfered inc.exp   exp.inc \n",
       "2 ... 2266.857                15868            -2340.286 2340.286\n",
       "3 ...    0.000                    0                0.000    0.000\n",
       "4 ...    0.000                    0                0.000    0.000\n",
       "5 ...    0.000                    0                0.000    0.000\n",
       "6 ...    0.000                    0            -1467.143 1467.143\n",
       "7 ...    0.000                    0                0.000    0.000\n",
       "  avg_max_transfered avg_withdrawls total_paybill s_inc_r    credit_score\n",
       "2 464.4286           1340.000       1000          0.49689653   0         \n",
       "3   0.0000              0.000          0          0.00000000 803         \n",
       "4   0.0000              0.000          0          0.00000000   0         \n",
       "5   0.0000              0.000          0          0.00000000   0         \n",
       "6   0.0000           4428.571          0          0.09039052   0         \n",
       "7   0.0000              0.000          0          0.00000000 716         \n",
       "  d_exp_r  \n",
       "2 0.1351681\n",
       "3 0.0000000\n",
       "4 0.0000000\n",
       "5 0.0000000\n",
       "6 0.0000000\n",
       "7 0.0000000"
      ]
     },
     "metadata": {},
     "output_type": "display_data"
    }
   ],
   "source": [
    "head(numerical_df[,correlated_vars])"
   ]
  },
  {
   "cell_type": "markdown",
   "metadata": {},
   "source": [
    "#### Getting the uncorrelated numerical variables"
   ]
  },
  {
   "cell_type": "code",
   "execution_count": 23,
   "metadata": {},
   "outputs": [],
   "source": [
    "numerical_uncorr <- numerical_df[,-correlated_vars]"
   ]
  },
  {
   "cell_type": "markdown",
   "metadata": {},
   "source": [
    "#### Getting the factors"
   ]
  },
  {
   "cell_type": "code",
   "execution_count": 21,
   "metadata": {},
   "outputs": [],
   "source": [
    "separeted_factrs<-combined_data[,1:8]"
   ]
  },
  {
   "cell_type": "markdown",
   "metadata": {},
   "source": [
    "#### Combining the numerical and factor variables"
   ]
  },
  {
   "cell_type": "code",
   "execution_count": 24,
   "metadata": {},
   "outputs": [],
   "source": [
    "final_dataset <- cbind.data.frame(separeted_factrs,numerical_uncorr)"
   ]
  },
  {
   "cell_type": "code",
   "execution_count": 30,
   "metadata": {
    "scrolled": true
   },
   "outputs": [
    {
     "data": {
      "text/html": [
       "<table>\n",
       "<thead><tr><th></th><th scope=col>def</th><th scope=col>inc_brac4</th><th scope=col>inc_brac3</th><th scope=col>inc_brac2</th><th scope=col>inc_brac1</th><th scope=col>income_missing</th><th scope=col>kin_missing</th><th scope=col>credit_score_m</th><th scope=col>age</th><th scope=col>credit_score_avg</th><th scope=col>...</th><th scope=col>avg_min_sent</th><th scope=col>s_rec_r</th><th scope=col>rec_exp_r</th><th scope=col>inc_exp_r</th><th scope=col>t_exp_r</th><th scope=col>w_exp_r</th><th scope=col>s_exp_r</th><th scope=col>p_exp_r</th><th scope=col>a_exp_r</th><th scope=col>total_sent</th></tr></thead>\n",
       "<tbody>\n",
       "\t<tr><th scope=row>2</th><td>1          </td><td>0          </td><td>0          </td><td>0          </td><td>1          </td><td>0          </td><td>0          </td><td>1          </td><td>26         </td><td> 0.00      </td><td>...        </td><td>  2.0000000</td><td>0.49689653 </td><td>0.4201884  </td><td>0.5553565  </td><td>0.430692397</td><td>0.25459382 </td><td>0.27595473 </td><td>0.027142198</td><td>0.01161686 </td><td> 41757.321 </td></tr>\n",
       "\t<tr><th scope=row>3</th><td>0          </td><td>0          </td><td>0          </td><td>0          </td><td>0          </td><td>1          </td><td>1          </td><td>0          </td><td>29         </td><td>16.06      </td><td>...        </td><td>  0.0000000</td><td>0.00000000 </td><td>0.0000000  </td><td>0.0000000  </td><td>0.000000000</td><td>0.00000000 </td><td>0.00000000 </td><td>0.000000000</td><td>0.00000000 </td><td>     0.000 </td></tr>\n",
       "\t<tr><th scope=row>4</th><td>1          </td><td>0          </td><td>0          </td><td>0          </td><td>0          </td><td>1          </td><td>1          </td><td>0          </td><td>46         </td><td> 0.00      </td><td>...        </td><td>  0.0000000</td><td>0.00000000 </td><td>0.0000000  </td><td>0.0000000  </td><td>0.000000000</td><td>0.00000000 </td><td>0.00000000 </td><td>0.000000000</td><td>0.00000000 </td><td>     0.000 </td></tr>\n",
       "\t<tr><th scope=row>5</th><td>0          </td><td>0          </td><td>0          </td><td>0          </td><td>1          </td><td>0          </td><td>0          </td><td>1          </td><td>47         </td><td> 0.00      </td><td>...        </td><td>  0.0000000</td><td>0.00000000 </td><td>0.0000000  </td><td>0.0000000  </td><td>0.000000000</td><td>0.00000000 </td><td>0.00000000 </td><td>0.000000000</td><td>0.00000000 </td><td>     0.000 </td></tr>\n",
       "\t<tr><th scope=row>6</th><td>0          </td><td>0          </td><td>0          </td><td>0          </td><td>0          </td><td>0          </td><td>0          </td><td>1          </td><td>29         </td><td> 0.00      </td><td>...        </td><td>294.2857143</td><td>0.09039052 </td><td>0.6893527  </td><td>0.6893527  </td><td>0.000000000</td><td>0.93768905 </td><td>0.06231095 </td><td>0.000000000</td><td>0.00000000 </td><td>  8460.714 </td></tr>\n",
       "\t<tr><th scope=row>7</th><td>1          </td><td>0          </td><td>0          </td><td>0          </td><td>0          </td><td>1          </td><td>1          </td><td>0          </td><td>23         </td><td>14.32      </td><td>...        </td><td>  0.0000000</td><td>0.00000000 </td><td>0.0000000  </td><td>0.0000000  </td><td>0.000000000</td><td>0.00000000 </td><td>0.00000000 </td><td>0.000000000</td><td>0.00000000 </td><td>     0.000 </td></tr>\n",
       "\t<tr><th scope=row>8</th><td>1          </td><td>0          </td><td>0          </td><td>0          </td><td>1          </td><td>0          </td><td>0          </td><td>1          </td><td>21         </td><td> 0.00      </td><td>...        </td><td> 82.4285714</td><td>0.13037241 </td><td>1.2357361  </td><td>1.3093058  </td><td>0.004539407</td><td>0.74962824 </td><td>0.17069735 </td><td>0.038350160</td><td>0.03678485 </td><td>  8957.679 </td></tr>\n",
       "\t<tr><th scope=row>9</th><td>1          </td><td>0          </td><td>0          </td><td>0          </td><td>0          </td><td>1          </td><td>1          </td><td>0          </td><td>24         </td><td> 0.00      </td><td>...        </td><td>  0.0000000</td><td>0.00000000 </td><td>0.0000000  </td><td>0.0000000  </td><td>0.000000000</td><td>0.00000000 </td><td>0.00000000 </td><td>0.000000000</td><td>0.00000000 </td><td>     0.000 </td></tr>\n",
       "\t<tr><th scope=row>10</th><td>0          </td><td>0          </td><td>0          </td><td>0          </td><td>0          </td><td>1          </td><td>1          </td><td>0          </td><td>26         </td><td>14.36      </td><td>...        </td><td>108.4285714</td><td>0.62567010 </td><td>0.6014946  </td><td>0.9822387  </td><td>0.072604654</td><td>0.26004010 </td><td>0.61455739 </td><td>0.040666707</td><td>0.01213115 </td><td>124631.250 </td></tr>\n",
       "\t<tr><th scope=row>11</th><td>1          </td><td>0          </td><td>0          </td><td>0          </td><td>0          </td><td>1          </td><td>1          </td><td>0          </td><td>23         </td><td> 0.00      </td><td>...        </td><td>  0.0000000</td><td>0.00000000 </td><td>0.0000000  </td><td>0.0000000  </td><td>0.000000000</td><td>0.00000000 </td><td>0.00000000 </td><td>0.000000000</td><td>0.00000000 </td><td>     0.000 </td></tr>\n",
       "\t<tr><th scope=row>12</th><td>0          </td><td>0          </td><td>0          </td><td>0          </td><td>1          </td><td>0          </td><td>0          </td><td>1          </td><td>21         </td><td> 0.00      </td><td>...        </td><td>  7.1428571</td><td>0.48078873 </td><td>0.2661840  </td><td>1.2599375  </td><td>0.000000000</td><td>0.24134015 </td><td>0.60576377 </td><td>0.124503123</td><td>0.02839296 </td><td> 35050.357 </td></tr>\n",
       "\t<tr><th scope=row>13</th><td>1          </td><td>0          </td><td>0          </td><td>0          </td><td>0          </td><td>1          </td><td>1          </td><td>0          </td><td>37         </td><td>10.04      </td><td>...        </td><td>  0.0000000</td><td>0.00000000 </td><td>0.0000000  </td><td>0.0000000  </td><td>0.000000000</td><td>0.00000000 </td><td>0.00000000 </td><td>0.000000000</td><td>0.00000000 </td><td>     0.000 </td></tr>\n",
       "\t<tr><th scope=row>14</th><td>1          </td><td>0          </td><td>0          </td><td>0          </td><td>1          </td><td>0          </td><td>0          </td><td>1          </td><td>47         </td><td> 0.00      </td><td>...        </td><td>  7.1428571</td><td>0.59343167 </td><td>0.5437695  </td><td>0.7029387  </td><td>0.102621177</td><td>0.27545684 </td><td>0.41714608 </td><td>0.191706834</td><td>0.01306906 </td><td>209357.500 </td></tr>\n",
       "\t<tr><th scope=row>15</th><td>1          </td><td>0          </td><td>0          </td><td>0          </td><td>0          </td><td>1          </td><td>1          </td><td>0          </td><td>23         </td><td> 0.00      </td><td>...        </td><td>  0.0000000</td><td>0.00000000 </td><td>0.0000000  </td><td>0.0000000  </td><td>0.000000000</td><td>0.00000000 </td><td>0.00000000 </td><td>0.000000000</td><td>0.00000000 </td><td>     0.000 </td></tr>\n",
       "\t<tr><th scope=row>16</th><td>1          </td><td>0          </td><td>0          </td><td>0          </td><td>0          </td><td>1          </td><td>1          </td><td>0          </td><td>24         </td><td> 0.00      </td><td>...        </td><td>  0.0000000</td><td>0.00000000 </td><td>0.0000000  </td><td>0.0000000  </td><td>0.000000000</td><td>0.00000000 </td><td>0.00000000 </td><td>0.000000000</td><td>0.00000000 </td><td>     0.000 </td></tr>\n",
       "\t<tr><th scope=row>17</th><td>0          </td><td>0          </td><td>0          </td><td>0          </td><td>0          </td><td>0          </td><td>0          </td><td>1          </td><td>31         </td><td> 0.00      </td><td>...        </td><td>  0.0000000</td><td>0.00000000 </td><td>0.0000000  </td><td>0.0000000  </td><td>0.000000000</td><td>0.00000000 </td><td>0.00000000 </td><td>0.000000000</td><td>0.00000000 </td><td>     0.000 </td></tr>\n",
       "\t<tr><th scope=row>18</th><td>1          </td><td>0          </td><td>0          </td><td>0          </td><td>0          </td><td>1          </td><td>1          </td><td>0          </td><td>22         </td><td>13.60      </td><td>...        </td><td> 18.2857143</td><td>0.22782814 </td><td>0.6992801  </td><td>0.8301702  </td><td>0.081151832</td><td>0.63808900 </td><td>0.18913613 </td><td>0.075261780</td><td>0.01636126 </td><td>  2373.929 </td></tr>\n",
       "\t<tr><th scope=row>19</th><td>1          </td><td>0          </td><td>0          </td><td>0          </td><td>0          </td><td>1          </td><td>1          </td><td>0          </td><td>34         </td><td>15.14      </td><td>...        </td><td>  0.7142857</td><td>0.28094340 </td><td>0.6653360  </td><td>1.1754269  </td><td>0.643158128</td><td>0.00000000 </td><td>0.33022843 </td><td>0.000000000</td><td>0.02661344 </td><td>  6115.536 </td></tr>\n",
       "\t<tr><th scope=row>20</th><td>1          </td><td>0          </td><td>0          </td><td>0          </td><td>0          </td><td>1          </td><td>1          </td><td>0          </td><td>31         </td><td>14.54      </td><td>...        </td><td>  0.0000000</td><td>0.00000000 </td><td>0.0000000  </td><td>0.0000000  </td><td>0.000000000</td><td>0.00000000 </td><td>0.00000000 </td><td>0.000000000</td><td>0.00000000 </td><td>     0.000 </td></tr>\n",
       "\t<tr><th scope=row>21</th><td>1          </td><td>0          </td><td>0          </td><td>0          </td><td>0          </td><td>1          </td><td>1          </td><td>0          </td><td>32         </td><td> 0.00      </td><td>...        </td><td>  0.0000000</td><td>0.00000000 </td><td>0.0000000  </td><td>0.0000000  </td><td>0.000000000</td><td>0.00000000 </td><td>0.00000000 </td><td>0.000000000</td><td>0.00000000 </td><td>     0.000 </td></tr>\n",
       "\t<tr><th scope=row>22</th><td>1          </td><td>0          </td><td>0          </td><td>0          </td><td>0          </td><td>1          </td><td>1          </td><td>0          </td><td>27         </td><td> 0.00      </td><td>...        </td><td>  0.0000000</td><td>0.00000000 </td><td>0.0000000  </td><td>0.0000000  </td><td>0.000000000</td><td>0.00000000 </td><td>0.00000000 </td><td>0.000000000</td><td>0.00000000 </td><td>     0.000 </td></tr>\n",
       "\t<tr><th scope=row>23</th><td>1          </td><td>0          </td><td>0          </td><td>0          </td><td>0          </td><td>1          </td><td>1          </td><td>0          </td><td>24         </td><td>14.54      </td><td>...        </td><td> 86.7142857</td><td>0.70252167 </td><td>0.8303238  </td><td>0.9112300  </td><td>0.008757424</td><td>0.31940147 </td><td>0.64015879 </td><td>0.008001707</td><td>0.02368061 </td><td>591449.107 </td></tr>\n",
       "\t<tr><th scope=row>24</th><td>0          </td><td>0          </td><td>0          </td><td>0          </td><td>0          </td><td>1          </td><td>1          </td><td>0          </td><td>25         </td><td>15.76      </td><td>...        </td><td>  0.0000000</td><td>0.00000000 </td><td>0.0000000  </td><td>0.0000000  </td><td>0.000000000</td><td>0.00000000 </td><td>0.00000000 </td><td>0.000000000</td><td>0.00000000 </td><td>     0.000 </td></tr>\n",
       "\t<tr><th scope=row>25</th><td>1          </td><td>0          </td><td>0          </td><td>0          </td><td>0          </td><td>1          </td><td>1          </td><td>0          </td><td>23         </td><td> 0.00      </td><td>...        </td><td> 94.0000000</td><td>0.48678858 </td><td>0.4067936  </td><td>0.8434439  </td><td>0.283581666</td><td>0.25178275 </td><td>0.41057885 </td><td>0.017239179</td><td>0.03681756 </td><td>118946.964 </td></tr>\n",
       "\t<tr><th scope=row>26</th><td>1          </td><td>0          </td><td>0          </td><td>1          </td><td>0          </td><td>0          </td><td>0          </td><td>0          </td><td>25         </td><td> 5.96      </td><td>...        </td><td> 18.1428571</td><td>0.94880546 </td><td>0.1489110  </td><td>0.7283381  </td><td>0.176136364</td><td>0.05089962 </td><td>0.69105114 </td><td>0.063920455</td><td>0.01799242 </td><td> 23977.500 </td></tr>\n",
       "\t<tr><th scope=row>27</th><td>1          </td><td>0          </td><td>0          </td><td>0          </td><td>0          </td><td>1          </td><td>1          </td><td>0          </td><td>46         </td><td>15.68      </td><td>...        </td><td>  7.1428571</td><td>0.64287492 </td><td>1.2191791  </td><td>1.2191791  </td><td>0.000000000</td><td>0.20484030 </td><td>0.78377968 </td><td>0.000000000</td><td>0.01138002 </td><td> 42430.893 </td></tr>\n",
       "\t<tr><th scope=row>28</th><td>1          </td><td>0          </td><td>0          </td><td>1          </td><td>0          </td><td>0          </td><td>0          </td><td>1          </td><td>29         </td><td> 0.00      </td><td>...        </td><td>  0.0000000</td><td>0.00000000 </td><td>0.0000000  </td><td>0.0000000  </td><td>0.000000000</td><td>0.00000000 </td><td>0.00000000 </td><td>0.000000000</td><td>0.00000000 </td><td>     0.000 </td></tr>\n",
       "\t<tr><th scope=row>29</th><td>0          </td><td>0          </td><td>0          </td><td>0          </td><td>0          </td><td>1          </td><td>1          </td><td>0          </td><td>27         </td><td>14.46      </td><td>...        </td><td> 25.7142857</td><td>0.59310369 </td><td>0.6282394  </td><td>0.7348873  </td><td>0.120224791</td><td>0.07803819 </td><td>0.43586436 </td><td>0.348272559</td><td>0.01760010 </td><td>140160.357 </td></tr>\n",
       "\t<tr><th scope=row>30</th><td>1          </td><td>0          </td><td>0          </td><td>0          </td><td>0          </td><td>1          </td><td>1          </td><td>0          </td><td>45         </td><td> 5.82      </td><td>...        </td><td>  0.0000000</td><td>0.00000000 </td><td>0.0000000  </td><td>0.0000000  </td><td>0.000000000</td><td>0.00000000 </td><td>0.00000000 </td><td>0.000000000</td><td>0.00000000 </td><td>     0.000 </td></tr>\n",
       "\t<tr><th scope=row>31</th><td>0          </td><td>0          </td><td>0          </td><td>0          </td><td>0          </td><td>1          </td><td>1          </td><td>0          </td><td>23         </td><td> 0.00      </td><td>...        </td><td>  0.0000000</td><td>0.00000000 </td><td>0.0000000  </td><td>0.0000000  </td><td>0.000000000</td><td>0.00000000 </td><td>0.00000000 </td><td>0.000000000</td><td>0.00000000 </td><td>     0.000 </td></tr>\n",
       "\t<tr><th scope=row>...</th><td>...</td><td>...</td><td>...</td><td>...</td><td>...</td><td>...</td><td>...</td><td>...</td><td>...</td><td>...</td><td>   </td><td>...</td><td>...</td><td>...</td><td>...</td><td>...</td><td>...</td><td>...</td><td>...</td><td>...</td><td>...</td></tr>\n",
       "\t<tr><th scope=row>3577</th><td>1           </td><td>0           </td><td>0           </td><td>0           </td><td>0           </td><td>1           </td><td>1           </td><td>0           </td><td>22          </td><td> 5.46       </td><td>...         </td><td>  0.000000  </td><td>0.00000000  </td><td>0.0000000   </td><td>0.0000000   </td><td>0.000000000 </td><td>0.0000000   </td><td>0.000000000 </td><td>0.00000000  </td><td>0.000000000 </td><td>0.000000e+00</td></tr>\n",
       "\t<tr><th scope=row>3578</th><td>0           </td><td>0           </td><td>0           </td><td>0           </td><td>0           </td><td>1           </td><td>1           </td><td>0           </td><td>32          </td><td>14.78       </td><td>...         </td><td>  0.000000  </td><td>0.00000000  </td><td>0.0000000   </td><td>0.0000000   </td><td>0.000000000 </td><td>0.0000000   </td><td>0.000000000 </td><td>0.00000000  </td><td>0.000000000 </td><td>0.000000e+00</td></tr>\n",
       "\t<tr><th scope=row>3579</th><td>0           </td><td>0           </td><td>0           </td><td>0           </td><td>0           </td><td>1           </td><td>1           </td><td>0           </td><td>27          </td><td> 5.48       </td><td>...         </td><td>  0.000000  </td><td>0.00000000  </td><td>0.0000000   </td><td>0.0000000   </td><td>0.000000000 </td><td>0.0000000   </td><td>0.000000000 </td><td>0.00000000  </td><td>0.000000000 </td><td>0.000000e+00</td></tr>\n",
       "\t<tr><th scope=row>3580</th><td>0           </td><td>0           </td><td>0           </td><td>0           </td><td>0           </td><td>0           </td><td>0           </td><td>0           </td><td>30          </td><td>14.36       </td><td>...         </td><td>  9.285714  </td><td>1.29750000  </td><td>0.4746835   </td><td>0.6329114   </td><td>0.014240506 </td><td>0.0000000   </td><td>0.821202532 </td><td>0.10126582  </td><td>0.063291139 </td><td>1.065804e+04</td></tr>\n",
       "\t<tr><th scope=row>3581</th><td>0           </td><td>0           </td><td>0           </td><td>0           </td><td>0           </td><td>1           </td><td>1           </td><td>0           </td><td>29          </td><td> 0.00       </td><td>...         </td><td>  8.571429  </td><td>0.70126110  </td><td>0.7765531   </td><td>0.9540406   </td><td>0.067087330 </td><td>0.2446309   </td><td>0.669031566 </td><td>0.00185375  </td><td>0.017396422 </td><td>6.863036e+05</td></tr>\n",
       "\t<tr><th scope=row>3582</th><td>1           </td><td>0           </td><td>0           </td><td>1           </td><td>0           </td><td>0           </td><td>0           </td><td>1           </td><td>22          </td><td> 0.00       </td><td>...         </td><td>  0.000000  </td><td>0.00000000  </td><td>0.0000000   </td><td>0.0000000   </td><td>0.000000000 </td><td>0.0000000   </td><td>0.000000000 </td><td>0.00000000  </td><td>0.000000000 </td><td>0.000000e+00</td></tr>\n",
       "\t<tr><th scope=row>3583</th><td>1           </td><td>0           </td><td>0           </td><td>0           </td><td>0           </td><td>1           </td><td>1           </td><td>0           </td><td>23          </td><td> 0.00       </td><td>...         </td><td>  1.428571  </td><td>0.00877193  </td><td>0.4149982   </td><td>0.4149982   </td><td>0.594830724 </td><td>0.3567528   </td><td>0.003640335 </td><td>0.00000000  </td><td>0.044776119 </td><td>4.107143e+01</td></tr>\n",
       "\t<tr><th scope=row>3584</th><td>0           </td><td>0           </td><td>0           </td><td>0           </td><td>0           </td><td>1           </td><td>1           </td><td>0           </td><td>49          </td><td>16.72       </td><td>...         </td><td>  0.000000  </td><td>0.00000000  </td><td>0.0000000   </td><td>0.0000000   </td><td>0.000000000 </td><td>0.0000000   </td><td>0.000000000 </td><td>0.00000000  </td><td>0.000000000 </td><td>0.000000e+00</td></tr>\n",
       "\t<tr><th scope=row>3585</th><td>0           </td><td>0           </td><td>0           </td><td>0           </td><td>0           </td><td>1           </td><td>1           </td><td>0           </td><td>31          </td><td> 0.00       </td><td>...         </td><td>586.285714  </td><td>0.43435691  </td><td>0.8484682   </td><td>0.9102680   </td><td>0.085814464 </td><td>0.4657996   </td><td>0.395381180 </td><td>0.04221186  </td><td>0.010792917 </td><td>8.290268e+04</td></tr>\n",
       "\t<tr><th scope=row>3586</th><td>1           </td><td>0           </td><td>0           </td><td>0           </td><td>1           </td><td>0           </td><td>0           </td><td>1           </td><td>25          </td><td> 0.00       </td><td>...         </td><td>  0.000000  </td><td>0.00000000  </td><td>0.0000000   </td><td>0.0000000   </td><td>0.000000000 </td><td>0.0000000   </td><td>0.000000000 </td><td>0.00000000  </td><td>0.000000000 </td><td>0.000000e+00</td></tr>\n",
       "\t<tr><th scope=row>3587</th><td>1           </td><td>0           </td><td>0           </td><td>0           </td><td>0           </td><td>1           </td><td>1           </td><td>0           </td><td>25          </td><td>14.20       </td><td>...         </td><td>  0.000000  </td><td>0.00000000  </td><td>0.0000000   </td><td>0.0000000   </td><td>0.000000000 </td><td>0.0000000   </td><td>0.000000000 </td><td>0.00000000  </td><td>0.000000000 </td><td>0.000000e+00</td></tr>\n",
       "\t<tr><th scope=row>3588</th><td>1           </td><td>0           </td><td>0           </td><td>0           </td><td>0           </td><td>0           </td><td>0           </td><td>1           </td><td>28          </td><td> 0.00       </td><td>...         </td><td>  0.000000  </td><td>0.00000000  </td><td>0.0000000   </td><td>0.0000000   </td><td>0.000000000 </td><td>0.0000000   </td><td>0.000000000 </td><td>0.00000000  </td><td>0.000000000 </td><td>0.000000e+00</td></tr>\n",
       "\t<tr><th scope=row>3589</th><td>0           </td><td>0           </td><td>0           </td><td>0           </td><td>0           </td><td>1           </td><td>1           </td><td>0           </td><td>25          </td><td>14.94       </td><td>...         </td><td>  0.000000  </td><td>0.00000000  </td><td>0.0000000   </td><td>0.0000000   </td><td>0.000000000 </td><td>0.0000000   </td><td>0.000000000 </td><td>0.00000000  </td><td>0.000000000 </td><td>0.000000e+00</td></tr>\n",
       "\t<tr><th scope=row>3590</th><td>1           </td><td>0           </td><td>0           </td><td>0           </td><td>0           </td><td>1           </td><td>1           </td><td>0           </td><td>26          </td><td>14.75       </td><td>...         </td><td>919.857143  </td><td>3.51797386  </td><td>0.2692477   </td><td>0.2692477   </td><td>0.000000000 </td><td>0.0000000   </td><td>0.947206335 </td><td>0.00000000  </td><td>0.052793665 </td><td>4.421339e+04</td></tr>\n",
       "\t<tr><th scope=row>3591</th><td>1           </td><td>0           </td><td>0           </td><td>0           </td><td>0           </td><td>1           </td><td>1           </td><td>0           </td><td>31          </td><td>15.22       </td><td>...         </td><td> 90.000000  </td><td>0.00000000  </td><td>0.0000000   </td><td>0.0000000   </td><td>0.000000000 </td><td>0.0000000   </td><td>1.000000000 </td><td>0.00000000  </td><td>0.000000000 </td><td>2.587500e+03</td></tr>\n",
       "\t<tr><th scope=row>3592</th><td>0           </td><td>0           </td><td>0           </td><td>0           </td><td>0           </td><td>1           </td><td>1           </td><td>0           </td><td>27          </td><td>13.60       </td><td>...         </td><td>302.714286  </td><td>0.68767349  </td><td>0.6858111   </td><td>0.8372950   </td><td>0.098478272 </td><td>0.2512482   </td><td>0.575785553 </td><td>0.05610138  </td><td>0.018386592 </td><td>5.148550e+05</td></tr>\n",
       "\t<tr><th scope=row>3593</th><td>0           </td><td>1           </td><td>0           </td><td>0           </td><td>0           </td><td>0           </td><td>0           </td><td>0           </td><td>33          </td><td>14.54       </td><td>...         </td><td> 31.428571  </td><td>0.55606736  </td><td>0.6857968   </td><td>1.1602432   </td><td>0.000022100 </td><td>0.1984008   </td><td>0.645173367 </td><td>0.15125981  </td><td>0.005143889 </td><td>1.797836e+06</td></tr>\n",
       "\t<tr><th scope=row>3594</th><td>0           </td><td>0           </td><td>0           </td><td>1           </td><td>0           </td><td>0           </td><td>0           </td><td>1           </td><td>37          </td><td> 0.00       </td><td>...         </td><td> 18.571429  </td><td>0.42626718  </td><td>0.5119433   </td><td>0.9742442   </td><td>0.008346193 </td><td>0.4553457   </td><td>0.415288313 </td><td>0.06179226  </td><td>0.059227542 </td><td>7.847518e+04</td></tr>\n",
       "\t<tr><th scope=row>3595</th><td>1           </td><td>0           </td><td>0           </td><td>0           </td><td>0           </td><td>1           </td><td>1           </td><td>0           </td><td>73          </td><td>12.30       </td><td>...         </td><td>  0.000000  </td><td>0.00000000  </td><td>0.0000000   </td><td>0.0000000   </td><td>0.000000000 </td><td>0.0000000   </td><td>0.000000000 </td><td>0.00000000  </td><td>0.000000000 </td><td>0.000000e+00</td></tr>\n",
       "\t<tr><th scope=row>3596</th><td>1           </td><td>0           </td><td>0           </td><td>0           </td><td>0           </td><td>1           </td><td>1           </td><td>0           </td><td>22          </td><td>14.32       </td><td>...         </td><td>  0.000000  </td><td>0.00000000  </td><td>0.0000000   </td><td>0.0000000   </td><td>0.000000000 </td><td>0.0000000   </td><td>0.000000000 </td><td>0.00000000  </td><td>0.000000000 </td><td>0.000000e+00</td></tr>\n",
       "\t<tr><th scope=row>3597</th><td>0           </td><td>0           </td><td>1           </td><td>0           </td><td>0           </td><td>0           </td><td>0           </td><td>1           </td><td>33          </td><td> 0.00       </td><td>...         </td><td>  0.000000  </td><td>0.00000000  </td><td>0.0000000   </td><td>0.0000000   </td><td>0.000000000 </td><td>0.0000000   </td><td>0.000000000 </td><td>0.00000000  </td><td>0.000000000 </td><td>0.000000e+00</td></tr>\n",
       "\t<tr><th scope=row>3598</th><td>1           </td><td>0           </td><td>0           </td><td>0           </td><td>0           </td><td>1           </td><td>1           </td><td>0           </td><td>29          </td><td>15.22       </td><td>...         </td><td>  0.000000  </td><td>0.00000000  </td><td>0.0000000   </td><td>0.0000000   </td><td>0.000000000 </td><td>0.0000000   </td><td>0.000000000 </td><td>0.00000000  </td><td>0.000000000 </td><td>0.000000e+00</td></tr>\n",
       "\t<tr><th scope=row>3599</th><td>0           </td><td>0           </td><td>0           </td><td>1           </td><td>0           </td><td>0           </td><td>0           </td><td>1           </td><td>30          </td><td> 0.00       </td><td>...         </td><td> 45.571429  </td><td>0.03442154  </td><td>0.6709751   </td><td>1.6593803   </td><td>0.041056833 </td><td>0.8786352   </td><td>0.057118419 </td><td>0.00000000  </td><td>0.023189508 </td><td>2.468393e+03</td></tr>\n",
       "\t<tr><th scope=row>3600</th><td>0           </td><td>0           </td><td>0           </td><td>0           </td><td>0           </td><td>1           </td><td>1           </td><td>0           </td><td>33          </td><td>15.08       </td><td>...         </td><td>  0.000000  </td><td>0.00000000  </td><td>0.0000000   </td><td>0.0000000   </td><td>0.000000000 </td><td>0.0000000   </td><td>0.000000000 </td><td>0.00000000  </td><td>0.000000000 </td><td>0.000000e+00</td></tr>\n",
       "\t<tr><th scope=row>3601</th><td>0           </td><td>0           </td><td>0           </td><td>0           </td><td>0           </td><td>1           </td><td>1           </td><td>0           </td><td>26          </td><td>14.94       </td><td>...         </td><td>  0.000000  </td><td>0.00000000  </td><td>0.0000000   </td><td>0.0000000   </td><td>0.000000000 </td><td>0.0000000   </td><td>0.000000000 </td><td>0.00000000  </td><td>0.000000000 </td><td>0.000000e+00</td></tr>\n",
       "\t<tr><th scope=row>3602</th><td>1           </td><td>0           </td><td>0           </td><td>0           </td><td>0           </td><td>1           </td><td>1           </td><td>0           </td><td>26          </td><td> 0.00       </td><td>...         </td><td>  0.000000  </td><td>0.00000000  </td><td>0.0000000   </td><td>0.0000000   </td><td>0.000000000 </td><td>0.0000000   </td><td>0.000000000 </td><td>0.00000000  </td><td>0.000000000 </td><td>0.000000e+00</td></tr>\n",
       "\t<tr><th scope=row>3603</th><td>0           </td><td>0           </td><td>0           </td><td>0           </td><td>0           </td><td>0           </td><td>0           </td><td>1           </td><td>27          </td><td> 0.00       </td><td>...         </td><td>  5.000000  </td><td>0.76986581  </td><td>0.6673409   </td><td>0.6806220   </td><td>0.124637326 </td><td>0.1056352   </td><td>0.523987577 </td><td>0.23497201  </td><td>0.010767848 </td><td>1.053277e+05</td></tr>\n",
       "\t<tr><th scope=row>3604</th><td>1           </td><td>0           </td><td>0           </td><td>0           </td><td>1           </td><td>0           </td><td>0           </td><td>1           </td><td>24          </td><td> 0.00       </td><td>...         </td><td>  2.571429  </td><td>0.22689741  </td><td>0.2628681   </td><td>0.7375490   </td><td>0.003754067 </td><td>0.5314090   </td><td>0.167347960 </td><td>0.28697756  </td><td>0.010511387 </td><td>8.238929e+03</td></tr>\n",
       "\t<tr><th scope=row>3605</th><td>1           </td><td>0           </td><td>0           </td><td>0           </td><td>0           </td><td>1           </td><td>1           </td><td>0           </td><td>26          </td><td>14.68       </td><td>...         </td><td>  0.000000  </td><td>0.00000000  </td><td>0.0000000   </td><td>0.0000000   </td><td>0.000000000 </td><td>0.0000000   </td><td>0.000000000 </td><td>0.00000000  </td><td>0.000000000 </td><td>0.000000e+00</td></tr>\n",
       "\t<tr><th scope=row>3606</th><td>1           </td><td>0           </td><td>0           </td><td>0           </td><td>0           </td><td>1           </td><td>1           </td><td>0           </td><td>25          </td><td>14.32       </td><td>...         </td><td>  0.000000  </td><td>0.00000000  </td><td>0.0000000   </td><td>0.0000000   </td><td>0.000000000 </td><td>0.0000000   </td><td>0.000000000 </td><td>0.00000000  </td><td>0.000000000 </td><td>0.000000e+00</td></tr>\n",
       "</tbody>\n",
       "</table>\n"
      ],
      "text/latex": [
       "\\begin{tabular}{r|lllllllllllllllllllllllllllllllllllll}\n",
       "  & def & inc\\_brac4 & inc\\_brac3 & inc\\_brac2 & inc\\_brac1 & income\\_missing & kin\\_missing & credit\\_score\\_m & age & credit\\_score\\_avg & ... & avg\\_min\\_sent & s\\_rec\\_r & rec\\_exp\\_r & inc\\_exp\\_r & t\\_exp\\_r & w\\_exp\\_r & s\\_exp\\_r & p\\_exp\\_r & a\\_exp\\_r & total\\_sent\\\\\n",
       "\\hline\n",
       "\t2 & 1           & 0           & 0           & 0           & 1           & 0           & 0           & 1           & 26          &  0.00       & ...         &   2.0000000 & 0.49689653  & 0.4201884   & 0.5553565   & 0.430692397 & 0.25459382  & 0.27595473  & 0.027142198 & 0.01161686  &  41757.321 \\\\\n",
       "\t3 & 0           & 0           & 0           & 0           & 0           & 1           & 1           & 0           & 29          & 16.06       & ...         &   0.0000000 & 0.00000000  & 0.0000000   & 0.0000000   & 0.000000000 & 0.00000000  & 0.00000000  & 0.000000000 & 0.00000000  &      0.000 \\\\\n",
       "\t4 & 1           & 0           & 0           & 0           & 0           & 1           & 1           & 0           & 46          &  0.00       & ...         &   0.0000000 & 0.00000000  & 0.0000000   & 0.0000000   & 0.000000000 & 0.00000000  & 0.00000000  & 0.000000000 & 0.00000000  &      0.000 \\\\\n",
       "\t5 & 0           & 0           & 0           & 0           & 1           & 0           & 0           & 1           & 47          &  0.00       & ...         &   0.0000000 & 0.00000000  & 0.0000000   & 0.0000000   & 0.000000000 & 0.00000000  & 0.00000000  & 0.000000000 & 0.00000000  &      0.000 \\\\\n",
       "\t6 & 0           & 0           & 0           & 0           & 0           & 0           & 0           & 1           & 29          &  0.00       & ...         & 294.2857143 & 0.09039052  & 0.6893527   & 0.6893527   & 0.000000000 & 0.93768905  & 0.06231095  & 0.000000000 & 0.00000000  &   8460.714 \\\\\n",
       "\t7 & 1           & 0           & 0           & 0           & 0           & 1           & 1           & 0           & 23          & 14.32       & ...         &   0.0000000 & 0.00000000  & 0.0000000   & 0.0000000   & 0.000000000 & 0.00000000  & 0.00000000  & 0.000000000 & 0.00000000  &      0.000 \\\\\n",
       "\t8 & 1           & 0           & 0           & 0           & 1           & 0           & 0           & 1           & 21          &  0.00       & ...         &  82.4285714 & 0.13037241  & 1.2357361   & 1.3093058   & 0.004539407 & 0.74962824  & 0.17069735  & 0.038350160 & 0.03678485  &   8957.679 \\\\\n",
       "\t9 & 1           & 0           & 0           & 0           & 0           & 1           & 1           & 0           & 24          &  0.00       & ...         &   0.0000000 & 0.00000000  & 0.0000000   & 0.0000000   & 0.000000000 & 0.00000000  & 0.00000000  & 0.000000000 & 0.00000000  &      0.000 \\\\\n",
       "\t10 & 0           & 0           & 0           & 0           & 0           & 1           & 1           & 0           & 26          & 14.36       & ...         & 108.4285714 & 0.62567010  & 0.6014946   & 0.9822387   & 0.072604654 & 0.26004010  & 0.61455739  & 0.040666707 & 0.01213115  & 124631.250 \\\\\n",
       "\t11 & 1           & 0           & 0           & 0           & 0           & 1           & 1           & 0           & 23          &  0.00       & ...         &   0.0000000 & 0.00000000  & 0.0000000   & 0.0000000   & 0.000000000 & 0.00000000  & 0.00000000  & 0.000000000 & 0.00000000  &      0.000 \\\\\n",
       "\t12 & 0           & 0           & 0           & 0           & 1           & 0           & 0           & 1           & 21          &  0.00       & ...         &   7.1428571 & 0.48078873  & 0.2661840   & 1.2599375   & 0.000000000 & 0.24134015  & 0.60576377  & 0.124503123 & 0.02839296  &  35050.357 \\\\\n",
       "\t13 & 1           & 0           & 0           & 0           & 0           & 1           & 1           & 0           & 37          & 10.04       & ...         &   0.0000000 & 0.00000000  & 0.0000000   & 0.0000000   & 0.000000000 & 0.00000000  & 0.00000000  & 0.000000000 & 0.00000000  &      0.000 \\\\\n",
       "\t14 & 1           & 0           & 0           & 0           & 1           & 0           & 0           & 1           & 47          &  0.00       & ...         &   7.1428571 & 0.59343167  & 0.5437695   & 0.7029387   & 0.102621177 & 0.27545684  & 0.41714608  & 0.191706834 & 0.01306906  & 209357.500 \\\\\n",
       "\t15 & 1           & 0           & 0           & 0           & 0           & 1           & 1           & 0           & 23          &  0.00       & ...         &   0.0000000 & 0.00000000  & 0.0000000   & 0.0000000   & 0.000000000 & 0.00000000  & 0.00000000  & 0.000000000 & 0.00000000  &      0.000 \\\\\n",
       "\t16 & 1           & 0           & 0           & 0           & 0           & 1           & 1           & 0           & 24          &  0.00       & ...         &   0.0000000 & 0.00000000  & 0.0000000   & 0.0000000   & 0.000000000 & 0.00000000  & 0.00000000  & 0.000000000 & 0.00000000  &      0.000 \\\\\n",
       "\t17 & 0           & 0           & 0           & 0           & 0           & 0           & 0           & 1           & 31          &  0.00       & ...         &   0.0000000 & 0.00000000  & 0.0000000   & 0.0000000   & 0.000000000 & 0.00000000  & 0.00000000  & 0.000000000 & 0.00000000  &      0.000 \\\\\n",
       "\t18 & 1           & 0           & 0           & 0           & 0           & 1           & 1           & 0           & 22          & 13.60       & ...         &  18.2857143 & 0.22782814  & 0.6992801   & 0.8301702   & 0.081151832 & 0.63808900  & 0.18913613  & 0.075261780 & 0.01636126  &   2373.929 \\\\\n",
       "\t19 & 1           & 0           & 0           & 0           & 0           & 1           & 1           & 0           & 34          & 15.14       & ...         &   0.7142857 & 0.28094340  & 0.6653360   & 1.1754269   & 0.643158128 & 0.00000000  & 0.33022843  & 0.000000000 & 0.02661344  &   6115.536 \\\\\n",
       "\t20 & 1           & 0           & 0           & 0           & 0           & 1           & 1           & 0           & 31          & 14.54       & ...         &   0.0000000 & 0.00000000  & 0.0000000   & 0.0000000   & 0.000000000 & 0.00000000  & 0.00000000  & 0.000000000 & 0.00000000  &      0.000 \\\\\n",
       "\t21 & 1           & 0           & 0           & 0           & 0           & 1           & 1           & 0           & 32          &  0.00       & ...         &   0.0000000 & 0.00000000  & 0.0000000   & 0.0000000   & 0.000000000 & 0.00000000  & 0.00000000  & 0.000000000 & 0.00000000  &      0.000 \\\\\n",
       "\t22 & 1           & 0           & 0           & 0           & 0           & 1           & 1           & 0           & 27          &  0.00       & ...         &   0.0000000 & 0.00000000  & 0.0000000   & 0.0000000   & 0.000000000 & 0.00000000  & 0.00000000  & 0.000000000 & 0.00000000  &      0.000 \\\\\n",
       "\t23 & 1           & 0           & 0           & 0           & 0           & 1           & 1           & 0           & 24          & 14.54       & ...         &  86.7142857 & 0.70252167  & 0.8303238   & 0.9112300   & 0.008757424 & 0.31940147  & 0.64015879  & 0.008001707 & 0.02368061  & 591449.107 \\\\\n",
       "\t24 & 0           & 0           & 0           & 0           & 0           & 1           & 1           & 0           & 25          & 15.76       & ...         &   0.0000000 & 0.00000000  & 0.0000000   & 0.0000000   & 0.000000000 & 0.00000000  & 0.00000000  & 0.000000000 & 0.00000000  &      0.000 \\\\\n",
       "\t25 & 1           & 0           & 0           & 0           & 0           & 1           & 1           & 0           & 23          &  0.00       & ...         &  94.0000000 & 0.48678858  & 0.4067936   & 0.8434439   & 0.283581666 & 0.25178275  & 0.41057885  & 0.017239179 & 0.03681756  & 118946.964 \\\\\n",
       "\t26 & 1           & 0           & 0           & 1           & 0           & 0           & 0           & 0           & 25          &  5.96       & ...         &  18.1428571 & 0.94880546  & 0.1489110   & 0.7283381   & 0.176136364 & 0.05089962  & 0.69105114  & 0.063920455 & 0.01799242  &  23977.500 \\\\\n",
       "\t27 & 1           & 0           & 0           & 0           & 0           & 1           & 1           & 0           & 46          & 15.68       & ...         &   7.1428571 & 0.64287492  & 1.2191791   & 1.2191791   & 0.000000000 & 0.20484030  & 0.78377968  & 0.000000000 & 0.01138002  &  42430.893 \\\\\n",
       "\t28 & 1           & 0           & 0           & 1           & 0           & 0           & 0           & 1           & 29          &  0.00       & ...         &   0.0000000 & 0.00000000  & 0.0000000   & 0.0000000   & 0.000000000 & 0.00000000  & 0.00000000  & 0.000000000 & 0.00000000  &      0.000 \\\\\n",
       "\t29 & 0           & 0           & 0           & 0           & 0           & 1           & 1           & 0           & 27          & 14.46       & ...         &  25.7142857 & 0.59310369  & 0.6282394   & 0.7348873   & 0.120224791 & 0.07803819  & 0.43586436  & 0.348272559 & 0.01760010  & 140160.357 \\\\\n",
       "\t30 & 1           & 0           & 0           & 0           & 0           & 1           & 1           & 0           & 45          &  5.82       & ...         &   0.0000000 & 0.00000000  & 0.0000000   & 0.0000000   & 0.000000000 & 0.00000000  & 0.00000000  & 0.000000000 & 0.00000000  &      0.000 \\\\\n",
       "\t31 & 0           & 0           & 0           & 0           & 0           & 1           & 1           & 0           & 23          &  0.00       & ...         &   0.0000000 & 0.00000000  & 0.0000000   & 0.0000000   & 0.000000000 & 0.00000000  & 0.00000000  & 0.000000000 & 0.00000000  &      0.000 \\\\\n",
       "\t... & ... & ... & ... & ... & ... & ... & ... & ... & ... & ... &     & ... & ... & ... & ... & ... & ... & ... & ... & ... & ...\\\\\n",
       "\t3577 & 1            & 0            & 0            & 0            & 0            & 1            & 1            & 0            & 22           &  5.46        & ...          &   0.000000   & 0.00000000   & 0.0000000    & 0.0000000    & 0.000000000  & 0.0000000    & 0.000000000  & 0.00000000   & 0.000000000  & 0.000000e+00\\\\\n",
       "\t3578 & 0            & 0            & 0            & 0            & 0            & 1            & 1            & 0            & 32           & 14.78        & ...          &   0.000000   & 0.00000000   & 0.0000000    & 0.0000000    & 0.000000000  & 0.0000000    & 0.000000000  & 0.00000000   & 0.000000000  & 0.000000e+00\\\\\n",
       "\t3579 & 0            & 0            & 0            & 0            & 0            & 1            & 1            & 0            & 27           &  5.48        & ...          &   0.000000   & 0.00000000   & 0.0000000    & 0.0000000    & 0.000000000  & 0.0000000    & 0.000000000  & 0.00000000   & 0.000000000  & 0.000000e+00\\\\\n",
       "\t3580 & 0            & 0            & 0            & 0            & 0            & 0            & 0            & 0            & 30           & 14.36        & ...          &   9.285714   & 1.29750000   & 0.4746835    & 0.6329114    & 0.014240506  & 0.0000000    & 0.821202532  & 0.10126582   & 0.063291139  & 1.065804e+04\\\\\n",
       "\t3581 & 0            & 0            & 0            & 0            & 0            & 1            & 1            & 0            & 29           &  0.00        & ...          &   8.571429   & 0.70126110   & 0.7765531    & 0.9540406    & 0.067087330  & 0.2446309    & 0.669031566  & 0.00185375   & 0.017396422  & 6.863036e+05\\\\\n",
       "\t3582 & 1            & 0            & 0            & 1            & 0            & 0            & 0            & 1            & 22           &  0.00        & ...          &   0.000000   & 0.00000000   & 0.0000000    & 0.0000000    & 0.000000000  & 0.0000000    & 0.000000000  & 0.00000000   & 0.000000000  & 0.000000e+00\\\\\n",
       "\t3583 & 1            & 0            & 0            & 0            & 0            & 1            & 1            & 0            & 23           &  0.00        & ...          &   1.428571   & 0.00877193   & 0.4149982    & 0.4149982    & 0.594830724  & 0.3567528    & 0.003640335  & 0.00000000   & 0.044776119  & 4.107143e+01\\\\\n",
       "\t3584 & 0            & 0            & 0            & 0            & 0            & 1            & 1            & 0            & 49           & 16.72        & ...          &   0.000000   & 0.00000000   & 0.0000000    & 0.0000000    & 0.000000000  & 0.0000000    & 0.000000000  & 0.00000000   & 0.000000000  & 0.000000e+00\\\\\n",
       "\t3585 & 0            & 0            & 0            & 0            & 0            & 1            & 1            & 0            & 31           &  0.00        & ...          & 586.285714   & 0.43435691   & 0.8484682    & 0.9102680    & 0.085814464  & 0.4657996    & 0.395381180  & 0.04221186   & 0.010792917  & 8.290268e+04\\\\\n",
       "\t3586 & 1            & 0            & 0            & 0            & 1            & 0            & 0            & 1            & 25           &  0.00        & ...          &   0.000000   & 0.00000000   & 0.0000000    & 0.0000000    & 0.000000000  & 0.0000000    & 0.000000000  & 0.00000000   & 0.000000000  & 0.000000e+00\\\\\n",
       "\t3587 & 1            & 0            & 0            & 0            & 0            & 1            & 1            & 0            & 25           & 14.20        & ...          &   0.000000   & 0.00000000   & 0.0000000    & 0.0000000    & 0.000000000  & 0.0000000    & 0.000000000  & 0.00000000   & 0.000000000  & 0.000000e+00\\\\\n",
       "\t3588 & 1            & 0            & 0            & 0            & 0            & 0            & 0            & 1            & 28           &  0.00        & ...          &   0.000000   & 0.00000000   & 0.0000000    & 0.0000000    & 0.000000000  & 0.0000000    & 0.000000000  & 0.00000000   & 0.000000000  & 0.000000e+00\\\\\n",
       "\t3589 & 0            & 0            & 0            & 0            & 0            & 1            & 1            & 0            & 25           & 14.94        & ...          &   0.000000   & 0.00000000   & 0.0000000    & 0.0000000    & 0.000000000  & 0.0000000    & 0.000000000  & 0.00000000   & 0.000000000  & 0.000000e+00\\\\\n",
       "\t3590 & 1            & 0            & 0            & 0            & 0            & 1            & 1            & 0            & 26           & 14.75        & ...          & 919.857143   & 3.51797386   & 0.2692477    & 0.2692477    & 0.000000000  & 0.0000000    & 0.947206335  & 0.00000000   & 0.052793665  & 4.421339e+04\\\\\n",
       "\t3591 & 1            & 0            & 0            & 0            & 0            & 1            & 1            & 0            & 31           & 15.22        & ...          &  90.000000   & 0.00000000   & 0.0000000    & 0.0000000    & 0.000000000  & 0.0000000    & 1.000000000  & 0.00000000   & 0.000000000  & 2.587500e+03\\\\\n",
       "\t3592 & 0            & 0            & 0            & 0            & 0            & 1            & 1            & 0            & 27           & 13.60        & ...          & 302.714286   & 0.68767349   & 0.6858111    & 0.8372950    & 0.098478272  & 0.2512482    & 0.575785553  & 0.05610138   & 0.018386592  & 5.148550e+05\\\\\n",
       "\t3593 & 0            & 1            & 0            & 0            & 0            & 0            & 0            & 0            & 33           & 14.54        & ...          &  31.428571   & 0.55606736   & 0.6857968    & 1.1602432    & 0.000022100  & 0.1984008    & 0.645173367  & 0.15125981   & 0.005143889  & 1.797836e+06\\\\\n",
       "\t3594 & 0            & 0            & 0            & 1            & 0            & 0            & 0            & 1            & 37           &  0.00        & ...          &  18.571429   & 0.42626718   & 0.5119433    & 0.9742442    & 0.008346193  & 0.4553457    & 0.415288313  & 0.06179226   & 0.059227542  & 7.847518e+04\\\\\n",
       "\t3595 & 1            & 0            & 0            & 0            & 0            & 1            & 1            & 0            & 73           & 12.30        & ...          &   0.000000   & 0.00000000   & 0.0000000    & 0.0000000    & 0.000000000  & 0.0000000    & 0.000000000  & 0.00000000   & 0.000000000  & 0.000000e+00\\\\\n",
       "\t3596 & 1            & 0            & 0            & 0            & 0            & 1            & 1            & 0            & 22           & 14.32        & ...          &   0.000000   & 0.00000000   & 0.0000000    & 0.0000000    & 0.000000000  & 0.0000000    & 0.000000000  & 0.00000000   & 0.000000000  & 0.000000e+00\\\\\n",
       "\t3597 & 0            & 0            & 1            & 0            & 0            & 0            & 0            & 1            & 33           &  0.00        & ...          &   0.000000   & 0.00000000   & 0.0000000    & 0.0000000    & 0.000000000  & 0.0000000    & 0.000000000  & 0.00000000   & 0.000000000  & 0.000000e+00\\\\\n",
       "\t3598 & 1            & 0            & 0            & 0            & 0            & 1            & 1            & 0            & 29           & 15.22        & ...          &   0.000000   & 0.00000000   & 0.0000000    & 0.0000000    & 0.000000000  & 0.0000000    & 0.000000000  & 0.00000000   & 0.000000000  & 0.000000e+00\\\\\n",
       "\t3599 & 0            & 0            & 0            & 1            & 0            & 0            & 0            & 1            & 30           &  0.00        & ...          &  45.571429   & 0.03442154   & 0.6709751    & 1.6593803    & 0.041056833  & 0.8786352    & 0.057118419  & 0.00000000   & 0.023189508  & 2.468393e+03\\\\\n",
       "\t3600 & 0            & 0            & 0            & 0            & 0            & 1            & 1            & 0            & 33           & 15.08        & ...          &   0.000000   & 0.00000000   & 0.0000000    & 0.0000000    & 0.000000000  & 0.0000000    & 0.000000000  & 0.00000000   & 0.000000000  & 0.000000e+00\\\\\n",
       "\t3601 & 0            & 0            & 0            & 0            & 0            & 1            & 1            & 0            & 26           & 14.94        & ...          &   0.000000   & 0.00000000   & 0.0000000    & 0.0000000    & 0.000000000  & 0.0000000    & 0.000000000  & 0.00000000   & 0.000000000  & 0.000000e+00\\\\\n",
       "\t3602 & 1            & 0            & 0            & 0            & 0            & 1            & 1            & 0            & 26           &  0.00        & ...          &   0.000000   & 0.00000000   & 0.0000000    & 0.0000000    & 0.000000000  & 0.0000000    & 0.000000000  & 0.00000000   & 0.000000000  & 0.000000e+00\\\\\n",
       "\t3603 & 0            & 0            & 0            & 0            & 0            & 0            & 0            & 1            & 27           &  0.00        & ...          &   5.000000   & 0.76986581   & 0.6673409    & 0.6806220    & 0.124637326  & 0.1056352    & 0.523987577  & 0.23497201   & 0.010767848  & 1.053277e+05\\\\\n",
       "\t3604 & 1            & 0            & 0            & 0            & 1            & 0            & 0            & 1            & 24           &  0.00        & ...          &   2.571429   & 0.22689741   & 0.2628681    & 0.7375490    & 0.003754067  & 0.5314090    & 0.167347960  & 0.28697756   & 0.010511387  & 8.238929e+03\\\\\n",
       "\t3605 & 1            & 0            & 0            & 0            & 0            & 1            & 1            & 0            & 26           & 14.68        & ...          &   0.000000   & 0.00000000   & 0.0000000    & 0.0000000    & 0.000000000  & 0.0000000    & 0.000000000  & 0.00000000   & 0.000000000  & 0.000000e+00\\\\\n",
       "\t3606 & 1            & 0            & 0            & 0            & 0            & 1            & 1            & 0            & 25           & 14.32        & ...          &   0.000000   & 0.00000000   & 0.0000000    & 0.0000000    & 0.000000000  & 0.0000000    & 0.000000000  & 0.00000000   & 0.000000000  & 0.000000e+00\\\\\n",
       "\\end{tabular}\n"
      ],
      "text/markdown": [
       "\n",
       "| <!--/--> | def | inc_brac4 | inc_brac3 | inc_brac2 | inc_brac1 | income_missing | kin_missing | credit_score_m | age | credit_score_avg | ... | avg_min_sent | s_rec_r | rec_exp_r | inc_exp_r | t_exp_r | w_exp_r | s_exp_r | p_exp_r | a_exp_r | total_sent | \n",
       "|---|---|---|---|---|---|---|---|---|---|---|---|---|---|---|---|---|---|---|---|---|---|---|---|---|---|---|---|---|---|---|---|---|---|---|---|---|---|---|---|---|---|---|---|---|---|---|---|---|---|---|---|---|---|---|---|---|---|---|---|---|\n",
       "| 2 | 1           | 0           | 0           | 0           | 1           | 0           | 0           | 1           | 26          |  0.00       | ...         |   2.0000000 | 0.49689653  | 0.4201884   | 0.5553565   | 0.430692397 | 0.25459382  | 0.27595473  | 0.027142198 | 0.01161686  |  41757.321  | \n",
       "| 3 | 0           | 0           | 0           | 0           | 0           | 1           | 1           | 0           | 29          | 16.06       | ...         |   0.0000000 | 0.00000000  | 0.0000000   | 0.0000000   | 0.000000000 | 0.00000000  | 0.00000000  | 0.000000000 | 0.00000000  |      0.000  | \n",
       "| 4 | 1           | 0           | 0           | 0           | 0           | 1           | 1           | 0           | 46          |  0.00       | ...         |   0.0000000 | 0.00000000  | 0.0000000   | 0.0000000   | 0.000000000 | 0.00000000  | 0.00000000  | 0.000000000 | 0.00000000  |      0.000  | \n",
       "| 5 | 0           | 0           | 0           | 0           | 1           | 0           | 0           | 1           | 47          |  0.00       | ...         |   0.0000000 | 0.00000000  | 0.0000000   | 0.0000000   | 0.000000000 | 0.00000000  | 0.00000000  | 0.000000000 | 0.00000000  |      0.000  | \n",
       "| 6 | 0           | 0           | 0           | 0           | 0           | 0           | 0           | 1           | 29          |  0.00       | ...         | 294.2857143 | 0.09039052  | 0.6893527   | 0.6893527   | 0.000000000 | 0.93768905  | 0.06231095  | 0.000000000 | 0.00000000  |   8460.714  | \n",
       "| 7 | 1           | 0           | 0           | 0           | 0           | 1           | 1           | 0           | 23          | 14.32       | ...         |   0.0000000 | 0.00000000  | 0.0000000   | 0.0000000   | 0.000000000 | 0.00000000  | 0.00000000  | 0.000000000 | 0.00000000  |      0.000  | \n",
       "| 8 | 1           | 0           | 0           | 0           | 1           | 0           | 0           | 1           | 21          |  0.00       | ...         |  82.4285714 | 0.13037241  | 1.2357361   | 1.3093058   | 0.004539407 | 0.74962824  | 0.17069735  | 0.038350160 | 0.03678485  |   8957.679  | \n",
       "| 9 | 1           | 0           | 0           | 0           | 0           | 1           | 1           | 0           | 24          |  0.00       | ...         |   0.0000000 | 0.00000000  | 0.0000000   | 0.0000000   | 0.000000000 | 0.00000000  | 0.00000000  | 0.000000000 | 0.00000000  |      0.000  | \n",
       "| 10 | 0           | 0           | 0           | 0           | 0           | 1           | 1           | 0           | 26          | 14.36       | ...         | 108.4285714 | 0.62567010  | 0.6014946   | 0.9822387   | 0.072604654 | 0.26004010  | 0.61455739  | 0.040666707 | 0.01213115  | 124631.250  | \n",
       "| 11 | 1           | 0           | 0           | 0           | 0           | 1           | 1           | 0           | 23          |  0.00       | ...         |   0.0000000 | 0.00000000  | 0.0000000   | 0.0000000   | 0.000000000 | 0.00000000  | 0.00000000  | 0.000000000 | 0.00000000  |      0.000  | \n",
       "| 12 | 0           | 0           | 0           | 0           | 1           | 0           | 0           | 1           | 21          |  0.00       | ...         |   7.1428571 | 0.48078873  | 0.2661840   | 1.2599375   | 0.000000000 | 0.24134015  | 0.60576377  | 0.124503123 | 0.02839296  |  35050.357  | \n",
       "| 13 | 1           | 0           | 0           | 0           | 0           | 1           | 1           | 0           | 37          | 10.04       | ...         |   0.0000000 | 0.00000000  | 0.0000000   | 0.0000000   | 0.000000000 | 0.00000000  | 0.00000000  | 0.000000000 | 0.00000000  |      0.000  | \n",
       "| 14 | 1           | 0           | 0           | 0           | 1           | 0           | 0           | 1           | 47          |  0.00       | ...         |   7.1428571 | 0.59343167  | 0.5437695   | 0.7029387   | 0.102621177 | 0.27545684  | 0.41714608  | 0.191706834 | 0.01306906  | 209357.500  | \n",
       "| 15 | 1           | 0           | 0           | 0           | 0           | 1           | 1           | 0           | 23          |  0.00       | ...         |   0.0000000 | 0.00000000  | 0.0000000   | 0.0000000   | 0.000000000 | 0.00000000  | 0.00000000  | 0.000000000 | 0.00000000  |      0.000  | \n",
       "| 16 | 1           | 0           | 0           | 0           | 0           | 1           | 1           | 0           | 24          |  0.00       | ...         |   0.0000000 | 0.00000000  | 0.0000000   | 0.0000000   | 0.000000000 | 0.00000000  | 0.00000000  | 0.000000000 | 0.00000000  |      0.000  | \n",
       "| 17 | 0           | 0           | 0           | 0           | 0           | 0           | 0           | 1           | 31          |  0.00       | ...         |   0.0000000 | 0.00000000  | 0.0000000   | 0.0000000   | 0.000000000 | 0.00000000  | 0.00000000  | 0.000000000 | 0.00000000  |      0.000  | \n",
       "| 18 | 1           | 0           | 0           | 0           | 0           | 1           | 1           | 0           | 22          | 13.60       | ...         |  18.2857143 | 0.22782814  | 0.6992801   | 0.8301702   | 0.081151832 | 0.63808900  | 0.18913613  | 0.075261780 | 0.01636126  |   2373.929  | \n",
       "| 19 | 1           | 0           | 0           | 0           | 0           | 1           | 1           | 0           | 34          | 15.14       | ...         |   0.7142857 | 0.28094340  | 0.6653360   | 1.1754269   | 0.643158128 | 0.00000000  | 0.33022843  | 0.000000000 | 0.02661344  |   6115.536  | \n",
       "| 20 | 1           | 0           | 0           | 0           | 0           | 1           | 1           | 0           | 31          | 14.54       | ...         |   0.0000000 | 0.00000000  | 0.0000000   | 0.0000000   | 0.000000000 | 0.00000000  | 0.00000000  | 0.000000000 | 0.00000000  |      0.000  | \n",
       "| 21 | 1           | 0           | 0           | 0           | 0           | 1           | 1           | 0           | 32          |  0.00       | ...         |   0.0000000 | 0.00000000  | 0.0000000   | 0.0000000   | 0.000000000 | 0.00000000  | 0.00000000  | 0.000000000 | 0.00000000  |      0.000  | \n",
       "| 22 | 1           | 0           | 0           | 0           | 0           | 1           | 1           | 0           | 27          |  0.00       | ...         |   0.0000000 | 0.00000000  | 0.0000000   | 0.0000000   | 0.000000000 | 0.00000000  | 0.00000000  | 0.000000000 | 0.00000000  |      0.000  | \n",
       "| 23 | 1           | 0           | 0           | 0           | 0           | 1           | 1           | 0           | 24          | 14.54       | ...         |  86.7142857 | 0.70252167  | 0.8303238   | 0.9112300   | 0.008757424 | 0.31940147  | 0.64015879  | 0.008001707 | 0.02368061  | 591449.107  | \n",
       "| 24 | 0           | 0           | 0           | 0           | 0           | 1           | 1           | 0           | 25          | 15.76       | ...         |   0.0000000 | 0.00000000  | 0.0000000   | 0.0000000   | 0.000000000 | 0.00000000  | 0.00000000  | 0.000000000 | 0.00000000  |      0.000  | \n",
       "| 25 | 1           | 0           | 0           | 0           | 0           | 1           | 1           | 0           | 23          |  0.00       | ...         |  94.0000000 | 0.48678858  | 0.4067936   | 0.8434439   | 0.283581666 | 0.25178275  | 0.41057885  | 0.017239179 | 0.03681756  | 118946.964  | \n",
       "| 26 | 1           | 0           | 0           | 1           | 0           | 0           | 0           | 0           | 25          |  5.96       | ...         |  18.1428571 | 0.94880546  | 0.1489110   | 0.7283381   | 0.176136364 | 0.05089962  | 0.69105114  | 0.063920455 | 0.01799242  |  23977.500  | \n",
       "| 27 | 1           | 0           | 0           | 0           | 0           | 1           | 1           | 0           | 46          | 15.68       | ...         |   7.1428571 | 0.64287492  | 1.2191791   | 1.2191791   | 0.000000000 | 0.20484030  | 0.78377968  | 0.000000000 | 0.01138002  |  42430.893  | \n",
       "| 28 | 1           | 0           | 0           | 1           | 0           | 0           | 0           | 1           | 29          |  0.00       | ...         |   0.0000000 | 0.00000000  | 0.0000000   | 0.0000000   | 0.000000000 | 0.00000000  | 0.00000000  | 0.000000000 | 0.00000000  |      0.000  | \n",
       "| 29 | 0           | 0           | 0           | 0           | 0           | 1           | 1           | 0           | 27          | 14.46       | ...         |  25.7142857 | 0.59310369  | 0.6282394   | 0.7348873   | 0.120224791 | 0.07803819  | 0.43586436  | 0.348272559 | 0.01760010  | 140160.357  | \n",
       "| 30 | 1           | 0           | 0           | 0           | 0           | 1           | 1           | 0           | 45          |  5.82       | ...         |   0.0000000 | 0.00000000  | 0.0000000   | 0.0000000   | 0.000000000 | 0.00000000  | 0.00000000  | 0.000000000 | 0.00000000  |      0.000  | \n",
       "| 31 | 0           | 0           | 0           | 0           | 0           | 1           | 1           | 0           | 23          |  0.00       | ...         |   0.0000000 | 0.00000000  | 0.0000000   | 0.0000000   | 0.000000000 | 0.00000000  | 0.00000000  | 0.000000000 | 0.00000000  |      0.000  | \n",
       "| ... | ... | ... | ... | ... | ... | ... | ... | ... | ... | ... |     | ... | ... | ... | ... | ... | ... | ... | ... | ... | ... | \n",
       "| 3577 | 1            | 0            | 0            | 0            | 0            | 1            | 1            | 0            | 22           |  5.46        | ...          |   0.000000   | 0.00000000   | 0.0000000    | 0.0000000    | 0.000000000  | 0.0000000    | 0.000000000  | 0.00000000   | 0.000000000  | 0.000000e+00 | \n",
       "| 3578 | 0            | 0            | 0            | 0            | 0            | 1            | 1            | 0            | 32           | 14.78        | ...          |   0.000000   | 0.00000000   | 0.0000000    | 0.0000000    | 0.000000000  | 0.0000000    | 0.000000000  | 0.00000000   | 0.000000000  | 0.000000e+00 | \n",
       "| 3579 | 0            | 0            | 0            | 0            | 0            | 1            | 1            | 0            | 27           |  5.48        | ...          |   0.000000   | 0.00000000   | 0.0000000    | 0.0000000    | 0.000000000  | 0.0000000    | 0.000000000  | 0.00000000   | 0.000000000  | 0.000000e+00 | \n",
       "| 3580 | 0            | 0            | 0            | 0            | 0            | 0            | 0            | 0            | 30           | 14.36        | ...          |   9.285714   | 1.29750000   | 0.4746835    | 0.6329114    | 0.014240506  | 0.0000000    | 0.821202532  | 0.10126582   | 0.063291139  | 1.065804e+04 | \n",
       "| 3581 | 0            | 0            | 0            | 0            | 0            | 1            | 1            | 0            | 29           |  0.00        | ...          |   8.571429   | 0.70126110   | 0.7765531    | 0.9540406    | 0.067087330  | 0.2446309    | 0.669031566  | 0.00185375   | 0.017396422  | 6.863036e+05 | \n",
       "| 3582 | 1            | 0            | 0            | 1            | 0            | 0            | 0            | 1            | 22           |  0.00        | ...          |   0.000000   | 0.00000000   | 0.0000000    | 0.0000000    | 0.000000000  | 0.0000000    | 0.000000000  | 0.00000000   | 0.000000000  | 0.000000e+00 | \n",
       "| 3583 | 1            | 0            | 0            | 0            | 0            | 1            | 1            | 0            | 23           |  0.00        | ...          |   1.428571   | 0.00877193   | 0.4149982    | 0.4149982    | 0.594830724  | 0.3567528    | 0.003640335  | 0.00000000   | 0.044776119  | 4.107143e+01 | \n",
       "| 3584 | 0            | 0            | 0            | 0            | 0            | 1            | 1            | 0            | 49           | 16.72        | ...          |   0.000000   | 0.00000000   | 0.0000000    | 0.0000000    | 0.000000000  | 0.0000000    | 0.000000000  | 0.00000000   | 0.000000000  | 0.000000e+00 | \n",
       "| 3585 | 0            | 0            | 0            | 0            | 0            | 1            | 1            | 0            | 31           |  0.00        | ...          | 586.285714   | 0.43435691   | 0.8484682    | 0.9102680    | 0.085814464  | 0.4657996    | 0.395381180  | 0.04221186   | 0.010792917  | 8.290268e+04 | \n",
       "| 3586 | 1            | 0            | 0            | 0            | 1            | 0            | 0            | 1            | 25           |  0.00        | ...          |   0.000000   | 0.00000000   | 0.0000000    | 0.0000000    | 0.000000000  | 0.0000000    | 0.000000000  | 0.00000000   | 0.000000000  | 0.000000e+00 | \n",
       "| 3587 | 1            | 0            | 0            | 0            | 0            | 1            | 1            | 0            | 25           | 14.20        | ...          |   0.000000   | 0.00000000   | 0.0000000    | 0.0000000    | 0.000000000  | 0.0000000    | 0.000000000  | 0.00000000   | 0.000000000  | 0.000000e+00 | \n",
       "| 3588 | 1            | 0            | 0            | 0            | 0            | 0            | 0            | 1            | 28           |  0.00        | ...          |   0.000000   | 0.00000000   | 0.0000000    | 0.0000000    | 0.000000000  | 0.0000000    | 0.000000000  | 0.00000000   | 0.000000000  | 0.000000e+00 | \n",
       "| 3589 | 0            | 0            | 0            | 0            | 0            | 1            | 1            | 0            | 25           | 14.94        | ...          |   0.000000   | 0.00000000   | 0.0000000    | 0.0000000    | 0.000000000  | 0.0000000    | 0.000000000  | 0.00000000   | 0.000000000  | 0.000000e+00 | \n",
       "| 3590 | 1            | 0            | 0            | 0            | 0            | 1            | 1            | 0            | 26           | 14.75        | ...          | 919.857143   | 3.51797386   | 0.2692477    | 0.2692477    | 0.000000000  | 0.0000000    | 0.947206335  | 0.00000000   | 0.052793665  | 4.421339e+04 | \n",
       "| 3591 | 1            | 0            | 0            | 0            | 0            | 1            | 1            | 0            | 31           | 15.22        | ...          |  90.000000   | 0.00000000   | 0.0000000    | 0.0000000    | 0.000000000  | 0.0000000    | 1.000000000  | 0.00000000   | 0.000000000  | 2.587500e+03 | \n",
       "| 3592 | 0            | 0            | 0            | 0            | 0            | 1            | 1            | 0            | 27           | 13.60        | ...          | 302.714286   | 0.68767349   | 0.6858111    | 0.8372950    | 0.098478272  | 0.2512482    | 0.575785553  | 0.05610138   | 0.018386592  | 5.148550e+05 | \n",
       "| 3593 | 0            | 1            | 0            | 0            | 0            | 0            | 0            | 0            | 33           | 14.54        | ...          |  31.428571   | 0.55606736   | 0.6857968    | 1.1602432    | 0.000022100  | 0.1984008    | 0.645173367  | 0.15125981   | 0.005143889  | 1.797836e+06 | \n",
       "| 3594 | 0            | 0            | 0            | 1            | 0            | 0            | 0            | 1            | 37           |  0.00        | ...          |  18.571429   | 0.42626718   | 0.5119433    | 0.9742442    | 0.008346193  | 0.4553457    | 0.415288313  | 0.06179226   | 0.059227542  | 7.847518e+04 | \n",
       "| 3595 | 1            | 0            | 0            | 0            | 0            | 1            | 1            | 0            | 73           | 12.30        | ...          |   0.000000   | 0.00000000   | 0.0000000    | 0.0000000    | 0.000000000  | 0.0000000    | 0.000000000  | 0.00000000   | 0.000000000  | 0.000000e+00 | \n",
       "| 3596 | 1            | 0            | 0            | 0            | 0            | 1            | 1            | 0            | 22           | 14.32        | ...          |   0.000000   | 0.00000000   | 0.0000000    | 0.0000000    | 0.000000000  | 0.0000000    | 0.000000000  | 0.00000000   | 0.000000000  | 0.000000e+00 | \n",
       "| 3597 | 0            | 0            | 1            | 0            | 0            | 0            | 0            | 1            | 33           |  0.00        | ...          |   0.000000   | 0.00000000   | 0.0000000    | 0.0000000    | 0.000000000  | 0.0000000    | 0.000000000  | 0.00000000   | 0.000000000  | 0.000000e+00 | \n",
       "| 3598 | 1            | 0            | 0            | 0            | 0            | 1            | 1            | 0            | 29           | 15.22        | ...          |   0.000000   | 0.00000000   | 0.0000000    | 0.0000000    | 0.000000000  | 0.0000000    | 0.000000000  | 0.00000000   | 0.000000000  | 0.000000e+00 | \n",
       "| 3599 | 0            | 0            | 0            | 1            | 0            | 0            | 0            | 1            | 30           |  0.00        | ...          |  45.571429   | 0.03442154   | 0.6709751    | 1.6593803    | 0.041056833  | 0.8786352    | 0.057118419  | 0.00000000   | 0.023189508  | 2.468393e+03 | \n",
       "| 3600 | 0            | 0            | 0            | 0            | 0            | 1            | 1            | 0            | 33           | 15.08        | ...          |   0.000000   | 0.00000000   | 0.0000000    | 0.0000000    | 0.000000000  | 0.0000000    | 0.000000000  | 0.00000000   | 0.000000000  | 0.000000e+00 | \n",
       "| 3601 | 0            | 0            | 0            | 0            | 0            | 1            | 1            | 0            | 26           | 14.94        | ...          |   0.000000   | 0.00000000   | 0.0000000    | 0.0000000    | 0.000000000  | 0.0000000    | 0.000000000  | 0.00000000   | 0.000000000  | 0.000000e+00 | \n",
       "| 3602 | 1            | 0            | 0            | 0            | 0            | 1            | 1            | 0            | 26           |  0.00        | ...          |   0.000000   | 0.00000000   | 0.0000000    | 0.0000000    | 0.000000000  | 0.0000000    | 0.000000000  | 0.00000000   | 0.000000000  | 0.000000e+00 | \n",
       "| 3603 | 0            | 0            | 0            | 0            | 0            | 0            | 0            | 1            | 27           |  0.00        | ...          |   5.000000   | 0.76986581   | 0.6673409    | 0.6806220    | 0.124637326  | 0.1056352    | 0.523987577  | 0.23497201   | 0.010767848  | 1.053277e+05 | \n",
       "| 3604 | 1            | 0            | 0            | 0            | 1            | 0            | 0            | 1            | 24           |  0.00        | ...          |   2.571429   | 0.22689741   | 0.2628681    | 0.7375490    | 0.003754067  | 0.5314090    | 0.167347960  | 0.28697756   | 0.010511387  | 8.238929e+03 | \n",
       "| 3605 | 1            | 0            | 0            | 0            | 0            | 1            | 1            | 0            | 26           | 14.68        | ...          |   0.000000   | 0.00000000   | 0.0000000    | 0.0000000    | 0.000000000  | 0.0000000    | 0.000000000  | 0.00000000   | 0.000000000  | 0.000000e+00 | \n",
       "| 3606 | 1            | 0            | 0            | 0            | 0            | 1            | 1            | 0            | 25           | 14.32        | ...          |   0.000000   | 0.00000000   | 0.0000000    | 0.0000000    | 0.000000000  | 0.0000000    | 0.000000000  | 0.00000000   | 0.000000000  | 0.000000e+00 | \n",
       "\n",
       "\n"
      ],
      "text/plain": [
       "     def inc_brac4 inc_brac3 inc_brac2 inc_brac1 income_missing kin_missing\n",
       "2    1   0         0         0         1         0              0          \n",
       "3    0   0         0         0         0         1              1          \n",
       "4    1   0         0         0         0         1              1          \n",
       "5    0   0         0         0         1         0              0          \n",
       "6    0   0         0         0         0         0              0          \n",
       "7    1   0         0         0         0         1              1          \n",
       "8    1   0         0         0         1         0              0          \n",
       "9    1   0         0         0         0         1              1          \n",
       "10   0   0         0         0         0         1              1          \n",
       "11   1   0         0         0         0         1              1          \n",
       "12   0   0         0         0         1         0              0          \n",
       "13   1   0         0         0         0         1              1          \n",
       "14   1   0         0         0         1         0              0          \n",
       "15   1   0         0         0         0         1              1          \n",
       "16   1   0         0         0         0         1              1          \n",
       "17   0   0         0         0         0         0              0          \n",
       "18   1   0         0         0         0         1              1          \n",
       "19   1   0         0         0         0         1              1          \n",
       "20   1   0         0         0         0         1              1          \n",
       "21   1   0         0         0         0         1              1          \n",
       "22   1   0         0         0         0         1              1          \n",
       "23   1   0         0         0         0         1              1          \n",
       "24   0   0         0         0         0         1              1          \n",
       "25   1   0         0         0         0         1              1          \n",
       "26   1   0         0         1         0         0              0          \n",
       "27   1   0         0         0         0         1              1          \n",
       "28   1   0         0         1         0         0              0          \n",
       "29   0   0         0         0         0         1              1          \n",
       "30   1   0         0         0         0         1              1          \n",
       "31   0   0         0         0         0         1              1          \n",
       "...  ... ...       ...       ...       ...       ...            ...        \n",
       "3577 1   0         0         0         0         1              1          \n",
       "3578 0   0         0         0         0         1              1          \n",
       "3579 0   0         0         0         0         1              1          \n",
       "3580 0   0         0         0         0         0              0          \n",
       "3581 0   0         0         0         0         1              1          \n",
       "3582 1   0         0         1         0         0              0          \n",
       "3583 1   0         0         0         0         1              1          \n",
       "3584 0   0         0         0         0         1              1          \n",
       "3585 0   0         0         0         0         1              1          \n",
       "3586 1   0         0         0         1         0              0          \n",
       "3587 1   0         0         0         0         1              1          \n",
       "3588 1   0         0         0         0         0              0          \n",
       "3589 0   0         0         0         0         1              1          \n",
       "3590 1   0         0         0         0         1              1          \n",
       "3591 1   0         0         0         0         1              1          \n",
       "3592 0   0         0         0         0         1              1          \n",
       "3593 0   1         0         0         0         0              0          \n",
       "3594 0   0         0         1         0         0              0          \n",
       "3595 1   0         0         0         0         1              1          \n",
       "3596 1   0         0         0         0         1              1          \n",
       "3597 0   0         1         0         0         0              0          \n",
       "3598 1   0         0         0         0         1              1          \n",
       "3599 0   0         0         1         0         0              0          \n",
       "3600 0   0         0         0         0         1              1          \n",
       "3601 0   0         0         0         0         1              1          \n",
       "3602 1   0         0         0         0         1              1          \n",
       "3603 0   0         0         0         0         0              0          \n",
       "3604 1   0         0         0         1         0              0          \n",
       "3605 1   0         0         0         0         1              1          \n",
       "3606 1   0         0         0         0         1              1          \n",
       "     credit_score_m age credit_score_avg ... avg_min_sent s_rec_r    rec_exp_r\n",
       "2    1              26   0.00            ...   2.0000000  0.49689653 0.4201884\n",
       "3    0              29  16.06            ...   0.0000000  0.00000000 0.0000000\n",
       "4    0              46   0.00            ...   0.0000000  0.00000000 0.0000000\n",
       "5    1              47   0.00            ...   0.0000000  0.00000000 0.0000000\n",
       "6    1              29   0.00            ... 294.2857143  0.09039052 0.6893527\n",
       "7    0              23  14.32            ...   0.0000000  0.00000000 0.0000000\n",
       "8    1              21   0.00            ...  82.4285714  0.13037241 1.2357361\n",
       "9    0              24   0.00            ...   0.0000000  0.00000000 0.0000000\n",
       "10   0              26  14.36            ... 108.4285714  0.62567010 0.6014946\n",
       "11   0              23   0.00            ...   0.0000000  0.00000000 0.0000000\n",
       "12   1              21   0.00            ...   7.1428571  0.48078873 0.2661840\n",
       "13   0              37  10.04            ...   0.0000000  0.00000000 0.0000000\n",
       "14   1              47   0.00            ...   7.1428571  0.59343167 0.5437695\n",
       "15   0              23   0.00            ...   0.0000000  0.00000000 0.0000000\n",
       "16   0              24   0.00            ...   0.0000000  0.00000000 0.0000000\n",
       "17   1              31   0.00            ...   0.0000000  0.00000000 0.0000000\n",
       "18   0              22  13.60            ...  18.2857143  0.22782814 0.6992801\n",
       "19   0              34  15.14            ...   0.7142857  0.28094340 0.6653360\n",
       "20   0              31  14.54            ...   0.0000000  0.00000000 0.0000000\n",
       "21   0              32   0.00            ...   0.0000000  0.00000000 0.0000000\n",
       "22   0              27   0.00            ...   0.0000000  0.00000000 0.0000000\n",
       "23   0              24  14.54            ...  86.7142857  0.70252167 0.8303238\n",
       "24   0              25  15.76            ...   0.0000000  0.00000000 0.0000000\n",
       "25   0              23   0.00            ...  94.0000000  0.48678858 0.4067936\n",
       "26   0              25   5.96            ...  18.1428571  0.94880546 0.1489110\n",
       "27   0              46  15.68            ...   7.1428571  0.64287492 1.2191791\n",
       "28   1              29   0.00            ...   0.0000000  0.00000000 0.0000000\n",
       "29   0              27  14.46            ...  25.7142857  0.59310369 0.6282394\n",
       "30   0              45   5.82            ...   0.0000000  0.00000000 0.0000000\n",
       "31   0              23   0.00            ...   0.0000000  0.00000000 0.0000000\n",
       "...  ...            ... ...                  ...          ...        ...      \n",
       "3577 0              22   5.46            ...   0.000000   0.00000000 0.0000000\n",
       "3578 0              32  14.78            ...   0.000000   0.00000000 0.0000000\n",
       "3579 0              27   5.48            ...   0.000000   0.00000000 0.0000000\n",
       "3580 0              30  14.36            ...   9.285714   1.29750000 0.4746835\n",
       "3581 0              29   0.00            ...   8.571429   0.70126110 0.7765531\n",
       "3582 1              22   0.00            ...   0.000000   0.00000000 0.0000000\n",
       "3583 0              23   0.00            ...   1.428571   0.00877193 0.4149982\n",
       "3584 0              49  16.72            ...   0.000000   0.00000000 0.0000000\n",
       "3585 0              31   0.00            ... 586.285714   0.43435691 0.8484682\n",
       "3586 1              25   0.00            ...   0.000000   0.00000000 0.0000000\n",
       "3587 0              25  14.20            ...   0.000000   0.00000000 0.0000000\n",
       "3588 1              28   0.00            ...   0.000000   0.00000000 0.0000000\n",
       "3589 0              25  14.94            ...   0.000000   0.00000000 0.0000000\n",
       "3590 0              26  14.75            ... 919.857143   3.51797386 0.2692477\n",
       "3591 0              31  15.22            ...  90.000000   0.00000000 0.0000000\n",
       "3592 0              27  13.60            ... 302.714286   0.68767349 0.6858111\n",
       "3593 0              33  14.54            ...  31.428571   0.55606736 0.6857968\n",
       "3594 1              37   0.00            ...  18.571429   0.42626718 0.5119433\n",
       "3595 0              73  12.30            ...   0.000000   0.00000000 0.0000000\n",
       "3596 0              22  14.32            ...   0.000000   0.00000000 0.0000000\n",
       "3597 1              33   0.00            ...   0.000000   0.00000000 0.0000000\n",
       "3598 0              29  15.22            ...   0.000000   0.00000000 0.0000000\n",
       "3599 1              30   0.00            ...  45.571429   0.03442154 0.6709751\n",
       "3600 0              33  15.08            ...   0.000000   0.00000000 0.0000000\n",
       "3601 0              26  14.94            ...   0.000000   0.00000000 0.0000000\n",
       "3602 0              26   0.00            ...   0.000000   0.00000000 0.0000000\n",
       "3603 1              27   0.00            ...   5.000000   0.76986581 0.6673409\n",
       "3604 1              24   0.00            ...   2.571429   0.22689741 0.2628681\n",
       "3605 0              26  14.68            ...   0.000000   0.00000000 0.0000000\n",
       "3606 0              25  14.32            ...   0.000000   0.00000000 0.0000000\n",
       "     inc_exp_r t_exp_r     w_exp_r    s_exp_r     p_exp_r     a_exp_r    \n",
       "2    0.5553565 0.430692397 0.25459382 0.27595473  0.027142198 0.01161686 \n",
       "3    0.0000000 0.000000000 0.00000000 0.00000000  0.000000000 0.00000000 \n",
       "4    0.0000000 0.000000000 0.00000000 0.00000000  0.000000000 0.00000000 \n",
       "5    0.0000000 0.000000000 0.00000000 0.00000000  0.000000000 0.00000000 \n",
       "6    0.6893527 0.000000000 0.93768905 0.06231095  0.000000000 0.00000000 \n",
       "7    0.0000000 0.000000000 0.00000000 0.00000000  0.000000000 0.00000000 \n",
       "8    1.3093058 0.004539407 0.74962824 0.17069735  0.038350160 0.03678485 \n",
       "9    0.0000000 0.000000000 0.00000000 0.00000000  0.000000000 0.00000000 \n",
       "10   0.9822387 0.072604654 0.26004010 0.61455739  0.040666707 0.01213115 \n",
       "11   0.0000000 0.000000000 0.00000000 0.00000000  0.000000000 0.00000000 \n",
       "12   1.2599375 0.000000000 0.24134015 0.60576377  0.124503123 0.02839296 \n",
       "13   0.0000000 0.000000000 0.00000000 0.00000000  0.000000000 0.00000000 \n",
       "14   0.7029387 0.102621177 0.27545684 0.41714608  0.191706834 0.01306906 \n",
       "15   0.0000000 0.000000000 0.00000000 0.00000000  0.000000000 0.00000000 \n",
       "16   0.0000000 0.000000000 0.00000000 0.00000000  0.000000000 0.00000000 \n",
       "17   0.0000000 0.000000000 0.00000000 0.00000000  0.000000000 0.00000000 \n",
       "18   0.8301702 0.081151832 0.63808900 0.18913613  0.075261780 0.01636126 \n",
       "19   1.1754269 0.643158128 0.00000000 0.33022843  0.000000000 0.02661344 \n",
       "20   0.0000000 0.000000000 0.00000000 0.00000000  0.000000000 0.00000000 \n",
       "21   0.0000000 0.000000000 0.00000000 0.00000000  0.000000000 0.00000000 \n",
       "22   0.0000000 0.000000000 0.00000000 0.00000000  0.000000000 0.00000000 \n",
       "23   0.9112300 0.008757424 0.31940147 0.64015879  0.008001707 0.02368061 \n",
       "24   0.0000000 0.000000000 0.00000000 0.00000000  0.000000000 0.00000000 \n",
       "25   0.8434439 0.283581666 0.25178275 0.41057885  0.017239179 0.03681756 \n",
       "26   0.7283381 0.176136364 0.05089962 0.69105114  0.063920455 0.01799242 \n",
       "27   1.2191791 0.000000000 0.20484030 0.78377968  0.000000000 0.01138002 \n",
       "28   0.0000000 0.000000000 0.00000000 0.00000000  0.000000000 0.00000000 \n",
       "29   0.7348873 0.120224791 0.07803819 0.43586436  0.348272559 0.01760010 \n",
       "30   0.0000000 0.000000000 0.00000000 0.00000000  0.000000000 0.00000000 \n",
       "31   0.0000000 0.000000000 0.00000000 0.00000000  0.000000000 0.00000000 \n",
       "...  ...       ...         ...        ...         ...         ...        \n",
       "3577 0.0000000 0.000000000 0.0000000  0.000000000 0.00000000  0.000000000\n",
       "3578 0.0000000 0.000000000 0.0000000  0.000000000 0.00000000  0.000000000\n",
       "3579 0.0000000 0.000000000 0.0000000  0.000000000 0.00000000  0.000000000\n",
       "3580 0.6329114 0.014240506 0.0000000  0.821202532 0.10126582  0.063291139\n",
       "3581 0.9540406 0.067087330 0.2446309  0.669031566 0.00185375  0.017396422\n",
       "3582 0.0000000 0.000000000 0.0000000  0.000000000 0.00000000  0.000000000\n",
       "3583 0.4149982 0.594830724 0.3567528  0.003640335 0.00000000  0.044776119\n",
       "3584 0.0000000 0.000000000 0.0000000  0.000000000 0.00000000  0.000000000\n",
       "3585 0.9102680 0.085814464 0.4657996  0.395381180 0.04221186  0.010792917\n",
       "3586 0.0000000 0.000000000 0.0000000  0.000000000 0.00000000  0.000000000\n",
       "3587 0.0000000 0.000000000 0.0000000  0.000000000 0.00000000  0.000000000\n",
       "3588 0.0000000 0.000000000 0.0000000  0.000000000 0.00000000  0.000000000\n",
       "3589 0.0000000 0.000000000 0.0000000  0.000000000 0.00000000  0.000000000\n",
       "3590 0.2692477 0.000000000 0.0000000  0.947206335 0.00000000  0.052793665\n",
       "3591 0.0000000 0.000000000 0.0000000  1.000000000 0.00000000  0.000000000\n",
       "3592 0.8372950 0.098478272 0.2512482  0.575785553 0.05610138  0.018386592\n",
       "3593 1.1602432 0.000022100 0.1984008  0.645173367 0.15125981  0.005143889\n",
       "3594 0.9742442 0.008346193 0.4553457  0.415288313 0.06179226  0.059227542\n",
       "3595 0.0000000 0.000000000 0.0000000  0.000000000 0.00000000  0.000000000\n",
       "3596 0.0000000 0.000000000 0.0000000  0.000000000 0.00000000  0.000000000\n",
       "3597 0.0000000 0.000000000 0.0000000  0.000000000 0.00000000  0.000000000\n",
       "3598 0.0000000 0.000000000 0.0000000  0.000000000 0.00000000  0.000000000\n",
       "3599 1.6593803 0.041056833 0.8786352  0.057118419 0.00000000  0.023189508\n",
       "3600 0.0000000 0.000000000 0.0000000  0.000000000 0.00000000  0.000000000\n",
       "3601 0.0000000 0.000000000 0.0000000  0.000000000 0.00000000  0.000000000\n",
       "3602 0.0000000 0.000000000 0.0000000  0.000000000 0.00000000  0.000000000\n",
       "3603 0.6806220 0.124637326 0.1056352  0.523987577 0.23497201  0.010767848\n",
       "3604 0.7375490 0.003754067 0.5314090  0.167347960 0.28697756  0.010511387\n",
       "3605 0.0000000 0.000000000 0.0000000  0.000000000 0.00000000  0.000000000\n",
       "3606 0.0000000 0.000000000 0.0000000  0.000000000 0.00000000  0.000000000\n",
       "     total_sent  \n",
       "2     41757.321  \n",
       "3         0.000  \n",
       "4         0.000  \n",
       "5         0.000  \n",
       "6      8460.714  \n",
       "7         0.000  \n",
       "8      8957.679  \n",
       "9         0.000  \n",
       "10   124631.250  \n",
       "11        0.000  \n",
       "12    35050.357  \n",
       "13        0.000  \n",
       "14   209357.500  \n",
       "15        0.000  \n",
       "16        0.000  \n",
       "17        0.000  \n",
       "18     2373.929  \n",
       "19     6115.536  \n",
       "20        0.000  \n",
       "21        0.000  \n",
       "22        0.000  \n",
       "23   591449.107  \n",
       "24        0.000  \n",
       "25   118946.964  \n",
       "26    23977.500  \n",
       "27    42430.893  \n",
       "28        0.000  \n",
       "29   140160.357  \n",
       "30        0.000  \n",
       "31        0.000  \n",
       "...  ...         \n",
       "3577 0.000000e+00\n",
       "3578 0.000000e+00\n",
       "3579 0.000000e+00\n",
       "3580 1.065804e+04\n",
       "3581 6.863036e+05\n",
       "3582 0.000000e+00\n",
       "3583 4.107143e+01\n",
       "3584 0.000000e+00\n",
       "3585 8.290268e+04\n",
       "3586 0.000000e+00\n",
       "3587 0.000000e+00\n",
       "3588 0.000000e+00\n",
       "3589 0.000000e+00\n",
       "3590 4.421339e+04\n",
       "3591 2.587500e+03\n",
       "3592 5.148550e+05\n",
       "3593 1.797836e+06\n",
       "3594 7.847518e+04\n",
       "3595 0.000000e+00\n",
       "3596 0.000000e+00\n",
       "3597 0.000000e+00\n",
       "3598 0.000000e+00\n",
       "3599 2.468393e+03\n",
       "3600 0.000000e+00\n",
       "3601 0.000000e+00\n",
       "3602 0.000000e+00\n",
       "3603 1.053277e+05\n",
       "3604 8.238929e+03\n",
       "3605 0.000000e+00\n",
       "3606 0.000000e+00"
      ]
     },
     "metadata": {},
     "output_type": "display_data"
    }
   ],
   "source": [
    "final_dataset"
   ]
  },
  {
   "cell_type": "markdown",
   "metadata": {},
   "source": [
    "# Variable Selection"
   ]
  },
  {
   "cell_type": "markdown",
   "metadata": {},
   "source": [
    "### Variable Ranking Using Boruta"
   ]
  },
  {
   "cell_type": "code",
   "execution_count": 32,
   "metadata": {},
   "outputs": [],
   "source": [
    "#Variable Ranking with Boruta\n",
    "set.seed(1245)\n",
    "rank_vars_bo <- Boruta(def~.,data = final_dataset,maxRuns=11,doTrace=1)"
   ]
  },
  {
   "cell_type": "code",
   "execution_count": 34,
   "metadata": {},
   "outputs": [
    {
     "data": {
      "text/plain": [
       "Boruta performed 10 iterations in 2.039783 mins.\n",
       " No attributes deemed important.\n",
       " No attributes deemed unimportant.\n",
       " 36 tentative attributes left: a_exp_r, a_inc_r, age, airtime_max_avg,\n",
       "airtime_min_avg and 31 more;"
      ]
     },
     "metadata": {},
     "output_type": "display_data"
    }
   ],
   "source": [
    "rank_vars_bo"
   ]
  },
  {
   "cell_type": "code",
   "execution_count": 36,
   "metadata": {},
   "outputs": [
    {
     "data": {
      "text/plain": [
       "Boruta performed 10 iterations in 2.039783 mins.\n",
       "Tentatives roughfixed over the last 10 iterations.\n",
       " 10 attributes confirmed important: a_inc_r, airtime_max_avg,\n",
       "airtime_min_avg, avg_min_paybill, d_inc_r and 5 more;\n",
       " 26 attributes confirmed unimportant: a_exp_r, age, avg_min_sent,\n",
       "avg_min_transfered, avg_min_withdrawals and 21 more;"
      ]
     },
     "metadata": {},
     "output_type": "display_data"
    }
   ],
   "source": [
    "#Completing Boruta Ranking\n",
    "final_bor <-TentativeRoughFix(rank_vars_bo)\n",
    "final_bor"
   ]
  },
  {
   "cell_type": "code",
   "execution_count": 37,
   "metadata": {},
   "outputs": [],
   "source": [
    "#Getting the final fitting variables\n",
    "finalfitting_vars_bo <- getSelectedAttributes(final_bor)"
   ]
  },
  {
   "cell_type": "code",
   "execution_count": 38,
   "metadata": {},
   "outputs": [
    {
     "data": {
      "text/html": [
       "<ol class=list-inline>\n",
       "\t<li>'monthly_deposit_avg'</li>\n",
       "\t<li>'min_rec_avg'</li>\n",
       "\t<li>'rec_inc_r'</li>\n",
       "\t<li>'d_inc_r'</li>\n",
       "\t<li>'airtime_min_avg'</li>\n",
       "\t<li>'airtime_max_avg'</li>\n",
       "\t<li>'a_inc_r'</li>\n",
       "\t<li>'avg_min_paybill'</li>\n",
       "\t<li>'p_inc_r'</li>\n",
       "\t<li>'w_exp_r'</li>\n",
       "</ol>\n"
      ],
      "text/latex": [
       "\\begin{enumerate*}\n",
       "\\item 'monthly\\_deposit\\_avg'\n",
       "\\item 'min\\_rec\\_avg'\n",
       "\\item 'rec\\_inc\\_r'\n",
       "\\item 'd\\_inc\\_r'\n",
       "\\item 'airtime\\_min\\_avg'\n",
       "\\item 'airtime\\_max\\_avg'\n",
       "\\item 'a\\_inc\\_r'\n",
       "\\item 'avg\\_min\\_paybill'\n",
       "\\item 'p\\_inc\\_r'\n",
       "\\item 'w\\_exp\\_r'\n",
       "\\end{enumerate*}\n"
      ],
      "text/markdown": [
       "1. 'monthly_deposit_avg'\n",
       "2. 'min_rec_avg'\n",
       "3. 'rec_inc_r'\n",
       "4. 'd_inc_r'\n",
       "5. 'airtime_min_avg'\n",
       "6. 'airtime_max_avg'\n",
       "7. 'a_inc_r'\n",
       "8. 'avg_min_paybill'\n",
       "9. 'p_inc_r'\n",
       "10. 'w_exp_r'\n",
       "\n",
       "\n"
      ],
      "text/plain": [
       " [1] \"monthly_deposit_avg\" \"min_rec_avg\"         \"rec_inc_r\"          \n",
       " [4] \"d_inc_r\"             \"airtime_min_avg\"     \"airtime_max_avg\"    \n",
       " [7] \"a_inc_r\"             \"avg_min_paybill\"     \"p_inc_r\"            \n",
       "[10] \"w_exp_r\"            "
      ]
     },
     "metadata": {},
     "output_type": "display_data"
    }
   ],
   "source": [
    "finalfitting_vars_bo"
   ]
  },
  {
   "cell_type": "markdown",
   "metadata": {},
   "source": [
    "### creating a dataframe of the important variables + Response"
   ]
  },
  {
   "cell_type": "code",
   "execution_count": 44,
   "metadata": {},
   "outputs": [],
   "source": [
    "final_data_set_bo<-c('def',finalfitting_vars_bo)\n",
    "data_imp <- final_dataset[,final_data_set_bo]\n",
    "#data_imp"
   ]
  },
  {
   "cell_type": "markdown",
   "metadata": {},
   "source": [
    "# Variable Ranking Using Random Forest"
   ]
  },
  {
   "cell_type": "code",
   "execution_count": 29,
   "metadata": {
    "scrolled": true
   },
   "outputs": [
    {
     "data": {},
     "metadata": {},
     "output_type": "display_data"
    },
    {
     "data": {
      "image/png": "[encoded data removed]",
      "text/plain": [
       "plot without title"
      ]
     },
     "metadata": {},
     "output_type": "display_data"
    }
   ],
   "source": [
    "set.seed(189)\n",
    "rf_var_imp<-train(def~.,data=final_dataset,method='rf',metric='Accuracy',\n",
    "                 trControl=trainControl(method=\"cv\",number=5))\n",
    "final_data_set_rf=varImp(rf_var_imp)\n",
    "plot(final_data_set_rf)"
   ]
  },
  {
   "cell_type": "code",
   "execution_count": 45,
   "metadata": {},
   "outputs": [],
   "source": [
    "#Removing the least important variables with random forest\n",
    "final_data_set_rf<-subset(final_dataset, select=-c\n",
    "                          (inc_brac4,credit_score_m,\n",
    "                           income_missing,kin_missing,\n",
    "                           inc_brac1,inc_brac2,inc_brac3))"
   ]
  },
  {
   "cell_type": "markdown",
   "metadata": {},
   "source": [
    "# Model Training"
   ]
  },
  {
   "cell_type": "markdown",
   "metadata": {},
   "source": [
    "#### Creating the training and testing dataset"
   ]
  },
  {
   "cell_type": "code",
   "execution_count": 47,
   "metadata": {},
   "outputs": [],
   "source": [
    "index<- createDataPartition(final_data_set_rf$def,p=.8,list=F)\n",
    "training_data_set<-final_data_set_rf[index,]\n",
    "testing_data_set<-final_data_set_rf[-index,]"
   ]
  },
  {
   "cell_type": "code",
   "execution_count": 48,
   "metadata": {},
   "outputs": [
    {
     "data": {
      "text/html": [
       "<dl class=dl-horizontal>\n",
       "\t<dt>0</dt>\n",
       "\t\t<dd>273</dd>\n",
       "\t<dt>1</dt>\n",
       "\t\t<dd>447</dd>\n",
       "</dl>\n"
      ],
      "text/latex": [
       "\\begin{description*}\n",
       "\\item[0] 273\n",
       "\\item[1] 447\n",
       "\\end{description*}\n"
      ],
      "text/markdown": [
       "0\n",
       ":   2731\n",
       ":   447\n",
       "\n"
      ],
      "text/plain": [
       "  0   1 \n",
       "273 447 "
      ]
     },
     "metadata": {},
     "output_type": "display_data"
    }
   ],
   "source": [
    "#Checking for Imbalance\n",
    "summary(testing_data_set$def)"
   ]
  },
  {
   "cell_type": "code",
   "execution_count": 50,
   "metadata": {},
   "outputs": [],
   "source": [
    "#Recording the response with characters\n",
    "levels(training_data_set$def) <-c('non_defaulter','defaulter')\n",
    "#Recording the response with characters\n",
    "levels(testing_data_set$def) <-c('non_defaulter','defaulter')"
   ]
  },
  {
   "cell_type": "markdown",
   "metadata": {},
   "source": [
    "# Model Fitting"
   ]
  },
  {
   "cell_type": "code",
   "execution_count": 51,
   "metadata": {},
   "outputs": [],
   "source": [
    "#Model Fitting\n",
    "contrl=trainControl(method='repeatedcv',number=5,repeats=3,p=.80,\n",
    "                   classProbs=T,savePredictions='final',\n",
    "                   preProcOptions=c('center','scaling'),\n",
    "                   summaryFunction=twoClassSummary)"
   ]
  },
  {
   "cell_type": "code",
   "execution_count": 52,
   "metadata": {},
   "outputs": [],
   "source": [
    "set.seed(565)\n",
    "fit<- train(def~.,data=training_data_set,preProcess='scale',\n",
    "            method='rf',metric='ROC',maximise =T,\n",
    "           sampling='up',trControl=contrl,ntree=1000,tunelength=5)"
   ]
  },
  {
   "cell_type": "markdown",
   "metadata": {},
   "source": [
    "# Model Evaluation"
   ]
  },
  {
   "cell_type": "code",
   "execution_count": 53,
   "metadata": {},
   "outputs": [
    {
     "data": {
      "text/plain": [
       "Confusion Matrix and Statistics\n",
       "\n",
       "               Reference\n",
       "Prediction      non_defaulter defaulter\n",
       "  non_defaulter            85        77\n",
       "  defaulter               188       370\n",
       "                                          \n",
       "               Accuracy : 0.6319          \n",
       "                 95% CI : (0.5955, 0.6673)\n",
       "    No Information Rate : 0.6208          \n",
       "    P-Value [Acc > NIR] : 0.283           \n",
       "                                          \n",
       "                  Kappa : 0.151           \n",
       " Mcnemar's Test P-Value : 1.406e-11       \n",
       "                                          \n",
       "            Sensitivity : 0.3114          \n",
       "            Specificity : 0.8277          \n",
       "         Pos Pred Value : 0.5247          \n",
       "         Neg Pred Value : 0.6631          \n",
       "             Prevalence : 0.3792          \n",
       "         Detection Rate : 0.1181          \n",
       "   Detection Prevalence : 0.2250          \n",
       "      Balanced Accuracy : 0.5695          \n",
       "                                          \n",
       "       'Positive' Class : non_defaulter   \n",
       "                                          "
      ]
     },
     "metadata": {},
     "output_type": "display_data"
    }
   ],
   "source": [
    "#Prediction\n",
    "pred <-predict(fit,newdata=testing_data_set,type='raw')\n",
    "confusionMatrix(data=pred,reference=testing_data_set$def)"
   ]
  },
  {
   "cell_type": "markdown",
   "metadata": {},
   "source": [
    "# Visualizing One of the RF Trees"
   ]
  },
  {
   "cell_type": "code",
   "execution_count": null,
   "metadata": {},
   "outputs": [],
   "source": [
    "#library(partykit)\n",
    "x<-ctree(def~.,\n",
    "        data=training_data_set)"
   ]
  },
  {
   "cell_type": "code",
   "execution_count": null,
   "metadata": {},
   "outputs": [],
   "source": [
    "plot(x,gp=gpar(fontsize=10),\n",
    "    inner_panel=node_inner,\n",
    "    ip_args=list(abbreviate= FALSE, id = FALSE))"
   ]
  },
  {
   "cell_type": "code",
   "execution_count": 38,
   "metadata": {},
   "outputs": [
    {
     "name": "stdout",
     "output_type": "stream",
     "text": [
      "Random Forest \n",
      "\n",
      "2885 samples\n",
      "  35 predictor\n",
      "   2 classes: 'non_defaulter', 'defaulter' \n",
      "\n",
      "Pre-processing: scaled (35) \n",
      "Resampling: Cross-Validated (5 fold, repeated 3 times) \n",
      "Summary of sample sizes: 2308, 2309, 2307, 2308, 2308, 2308, ... \n",
      "Addtional sampling using up-sampling prior to pre-processing\n",
      "\n",
      "Resampling results across tuning parameters:\n",
      "\n",
      "  mtry  ROC        Sens       Spec     \n",
      "   2    0.6428539  0.4084101  0.7810656\n",
      "  18    0.6157532  0.4835533  0.6804511\n",
      "  35    0.5978633  0.5136640  0.6245596\n",
      "\n",
      "ROC was used to select the optimal model using the largest value.\n",
      "The final value used for the model was mtry = 2.\n"
     ]
    }
   ],
   "source": [
    "print(fit)"
   ]
  },
  {
   "cell_type": "markdown",
   "metadata": {},
   "source": [
    "# Tuning The Model"
   ]
  },
  {
   "cell_type": "code",
   "execution_count": 55,
   "metadata": {},
   "outputs": [
    {
     "name": "stdout",
     "output_type": "stream",
     "text": [
      "Random Forest \n",
      "\n",
      "2885 samples\n",
      "  29 predictor\n",
      "   2 classes: 'non_defaulter', 'defaulter' \n",
      "\n",
      "No pre-processing\n",
      "Resampling: Cross-Validated (5 fold, repeated 3 times) \n",
      "Summary of sample sizes: 2308, 2308, 2308, 2308, 2308, 2308, ... \n",
      "Resampling results across tuning parameters:\n",
      "\n",
      "  mtry  ROC        Sens       Spec     \n",
      "   2    0.6269453  0.3077958  0.8295302\n",
      "  15    0.6300950  0.3324312  0.8015790\n",
      "  29    0.6122698  0.4078650  0.7203334\n",
      "\n",
      "ROC was used to select the optimal model using the largest value.\n",
      "The final value used for the model was mtry = 15.\n"
     ]
    }
   ],
   "source": [
    "#Tuning the mTry parameter\n",
    "set.seed(1004)\n",
    "tuneGrid <-expand.grid(.mTry= c(1:5))\n",
    "rf_mtry <- train(def~.,\n",
    "                data =training_data_set,\n",
    "                method = 'rf',\n",
    "                metric ='ROC',\n",
    "                maximise= T,\n",
    "                tuneGrind =tuneGrid,\n",
    "                trControl =contrl\n",
    "                )\n",
    "print(rf_mtry)"
   ]
  },
  {
   "cell_type": "code",
   "execution_count": 54,
   "metadata": {},
   "outputs": [
    {
     "ename": "ERROR",
     "evalue": "Error in plot(rf_mtry): object 'rf_mtry' not found\n",
     "output_type": "error",
     "traceback": [
      "Error in plot(rf_mtry): object 'rf_mtry' not found\nTraceback:\n",
      "1. plot(rf_mtry)"
     ]
    }
   ],
   "source": [
    "plot(rf_mtry)"
   ]
  },
  {
   "cell_type": "code",
   "execution_count": 40,
   "metadata": {},
   "outputs": [
    {
     "data": {
      "text/plain": [
       "\n",
       "Call:\n",
       "summary.resamples(object = results_tree)\n",
       "\n",
       "Models: 300, 400, 500, 600, 700 \n",
       "Number of resamples: 15 \n",
       "\n",
       "ROC \n",
       "         Min.   1st Qu.    Median      Mean   3rd Qu.      Max. NA's\n",
       "300 0.6070190 0.6262563 0.6395819 0.6408661 0.6494284 0.6868001    0\n",
       "400 0.6067766 0.6311287 0.6388230 0.6412532 0.6493779 0.6885539    0\n",
       "500 0.6090023 0.6320151 0.6387528 0.6418587 0.6510055 0.6876993    0\n",
       "600 0.6085878 0.6322575 0.6381470 0.6416706 0.6507024 0.6879034    0\n",
       "700 0.6099526 0.6321841 0.6373921 0.6414782 0.6500898 0.6876547    0\n",
       "\n",
       "Sens \n",
       "         Min.   1st Qu.    Median      Mean   3rd Qu.      Max. NA's\n",
       "300 0.3333333 0.3767123 0.4018265 0.3989941 0.4246575 0.4636364    0\n",
       "400 0.3424658 0.3767123 0.4063927 0.3968659 0.4155251 0.4590909    0\n",
       "500 0.3378995 0.3789954 0.4018265 0.3983838 0.4178082 0.4681818    0\n",
       "600 0.3424658 0.3721461 0.3972603 0.3986841 0.4223744 0.4681818    0\n",
       "700 0.3470320 0.3698630 0.4018265 0.4014197 0.4223744 0.4727273    0\n",
       "\n",
       "Spec \n",
       "         Min.   1st Qu.    Median      Mean   3rd Qu.      Max. NA's\n",
       "300 0.7234637 0.7723464 0.7905028 0.7835036 0.7986088 0.8179272    0\n",
       "400 0.7402235 0.7723464 0.7849162 0.7825699 0.7986049 0.8151261    0\n",
       "500 0.7402235 0.7709497 0.7821229 0.7816388 0.8002793 0.8207283    0\n",
       "600 0.7402235 0.7695531 0.7849162 0.7810791 0.7972004 0.8207283    0\n",
       "700 0.7346369 0.7667598 0.7821229 0.7792169 0.7974860 0.8207283    0\n"
      ]
     },
     "metadata": {},
     "output_type": "display_data"
    }
   ],
   "source": [
    "#Finding the best Tree\n",
    "store_maxtrees <-list()\n",
    "for (ntree in c(300,400,500,600,700)){\n",
    "    set.seed(50038)\n",
    "    rf_maxtrees <- train(def~.,\n",
    "                        data = training_data_set,\n",
    "                        method=\"rf\",\n",
    "                        metric=\"ROC\",\n",
    "                        tuneGrid= expand.grid(.mtry=2),\n",
    "                        trControl = contrl,\n",
    "                        importance = TRUE,\n",
    "                        ntree = ntree)\n",
    "    key<- toString(ntree)\n",
    "    store_maxtrees[[key]] <-rf_maxtrees}\n",
    "results_tree<-resamples(store_maxtrees)\n",
    "summary(results_tree)"
   ]
  },
  {
   "cell_type": "code",
   "execution_count": 56,
   "metadata": {},
   "outputs": [],
   "source": [
    "#Fitting the Final Model\n",
    "final_fit<- train(def~.,data=training_data_set,preProcess='scale',\n",
    "                  method='rf',metric='ROC',\n",
    "           maximise =T,\n",
    "           trControl=contrl,\n",
    "            ntree=500,\n",
    "            tuneGrid = expand.grid(.mtry = 2),\n",
    "            tunelength = 5)"
   ]
  },
  {
   "cell_type": "code",
   "execution_count": 59,
   "metadata": {},
   "outputs": [
    {
     "data": {
      "text/plain": [
       "Random Forest \n",
       "\n",
       "2885 samples\n",
       "  29 predictor\n",
       "   2 classes: 'non_defaulter', 'defaulter' \n",
       "\n",
       "Pre-processing: scaled (29) \n",
       "Resampling: Cross-Validated (5 fold, repeated 3 times) \n",
       "Summary of sample sizes: 2307, 2308, 2308, 2309, 2308, 2308, ... \n",
       "Resampling results:\n",
       "\n",
       "  ROC        Sens       Spec     \n",
       "  0.6269474  0.3047461  0.8205556\n",
       "\n",
       "Tuning parameter 'mtry' was held constant at a value of 2"
      ]
     },
     "metadata": {},
     "output_type": "display_data"
    }
   ],
   "source": [
    "final_fit"
   ]
  },
  {
   "cell_type": "code",
   "execution_count": 57,
   "metadata": {},
   "outputs": [
    {
     "data": {
      "text/plain": [
       "Confusion Matrix and Statistics\n",
       "\n",
       "               Reference\n",
       "Prediction      non_defaulter defaulter\n",
       "  non_defaulter            83        71\n",
       "  defaulter               190       376\n",
       "                                          \n",
       "               Accuracy : 0.6375          \n",
       "                 95% CI : (0.6012, 0.6727)\n",
       "    No Information Rate : 0.6208          \n",
       "    P-Value [Acc > NIR] : 0.1887          \n",
       "                                          \n",
       "                  Kappa : 0.1587          \n",
       " Mcnemar's Test P-Value : 2.793e-13       \n",
       "                                          \n",
       "            Sensitivity : 0.3040          \n",
       "            Specificity : 0.8412          \n",
       "         Pos Pred Value : 0.5390          \n",
       "         Neg Pred Value : 0.6643          \n",
       "             Prevalence : 0.3792          \n",
       "         Detection Rate : 0.1153          \n",
       "   Detection Prevalence : 0.2139          \n",
       "      Balanced Accuracy : 0.5726          \n",
       "                                          \n",
       "       'Positive' Class : non_defaulter   \n",
       "                                          "
      ]
     },
     "metadata": {},
     "output_type": "display_data"
    }
   ],
   "source": [
    "pred <- predict(final_fit, newdata= testing_data_set,type=\"raw\")\n",
    "confusionMatrix(data=pred, reference=testing_data_set$def)"
   ]
  },
  {
   "cell_type": "code",
   "execution_count": 58,
   "metadata": {},
   "outputs": [],
   "source": [
    "#Saving The Model to be used in the API\n",
    "save(final_fit,file=\"rf_creditscoring_model.RDATA\")"
   ]
  },
  {
   "cell_type": "code",
   "execution_count": null,
   "metadata": {},
   "outputs": [],
   "source": []
  }
 ],
 "metadata": {
  "kernelspec": {
   "display_name": "R",
   "language": "R",
   "name": "ir"
  },
  "language_info": {
   "codemirror_mode": "r",
   "file_extension": ".r",
   "mimetype": "text/x-r-source",
   "name": "R",
   "pygments_lexer": "r",
   "version": "3.4.2"
  }
 },
 "nbformat": 4,
 "nbformat_minor": 2
}
